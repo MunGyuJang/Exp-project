{
  "cells": [
    {
      "cell_type": "markdown",
      "id": "16356899",
      "metadata": {
        "id": "16356899"
      },
      "source": [
        "# 프로젝트 : 번역기를 만들어보자\n",
        "\n",
        "**예전부터 번역기를 한 번 만들어보고 싶었습니다.**\n",
        "\n",
        "## 1. 데이터 준비하기\n",
        "- **데이터 불러오기**\n",
        "- **데이터 전처리**\n",
        "- **데이터 로더 함수 설계하기**\n",
        "\n",
        "## 2. 단어 Level 번역기 만들기\n",
        "- **모델 설계하기**\n",
        "- **모델 훈련하기**\n",
        "\n",
        "## 3. 번역기 성능 확인하기"
      ]
    },
    {
      "cell_type": "code",
      "execution_count": 1,
      "id": "9d43b930",
      "metadata": {
        "id": "9d43b930"
      },
      "outputs": [],
      "source": [
        "from tensorflow.keras.preprocessing.text import Tokenizer\n",
        "from tensorflow.keras.preprocessing.sequence import pad_sequences\n",
        "import pandas as pd\n",
        "import numpy as np\n",
        "import os, re"
      ]
    },
    {
      "cell_type": "markdown",
      "source": [
        "- - -\n",
        "### 데이터 준비하기\n",
        "- **데이터 불러오기**"
      ],
      "metadata": {
        "id": "jB7WNNEXN9G2"
      },
      "id": "jB7WNNEXN9G2"
    },
    {
      "cell_type": "code",
      "source": [
        "from google.colab import drive\n",
        "drive.mount('/content/drive')"
      ],
      "metadata": {
        "colab": {
          "base_uri": "https://localhost:8080/"
        },
        "id": "v0pr1_by_mu2",
        "outputId": "09bc9ff6-114b-4d01-cb81-2ca0db76f751"
      },
      "id": "v0pr1_by_mu2",
      "execution_count": 2,
      "outputs": [
        {
          "output_type": "stream",
          "name": "stdout",
          "text": [
            "Drive already mounted at /content/drive; to attempt to forcibly remount, call drive.mount(\"/content/drive\", force_remount=True).\n"
          ]
        }
      ]
    },
    {
      "cell_type": "code",
      "execution_count": 3,
      "id": "00f575de",
      "metadata": {
        "colab": {
          "base_uri": "https://localhost:8080/",
          "height": 225
        },
        "id": "00f575de",
        "outputId": "ca154508-91af-4820-b2af-d4303aa450f1"
      },
      "outputs": [
        {
          "output_type": "stream",
          "name": "stdout",
          "text": [
            "전체 샘플의 수 : 197463\n"
          ]
        },
        {
          "output_type": "execute_result",
          "data": {
            "text/plain": [
              "                                                      eng  \\\n",
              "39299                                Turn down the radio.   \n",
              "197323  I can't believe that you aren't at least willi...   \n",
              "29170                                 He lost everything.   \n",
              "171880        She seems to have left for Tokyo yesterday.   \n",
              "192291  Do you spend more time with your friends or wi...   \n",
              "\n",
              "                                                      fra  \\\n",
              "39299                                   Baissez la radio.   \n",
              "197323  Je n'arrive pas à croire que vous ne soyez pas...   \n",
              "29170                                    Il a tout perdu.   \n",
              "171880           Elle semble être partie pour Tokyo hier.   \n",
              "192291  Passes-tu davantage de temps avec tes amis ou ...   \n",
              "\n",
              "                                                       cc  \n",
              "39299   CC-BY 2.0 (France) Attribution: tatoeba.org #2...  \n",
              "197323  CC-BY 2.0 (France) Attribution: tatoeba.org #1...  \n",
              "29170   CC-BY 2.0 (France) Attribution: tatoeba.org #1...  \n",
              "171880  CC-BY 2.0 (France) Attribution: tatoeba.org #3...  \n",
              "192291  CC-BY 2.0 (France) Attribution: tatoeba.org #9...  "
            ],
            "text/html": [
              "\n",
              "  <div id=\"df-3b56e496-cef6-4fde-b26b-e7303ef571b7\">\n",
              "    <div class=\"colab-df-container\">\n",
              "      <div>\n",
              "<style scoped>\n",
              "    .dataframe tbody tr th:only-of-type {\n",
              "        vertical-align: middle;\n",
              "    }\n",
              "\n",
              "    .dataframe tbody tr th {\n",
              "        vertical-align: top;\n",
              "    }\n",
              "\n",
              "    .dataframe thead th {\n",
              "        text-align: right;\n",
              "    }\n",
              "</style>\n",
              "<table border=\"1\" class=\"dataframe\">\n",
              "  <thead>\n",
              "    <tr style=\"text-align: right;\">\n",
              "      <th></th>\n",
              "      <th>eng</th>\n",
              "      <th>fra</th>\n",
              "      <th>cc</th>\n",
              "    </tr>\n",
              "  </thead>\n",
              "  <tbody>\n",
              "    <tr>\n",
              "      <th>39299</th>\n",
              "      <td>Turn down the radio.</td>\n",
              "      <td>Baissez la radio.</td>\n",
              "      <td>CC-BY 2.0 (France) Attribution: tatoeba.org #2...</td>\n",
              "    </tr>\n",
              "    <tr>\n",
              "      <th>197323</th>\n",
              "      <td>I can't believe that you aren't at least willi...</td>\n",
              "      <td>Je n'arrive pas à croire que vous ne soyez pas...</td>\n",
              "      <td>CC-BY 2.0 (France) Attribution: tatoeba.org #1...</td>\n",
              "    </tr>\n",
              "    <tr>\n",
              "      <th>29170</th>\n",
              "      <td>He lost everything.</td>\n",
              "      <td>Il a tout perdu.</td>\n",
              "      <td>CC-BY 2.0 (France) Attribution: tatoeba.org #1...</td>\n",
              "    </tr>\n",
              "    <tr>\n",
              "      <th>171880</th>\n",
              "      <td>She seems to have left for Tokyo yesterday.</td>\n",
              "      <td>Elle semble être partie pour Tokyo hier.</td>\n",
              "      <td>CC-BY 2.0 (France) Attribution: tatoeba.org #3...</td>\n",
              "    </tr>\n",
              "    <tr>\n",
              "      <th>192291</th>\n",
              "      <td>Do you spend more time with your friends or wi...</td>\n",
              "      <td>Passes-tu davantage de temps avec tes amis ou ...</td>\n",
              "      <td>CC-BY 2.0 (France) Attribution: tatoeba.org #9...</td>\n",
              "    </tr>\n",
              "  </tbody>\n",
              "</table>\n",
              "</div>\n",
              "      <button class=\"colab-df-convert\" onclick=\"convertToInteractive('df-3b56e496-cef6-4fde-b26b-e7303ef571b7')\"\n",
              "              title=\"Convert this dataframe to an interactive table.\"\n",
              "              style=\"display:none;\">\n",
              "        \n",
              "  <svg xmlns=\"http://www.w3.org/2000/svg\" height=\"24px\"viewBox=\"0 0 24 24\"\n",
              "       width=\"24px\">\n",
              "    <path d=\"M0 0h24v24H0V0z\" fill=\"none\"/>\n",
              "    <path d=\"M18.56 5.44l.94 2.06.94-2.06 2.06-.94-2.06-.94-.94-2.06-.94 2.06-2.06.94zm-11 1L8.5 8.5l.94-2.06 2.06-.94-2.06-.94L8.5 2.5l-.94 2.06-2.06.94zm10 10l.94 2.06.94-2.06 2.06-.94-2.06-.94-.94-2.06-.94 2.06-2.06.94z\"/><path d=\"M17.41 7.96l-1.37-1.37c-.4-.4-.92-.59-1.43-.59-.52 0-1.04.2-1.43.59L10.3 9.45l-7.72 7.72c-.78.78-.78 2.05 0 2.83L4 21.41c.39.39.9.59 1.41.59.51 0 1.02-.2 1.41-.59l7.78-7.78 2.81-2.81c.8-.78.8-2.07 0-2.86zM5.41 20L4 18.59l7.72-7.72 1.47 1.35L5.41 20z\"/>\n",
              "  </svg>\n",
              "      </button>\n",
              "      \n",
              "  <style>\n",
              "    .colab-df-container {\n",
              "      display:flex;\n",
              "      flex-wrap:wrap;\n",
              "      gap: 12px;\n",
              "    }\n",
              "\n",
              "    .colab-df-convert {\n",
              "      background-color: #E8F0FE;\n",
              "      border: none;\n",
              "      border-radius: 50%;\n",
              "      cursor: pointer;\n",
              "      display: none;\n",
              "      fill: #1967D2;\n",
              "      height: 32px;\n",
              "      padding: 0 0 0 0;\n",
              "      width: 32px;\n",
              "    }\n",
              "\n",
              "    .colab-df-convert:hover {\n",
              "      background-color: #E2EBFA;\n",
              "      box-shadow: 0px 1px 2px rgba(60, 64, 67, 0.3), 0px 1px 3px 1px rgba(60, 64, 67, 0.15);\n",
              "      fill: #174EA6;\n",
              "    }\n",
              "\n",
              "    [theme=dark] .colab-df-convert {\n",
              "      background-color: #3B4455;\n",
              "      fill: #D2E3FC;\n",
              "    }\n",
              "\n",
              "    [theme=dark] .colab-df-convert:hover {\n",
              "      background-color: #434B5C;\n",
              "      box-shadow: 0px 1px 3px 1px rgba(0, 0, 0, 0.15);\n",
              "      filter: drop-shadow(0px 1px 2px rgba(0, 0, 0, 0.3));\n",
              "      fill: #FFFFFF;\n",
              "    }\n",
              "  </style>\n",
              "\n",
              "      <script>\n",
              "        const buttonEl =\n",
              "          document.querySelector('#df-3b56e496-cef6-4fde-b26b-e7303ef571b7 button.colab-df-convert');\n",
              "        buttonEl.style.display =\n",
              "          google.colab.kernel.accessAllowed ? 'block' : 'none';\n",
              "\n",
              "        async function convertToInteractive(key) {\n",
              "          const element = document.querySelector('#df-3b56e496-cef6-4fde-b26b-e7303ef571b7');\n",
              "          const dataTable =\n",
              "            await google.colab.kernel.invokeFunction('convertToInteractive',\n",
              "                                                     [key], {});\n",
              "          if (!dataTable) return;\n",
              "\n",
              "          const docLinkHtml = 'Like what you see? Visit the ' +\n",
              "            '<a target=\"_blank\" href=https://colab.research.google.com/notebooks/data_table.ipynb>data table notebook</a>'\n",
              "            + ' to learn more about interactive tables.';\n",
              "          element.innerHTML = '';\n",
              "          dataTable['output_type'] = 'display_data';\n",
              "          await google.colab.output.renderOutput(dataTable, element);\n",
              "          const docLink = document.createElement('div');\n",
              "          docLink.innerHTML = docLinkHtml;\n",
              "          element.appendChild(docLink);\n",
              "        }\n",
              "      </script>\n",
              "    </div>\n",
              "  </div>\n",
              "  "
            ]
          },
          "metadata": {},
          "execution_count": 3
        }
      ],
      "source": [
        "file_path = '/content/drive/MyDrive/Colab Notebooks/exp/translator/fra.txt'\n",
        "lines = pd.read_csv(file_path, names=['eng', 'fra', 'cc'], sep='\\t')\n",
        "\n",
        "print('전체 샘플의 수 :',len(lines))\n",
        "lines.sample(5) #샘플 5개 출력"
      ]
    },
    {
      "cell_type": "markdown",
      "source": [
        "준비된 데이터를 불러옵니다."
      ],
      "metadata": {
        "id": "y0205LdYPekB"
      },
      "id": "y0205LdYPekB"
    },
    {
      "cell_type": "code",
      "execution_count": 4,
      "id": "c3fd3a00",
      "metadata": {
        "colab": {
          "base_uri": "https://localhost:8080/",
          "height": 112
        },
        "id": "c3fd3a00",
        "outputId": "163e016f-a2b9-4de3-f41b-22ffc29313ea"
      },
      "outputs": [
        {
          "output_type": "execute_result",
          "data": {
            "text/plain": [
              "       eng        fra\n",
              "50  Hello!  Bonjour !\n",
              "51  Hello!    Salut !"
            ],
            "text/html": [
              "\n",
              "  <div id=\"df-bb1c42b5-c377-4dc5-a8e8-180ed72d6754\">\n",
              "    <div class=\"colab-df-container\">\n",
              "      <div>\n",
              "<style scoped>\n",
              "    .dataframe tbody tr th:only-of-type {\n",
              "        vertical-align: middle;\n",
              "    }\n",
              "\n",
              "    .dataframe tbody tr th {\n",
              "        vertical-align: top;\n",
              "    }\n",
              "\n",
              "    .dataframe thead th {\n",
              "        text-align: right;\n",
              "    }\n",
              "</style>\n",
              "<table border=\"1\" class=\"dataframe\">\n",
              "  <thead>\n",
              "    <tr style=\"text-align: right;\">\n",
              "      <th></th>\n",
              "      <th>eng</th>\n",
              "      <th>fra</th>\n",
              "    </tr>\n",
              "  </thead>\n",
              "  <tbody>\n",
              "    <tr>\n",
              "      <th>50</th>\n",
              "      <td>Hello!</td>\n",
              "      <td>Bonjour !</td>\n",
              "    </tr>\n",
              "    <tr>\n",
              "      <th>51</th>\n",
              "      <td>Hello!</td>\n",
              "      <td>Salut !</td>\n",
              "    </tr>\n",
              "  </tbody>\n",
              "</table>\n",
              "</div>\n",
              "      <button class=\"colab-df-convert\" onclick=\"convertToInteractive('df-bb1c42b5-c377-4dc5-a8e8-180ed72d6754')\"\n",
              "              title=\"Convert this dataframe to an interactive table.\"\n",
              "              style=\"display:none;\">\n",
              "        \n",
              "  <svg xmlns=\"http://www.w3.org/2000/svg\" height=\"24px\"viewBox=\"0 0 24 24\"\n",
              "       width=\"24px\">\n",
              "    <path d=\"M0 0h24v24H0V0z\" fill=\"none\"/>\n",
              "    <path d=\"M18.56 5.44l.94 2.06.94-2.06 2.06-.94-2.06-.94-.94-2.06-.94 2.06-2.06.94zm-11 1L8.5 8.5l.94-2.06 2.06-.94-2.06-.94L8.5 2.5l-.94 2.06-2.06.94zm10 10l.94 2.06.94-2.06 2.06-.94-2.06-.94-.94-2.06-.94 2.06-2.06.94z\"/><path d=\"M17.41 7.96l-1.37-1.37c-.4-.4-.92-.59-1.43-.59-.52 0-1.04.2-1.43.59L10.3 9.45l-7.72 7.72c-.78.78-.78 2.05 0 2.83L4 21.41c.39.39.9.59 1.41.59.51 0 1.02-.2 1.41-.59l7.78-7.78 2.81-2.81c.8-.78.8-2.07 0-2.86zM5.41 20L4 18.59l7.72-7.72 1.47 1.35L5.41 20z\"/>\n",
              "  </svg>\n",
              "      </button>\n",
              "      \n",
              "  <style>\n",
              "    .colab-df-container {\n",
              "      display:flex;\n",
              "      flex-wrap:wrap;\n",
              "      gap: 12px;\n",
              "    }\n",
              "\n",
              "    .colab-df-convert {\n",
              "      background-color: #E8F0FE;\n",
              "      border: none;\n",
              "      border-radius: 50%;\n",
              "      cursor: pointer;\n",
              "      display: none;\n",
              "      fill: #1967D2;\n",
              "      height: 32px;\n",
              "      padding: 0 0 0 0;\n",
              "      width: 32px;\n",
              "    }\n",
              "\n",
              "    .colab-df-convert:hover {\n",
              "      background-color: #E2EBFA;\n",
              "      box-shadow: 0px 1px 2px rgba(60, 64, 67, 0.3), 0px 1px 3px 1px rgba(60, 64, 67, 0.15);\n",
              "      fill: #174EA6;\n",
              "    }\n",
              "\n",
              "    [theme=dark] .colab-df-convert {\n",
              "      background-color: #3B4455;\n",
              "      fill: #D2E3FC;\n",
              "    }\n",
              "\n",
              "    [theme=dark] .colab-df-convert:hover {\n",
              "      background-color: #434B5C;\n",
              "      box-shadow: 0px 1px 3px 1px rgba(0, 0, 0, 0.15);\n",
              "      filter: drop-shadow(0px 1px 2px rgba(0, 0, 0, 0.3));\n",
              "      fill: #FFFFFF;\n",
              "    }\n",
              "  </style>\n",
              "\n",
              "      <script>\n",
              "        const buttonEl =\n",
              "          document.querySelector('#df-bb1c42b5-c377-4dc5-a8e8-180ed72d6754 button.colab-df-convert');\n",
              "        buttonEl.style.display =\n",
              "          google.colab.kernel.accessAllowed ? 'block' : 'none';\n",
              "\n",
              "        async function convertToInteractive(key) {\n",
              "          const element = document.querySelector('#df-bb1c42b5-c377-4dc5-a8e8-180ed72d6754');\n",
              "          const dataTable =\n",
              "            await google.colab.kernel.invokeFunction('convertToInteractive',\n",
              "                                                     [key], {});\n",
              "          if (!dataTable) return;\n",
              "\n",
              "          const docLinkHtml = 'Like what you see? Visit the ' +\n",
              "            '<a target=\"_blank\" href=https://colab.research.google.com/notebooks/data_table.ipynb>data table notebook</a>'\n",
              "            + ' to learn more about interactive tables.';\n",
              "          element.innerHTML = '';\n",
              "          dataTable['output_type'] = 'display_data';\n",
              "          await google.colab.output.renderOutput(dataTable, element);\n",
              "          const docLink = document.createElement('div');\n",
              "          docLink.innerHTML = docLinkHtml;\n",
              "          element.appendChild(docLink);\n",
              "        }\n",
              "      </script>\n",
              "    </div>\n",
              "  </div>\n",
              "  "
            ]
          },
          "metadata": {},
          "execution_count": 4
        }
      ],
      "source": [
        "lines = lines[['eng', 'fra']]\n",
        "lines.loc[lines['eng']=='Hello!']"
      ]
    },
    {
      "cell_type": "markdown",
      "source": [
        "영어와 프랑스어 컬럼을 제외한 나머지 컬럼은 빼주고\n",
        "\n",
        "'Hello!'와 같은 뜻을 가진 프랑스어를 찾아봤습니다.\n",
        "\n",
        "두 개가 나오네요."
      ],
      "metadata": {
        "id": "IC3FPbxWPjcv"
      },
      "id": "IC3FPbxWPjcv"
    },
    {
      "cell_type": "markdown",
      "source": [
        "- - -\n",
        "### 데이터 준비하기\n",
        "- **데이터 전처리**"
      ],
      "metadata": {
        "id": "iNZa61dvQWkO"
      },
      "id": "iNZa61dvQWkO"
    },
    {
      "cell_type": "code",
      "execution_count": 5,
      "id": "0a908d99",
      "metadata": {
        "colab": {
          "base_uri": "https://localhost:8080/"
        },
        "id": "0a908d99",
        "outputId": "ff9571bb-c8cf-40da-954c-cbce444e63fc"
      },
      "outputs": [
        {
          "output_type": "execute_result",
          "data": {
            "text/plain": [
              "['he', 'is', 'a', 'good', 'boy', '!']"
            ]
          },
          "metadata": {},
          "execution_count": 5
        }
      ],
      "source": [
        "preprocess_sentence = lambda x: re.sub(r\"([?.!,¿])\", r\" \\1 \", x.lower()).split()\n",
        "\n",
        "preprocess_sentence('he is a good boy!')"
      ]
    },
    {
      "cell_type": "markdown",
      "source": [
        "구두점 분리를 위한 정규표현식입니다."
      ],
      "metadata": {
        "id": "VZXn989eP7zV"
      },
      "id": "VZXn989eP7zV"
    },
    {
      "cell_type": "code",
      "execution_count": 6,
      "id": "68183bd4",
      "metadata": {
        "colab": {
          "base_uri": "https://localhost:8080/"
        },
        "id": "68183bd4",
        "outputId": "7f3acc76-c300-4c8a-da5d-ad3768952c22"
      },
      "outputs": [
        {
          "output_type": "stream",
          "name": "stdout",
          "text": [
            "0                                                   [go, .]\n",
            "1                                                   [go, .]\n",
            "2                                                   [go, .]\n",
            "3                                                   [go, .]\n",
            "4                                                   [hi, .]\n",
            "                                ...                        \n",
            "197458    [a, carbon, footprint, is, the, amount, of, ca...\n",
            "197459    [death, is, something, that, we're, often, dis...\n",
            "197460    [since, there, are, usually, multiple, website...\n",
            "197461    [if, someone, who, doesn't, know, your, backgr...\n",
            "197462    [it, may, be, impossible, to, get, a, complete...\n",
            "Name: eng, Length: 197463, dtype: object\n",
            "0                                                   [va, !]\n",
            "1                                               [marche, .]\n",
            "2                                            [en, route, !]\n",
            "3                                                [bouge, !]\n",
            "4                                                [salut, !]\n",
            "                                ...                        \n",
            "197458    [une, empreinte, carbone, est, la, somme, de, ...\n",
            "197459    [la, mort, est, une, chose, qu'on, nous, décou...\n",
            "197460    [puisqu'il, y, a, de, multiples, sites, web, s...\n",
            "197461    [si, quelqu'un, qui, ne, connaît, pas, vos, an...\n",
            "197462    [il, est, peut-être, impossible, d'obtenir, un...\n",
            "Name: fra, Length: 197463, dtype: object\n"
          ]
        }
      ],
      "source": [
        "eng_token = lines['eng'].apply(preprocess_sentence)\n",
        "fra_token = lines['fra'].apply(preprocess_sentence)\n",
        "\n",
        "print(eng_token)\n",
        "print(fra_token)"
      ]
    },
    {
      "cell_type": "markdown",
      "source": [
        "구두점 분리가 잘 적용되는 것 같습니다.\n",
        "\n",
        "하면서 공백을 기준으로 단어를 분리해봤습니다."
      ],
      "metadata": {
        "id": "GTSf5htNQDBt"
      },
      "id": "GTSf5htNQDBt"
    },
    {
      "cell_type": "code",
      "execution_count": 7,
      "id": "291cddef",
      "metadata": {
        "scrolled": true,
        "colab": {
          "base_uri": "https://localhost:8080/"
        },
        "id": "291cddef",
        "outputId": "02ad419f-1beb-46f2-97de-e51faaab17cf"
      },
      "outputs": [
        {
          "output_type": "execute_result",
          "data": {
            "text/plain": [
              "0                                           [\\t, va, !, \\n]\n",
              "1                                       [\\t, marche, ., \\n]\n",
              "2                                    [\\t, en, route, !, \\n]\n",
              "3                                        [\\t, bouge, !, \\n]\n",
              "4                                        [\\t, salut, !, \\n]\n",
              "                                ...                        \n",
              "197458    [\\t, une, empreinte, carbone, est, la, somme, ...\n",
              "197459    [\\t, la, mort, est, une, chose, qu'on, nous, d...\n",
              "197460    [\\t, puisqu'il, y, a, de, multiples, sites, we...\n",
              "197461    [\\t, si, quelqu'un, qui, ne, connaît, pas, vos...\n",
              "197462    [\\t, il, est, peut-être, impossible, d'obtenir...\n",
              "Name: fra, Length: 197463, dtype: object"
            ]
          },
          "metadata": {},
          "execution_count": 7
        }
      ],
      "source": [
        "# 시작 토큰과 종료 토큰 추가\n",
        "sos_token = '\\t'\n",
        "eos_token = '\\n'\n",
        "fra_token = fra_token.apply(lambda x: [sos_token] + x + [eos_token])\n",
        "\n",
        "fra_token"
      ]
    },
    {
      "cell_type": "markdown",
      "source": [
        "시작 토큰과 종료 토큰도 위와 같은 방식으로 추가해주면 될 것 같습니다.\n",
        "\n",
        "이제 데이터 로더 함수를 설계해보겠습니다."
      ],
      "metadata": {
        "id": "GcyNPsLhQUIN"
      },
      "id": "GcyNPsLhQUIN"
    },
    {
      "cell_type": "markdown",
      "source": [
        "- - -\n",
        "### 데이터 준비하기\n",
        "- **데이터 로더 함수 설계하기**"
      ],
      "metadata": {
        "id": "zdIr-IZeQnQe"
      },
      "id": "zdIr-IZeQnQe"
    },
    {
      "cell_type": "code",
      "source": [
        "def load_data(data, val_num):\n",
        "    preprocess_sentence = lambda x: re.sub(r\"([?.!,¿])\", r\" \\1 \", x.lower()).split()\n",
        "    eng_token = data['eng'].apply(preprocess_sentence)\n",
        "    fra_token = data['fra'].apply(preprocess_sentence)\n",
        "\n",
        "    sos_token = '\\t'\n",
        "    eos_token = '\\n'\n",
        "    fra_token = fra_token.apply(lambda x: [sos_token] + x + [eos_token])\n",
        "\n",
        "    global eng_tokenizer\n",
        "    eng_tokenizer = Tokenizer()\n",
        "    eng_tokenizer.fit_on_texts(eng_token)\n",
        "    input_text = eng_tokenizer.texts_to_sequences(eng_token)\n",
        "\n",
        "    global fra_tokenizer\n",
        "    fra_tokenizer = Tokenizer()\n",
        "    fra_tokenizer.fit_on_texts(fra_token)\n",
        "    target_text = fra_tokenizer.texts_to_sequences(fra_token)\n",
        "\n",
        "    global eng_vocab_size\n",
        "    global fra_vocab_size\n",
        "    eng_vocab_size = len(eng_tokenizer.word_index) + 1\n",
        "    fra_vocab_size = len(fra_tokenizer.word_index) + 1\n",
        "\n",
        "    global max_eng_seq_len\n",
        "    global max_fra_seq_len\n",
        "    max_eng_seq_len = max([len(line) for line in input_text])\n",
        "    max_fra_seq_len = max([len(line) for line in target_text])\n",
        "\n",
        "    global encoder_input\n",
        "    global decoder_input\n",
        "    global decoder_target\n",
        "    encoder_input = input_text\n",
        "    decoder_input = [[ char for char in line if char != fra_tokenizer.word_index[eos_token] ] for line in target_text]\n",
        "    decoder_target = [[ char for char in line if char != fra_tokenizer.word_index[sos_token] ] for line in target_text]\n",
        "\n",
        "    encoder_input = pad_sequences(encoder_input, maxlen = max_eng_seq_len, padding='post')\n",
        "    decoder_input = pad_sequences(decoder_input, maxlen = max_fra_seq_len, padding='post')\n",
        "    decoder_target = pad_sequences(decoder_target, maxlen = max_fra_seq_len, padding='post')\n",
        "\n",
        "    encoder_input_train = encoder_input[:-val_num]\n",
        "    decoder_input_train = decoder_input[:-val_num]\n",
        "    decoder_target_train = decoder_target[:-val_num]\n",
        "\n",
        "    encoder_input_test = encoder_input[-val_num:]\n",
        "    decoder_input_test = decoder_input[-val_num:]\n",
        "    decoder_target_test = decoder_target[-val_num:]\n",
        "\n",
        "    return encoder_input_train, decoder_input_train, decoder_target_train, encoder_input_test, decoder_input_test, decoder_target_test"
      ],
      "metadata": {
        "id": "PkON9MSqByTn"
      },
      "id": "PkON9MSqByTn",
      "execution_count": 8,
      "outputs": []
    },
    {
      "cell_type": "markdown",
      "source": [
        "데이터와 밸리데이션으로 사용할 데이터 수를 받으면 전처리, 토큰화, 패딩, 밸리데이션 분리까지 해주는 데이터 로더입니다.\n",
        "\n",
        "필요한 변수들은 `Global`로 처리했습니다."
      ],
      "metadata": {
        "id": "sSAeVGlVQr9f"
      },
      "id": "sSAeVGlVQr9f"
    },
    {
      "cell_type": "code",
      "source": [
        "encoder_input_train, decoder_input_train, decoder_target_train, encoder_input_test, decoder_input_test, decoder_target_test = load_data(lines.loc[:33000], 3000)"
      ],
      "metadata": {
        "id": "5SlUtbQmHkm-"
      },
      "id": "5SlUtbQmHkm-",
      "execution_count": 9,
      "outputs": []
    },
    {
      "cell_type": "markdown",
      "source": [
        "앞에서 33000개의 데이터를 사용하고 3000개는 테스트용 데이터로 분리해줬습니다."
      ],
      "metadata": {
        "id": "0dQrFVdXRD82"
      },
      "id": "0dQrFVdXRD82"
    },
    {
      "cell_type": "code",
      "execution_count": 10,
      "id": "49fa8172",
      "metadata": {
        "colab": {
          "base_uri": "https://localhost:8080/"
        },
        "id": "49fa8172",
        "outputId": "351481f4-4acf-4230-8e55-12e0bdfce7fd"
      },
      "outputs": [
        {
          "output_type": "stream",
          "name": "stdout",
          "text": [
            "영어 단어장의 크기 : 4813\n",
            "프랑스어 단어장의 크기 : 9983\n"
          ]
        }
      ],
      "source": [
        "print('영어 단어장의 크기 :', eng_vocab_size)\n",
        "print('프랑스어 단어장의 크기 :', fra_vocab_size)"
      ]
    },
    {
      "cell_type": "code",
      "execution_count": 11,
      "id": "503b74a1",
      "metadata": {
        "colab": {
          "base_uri": "https://localhost:8080/"
        },
        "id": "503b74a1",
        "outputId": "b0050ded-af5e-4ca3-bdd4-b5bc5db57669"
      },
      "outputs": [
        {
          "output_type": "stream",
          "name": "stdout",
          "text": [
            "영어 시퀀스의 최대 길이 8\n",
            "프랑스어 시퀀스의 최대 길이 15\n"
          ]
        }
      ],
      "source": [
        "print('영어 시퀀스의 최대 길이', max_eng_seq_len)\n",
        "print('프랑스어 시퀀스의 최대 길이', max_fra_seq_len)"
      ]
    },
    {
      "cell_type": "code",
      "execution_count": 12,
      "id": "9578f198",
      "metadata": {
        "colab": {
          "base_uri": "https://localhost:8080/"
        },
        "id": "9578f198",
        "outputId": "c9ad5455-a5a2-4bab-bbcc-6a10bbb5fa05"
      },
      "outputs": [
        {
          "output_type": "stream",
          "name": "stdout",
          "text": [
            "영어 데이터의 크기(shape) : (30001, 8)\n",
            "프랑스어 입력데이터의 크기(shape) : (30001, 15)\n",
            "프랑스어 출력데이터의 크기(shape) : (30001, 15)\n"
          ]
        }
      ],
      "source": [
        "print('영어 데이터의 크기(shape) :',np.shape(encoder_input_train))\n",
        "print('프랑스어 입력데이터의 크기(shape) :',np.shape(decoder_input_train))\n",
        "print('프랑스어 출력데이터의 크기(shape) :',np.shape(decoder_target_train))"
      ]
    },
    {
      "cell_type": "code",
      "source": [
        "print('영어 테스트 데이터의 크기(shape) :',np.shape(encoder_input_test))\n",
        "print('프랑스어 테스트 입력데이터의 크기(shape) :',np.shape(decoder_input_test))\n",
        "print('프랑스어 테스트 출력데이터의 크기(shape) :',np.shape(decoder_target_test))"
      ],
      "metadata": {
        "colab": {
          "base_uri": "https://localhost:8080/"
        },
        "id": "MhIZnPo7ITP-",
        "outputId": "15efebc9-0635-4871-f747-5d6b6371ed4f"
      },
      "id": "MhIZnPo7ITP-",
      "execution_count": 13,
      "outputs": [
        {
          "output_type": "stream",
          "name": "stdout",
          "text": [
            "영어 테스트 데이터의 크기(shape) : (3000, 8)\n",
            "프랑스어 테스트 입력데이터의 크기(shape) : (3000, 15)\n",
            "프랑스어 테스트 출력데이터의 크기(shape) : (3000, 15)\n"
          ]
        }
      ]
    },
    {
      "cell_type": "markdown",
      "source": [
        "함수 내에서 글로벌로 만든 변수도 잘 불러와집니다."
      ],
      "metadata": {
        "id": "e6GXJZzbRQxo"
      },
      "id": "e6GXJZzbRQxo"
    },
    {
      "cell_type": "markdown",
      "source": [
        "- - -\n",
        "### 단어 Level 번역기 만들기\n",
        "- **모델 설계하기**"
      ],
      "metadata": {
        "id": "A89LptGsRbOH"
      },
      "id": "A89LptGsRbOH"
    },
    {
      "cell_type": "code",
      "execution_count": 14,
      "id": "44744666",
      "metadata": {
        "id": "44744666"
      },
      "outputs": [],
      "source": [
        "from tensorflow.keras.layers import Input, LSTM, Embedding, Dense, Masking\n",
        "from tensorflow.keras.models import Model"
      ]
    },
    {
      "cell_type": "code",
      "execution_count": 15,
      "id": "41dbdd06",
      "metadata": {
        "id": "41dbdd06"
      },
      "outputs": [],
      "source": [
        "hidden_size = 256\n",
        "\n",
        "encoder_inputs = Input(shape=(None,))\n",
        "enc_emb = Embedding(eng_vocab_size, hidden_size)(encoder_inputs)\n",
        "end_masking = Masking(mask_value=0.)(enc_emb)\n",
        "encoder_lstm = LSTM(hidden_size, return_state=True)\n",
        "encoder_outputs, state_h, state_c = encoder_lstm(end_masking)\n",
        "encoder_states = [state_h, state_c]"
      ]
    },
    {
      "cell_type": "markdown",
      "source": [
        "인코더 인풋 모델입니다.\n",
        "\n",
        "문자 Level에서 원핫인코딩을 생략하고 임베딩 레이어가 추가됐습니다.\n",
        "\n",
        "임베딩 아웃풋은 보기 편하게 히든 사이즈와 같게 통일해줬습니다."
      ],
      "metadata": {
        "id": "ozTemlX_SLDh"
      },
      "id": "ozTemlX_SLDh"
    },
    {
      "cell_type": "code",
      "execution_count": 16,
      "id": "52e8c985",
      "metadata": {
        "id": "52e8c985"
      },
      "outputs": [],
      "source": [
        "# 입력 텐서 생성.\n",
        "decoder_inputs = Input(shape=(None,))\n",
        "dec_emb = Embedding(fra_vocab_size, hidden_size)(decoder_inputs)\n",
        "dec_masking = Masking(mask_value=0.)(dec_emb)\n",
        "decoder_lstm = LSTM(hidden_size, return_sequences=True, return_state=True)\n",
        "decoder_outputs, _, _= decoder_lstm(dec_masking, initial_state=encoder_states)"
      ]
    },
    {
      "cell_type": "markdown",
      "source": [
        "디코더 인풋 모델입니다.\n",
        "\n",
        "역시 임베딩 레이어가 추가됐습니다. 단, 교사 강요를 위해 인코더 LSTM의 hidden state와 cell state를 공유받습니다."
      ],
      "metadata": {
        "id": "xEaTPD15Sf8B"
      },
      "id": "xEaTPD15Sf8B"
    },
    {
      "cell_type": "code",
      "execution_count": 17,
      "id": "fb7fa07b",
      "metadata": {
        "id": "fb7fa07b"
      },
      "outputs": [],
      "source": [
        "decoder_softmax_layer = Dense(fra_vocab_size, activation='softmax')\n",
        "decoder_outputs = decoder_softmax_layer(decoder_outputs)"
      ]
    },
    {
      "cell_type": "markdown",
      "source": [
        "디코더 아웃풋 모델입니다."
      ],
      "metadata": {
        "id": "BEFeWwCXTMyt"
      },
      "id": "BEFeWwCXTMyt"
    },
    {
      "cell_type": "code",
      "execution_count": 18,
      "id": "3009e806",
      "metadata": {
        "colab": {
          "base_uri": "https://localhost:8080/"
        },
        "id": "3009e806",
        "outputId": "f49d748f-eaac-4b3f-bc78-7252c75d3f09"
      },
      "outputs": [
        {
          "output_type": "stream",
          "name": "stdout",
          "text": [
            "Model: \"model\"\n",
            "__________________________________________________________________________________________________\n",
            " Layer (type)                   Output Shape         Param #     Connected to                     \n",
            "==================================================================================================\n",
            " input_1 (InputLayer)           [(None, None)]       0           []                               \n",
            "                                                                                                  \n",
            " input_2 (InputLayer)           [(None, None)]       0           []                               \n",
            "                                                                                                  \n",
            " embedding (Embedding)          (None, None, 256)    1232128     ['input_1[0][0]']                \n",
            "                                                                                                  \n",
            " embedding_1 (Embedding)        (None, None, 256)    2555648     ['input_2[0][0]']                \n",
            "                                                                                                  \n",
            " masking (Masking)              (None, None, 256)    0           ['embedding[0][0]']              \n",
            "                                                                                                  \n",
            " masking_1 (Masking)            (None, None, 256)    0           ['embedding_1[0][0]']            \n",
            "                                                                                                  \n",
            " lstm (LSTM)                    [(None, 256),        525312      ['masking[0][0]']                \n",
            "                                 (None, 256),                                                     \n",
            "                                 (None, 256)]                                                     \n",
            "                                                                                                  \n",
            " lstm_1 (LSTM)                  [(None, None, 256),  525312      ['masking_1[0][0]',              \n",
            "                                 (None, 256),                     'lstm[0][1]',                   \n",
            "                                 (None, 256)]                     'lstm[0][2]']                   \n",
            "                                                                                                  \n",
            " dense (Dense)                  (None, None, 9983)   2565631     ['lstm_1[0][0]']                 \n",
            "                                                                                                  \n",
            "==================================================================================================\n",
            "Total params: 7,404,031\n",
            "Trainable params: 7,404,031\n",
            "Non-trainable params: 0\n",
            "__________________________________________________________________________________________________\n"
          ]
        }
      ],
      "source": [
        "model = Model([encoder_inputs, decoder_inputs], decoder_outputs)\n",
        "model.compile(optimizer=\"rmsprop\", loss=\"sparse_categorical_crossentropy\")\n",
        "model.summary()"
      ]
    },
    {
      "cell_type": "code",
      "execution_count": 19,
      "id": "3989a10a",
      "metadata": {
        "colab": {
          "base_uri": "https://localhost:8080/",
          "height": 644
        },
        "id": "3989a10a",
        "outputId": "7ae4c5cf-5b71-4afd-b288-3ac92d4d1347"
      },
      "outputs": [
        {
          "output_type": "execute_result",
          "data": {
            "image/png": "[encoded data removed]",
            "text/plain": [
              "<IPython.core.display.Image object>"
            ]
          },
          "metadata": {},
          "execution_count": 19
        }
      ],
      "source": [
        "from tensorflow.keras.utils import plot_model\n",
        "\n",
        "plot_model(model, show_shapes=True)"
      ]
    },
    {
      "cell_type": "markdown",
      "source": [
        "keras API를 보다가 좋은 것을 발견했습니다.\n",
        "\n",
        "입출력의 크기에서 오류가 났을 때 참고가 많이 됐습니다."
      ],
      "metadata": {
        "id": "7mS8LtY-Toiz"
      },
      "id": "7mS8LtY-Toiz"
    },
    {
      "cell_type": "markdown",
      "source": [
        "- - -\n",
        "### 단어 Level 번역기 만들기\n",
        "- **모델 훈련하기**"
      ],
      "metadata": {
        "id": "hfYo1jZkUFk1"
      },
      "id": "hfYo1jZkUFk1"
    },
    {
      "cell_type": "code",
      "execution_count": 20,
      "id": "17298104",
      "metadata": {
        "colab": {
          "base_uri": "https://localhost:8080/"
        },
        "id": "17298104",
        "outputId": "e8bef9fa-6516-4537-928f-59f9b50754e6"
      },
      "outputs": [
        {
          "output_type": "stream",
          "name": "stdout",
          "text": [
            "Epoch 1/50\n",
            "235/235 [==============================] - 17s 35ms/step - loss: 1.9046 - val_loss: 1.8439\n",
            "Epoch 2/50\n",
            "235/235 [==============================] - 6s 24ms/step - loss: 1.3638 - val_loss: 1.5991\n",
            "Epoch 3/50\n",
            "235/235 [==============================] - 6s 24ms/step - loss: 1.1689 - val_loss: 1.4760\n",
            "Epoch 4/50\n",
            "235/235 [==============================] - 6s 24ms/step - loss: 1.0583 - val_loss: 1.3988\n",
            "Epoch 5/50\n",
            "235/235 [==============================] - 6s 24ms/step - loss: 0.9788 - val_loss: 1.3422\n",
            "Epoch 6/50\n",
            "235/235 [==============================] - 6s 24ms/step - loss: 0.9179 - val_loss: 1.3152\n",
            "Epoch 7/50\n",
            "235/235 [==============================] - 6s 25ms/step - loss: 0.8671 - val_loss: 1.2867\n",
            "Epoch 8/50\n",
            "235/235 [==============================] - 6s 24ms/step - loss: 0.8236 - val_loss: 1.2596\n",
            "Epoch 9/50\n",
            "235/235 [==============================] - 6s 24ms/step - loss: 0.7843 - val_loss: 1.2353\n",
            "Epoch 10/50\n",
            "235/235 [==============================] - 6s 24ms/step - loss: 0.7477 - val_loss: 1.2192\n",
            "Epoch 11/50\n",
            "235/235 [==============================] - 6s 24ms/step - loss: 0.7138 - val_loss: 1.2037\n",
            "Epoch 12/50\n",
            "235/235 [==============================] - 6s 24ms/step - loss: 0.6817 - val_loss: 1.1978\n",
            "Epoch 13/50\n",
            "235/235 [==============================] - 6s 24ms/step - loss: 0.6525 - val_loss: 1.1804\n",
            "Epoch 14/50\n",
            "235/235 [==============================] - 6s 24ms/step - loss: 0.6250 - val_loss: 1.1881\n",
            "Epoch 15/50\n",
            "235/235 [==============================] - 6s 24ms/step - loss: 0.5997 - val_loss: 1.1787\n",
            "Epoch 16/50\n",
            "235/235 [==============================] - 6s 24ms/step - loss: 0.5770 - val_loss: 1.1759\n",
            "Epoch 17/50\n",
            "235/235 [==============================] - 6s 24ms/step - loss: 0.5565 - val_loss: 1.1776\n",
            "Epoch 18/50\n",
            "235/235 [==============================] - 6s 24ms/step - loss: 0.5367 - val_loss: 1.1730\n",
            "Epoch 19/50\n",
            "235/235 [==============================] - 6s 24ms/step - loss: 0.5176 - val_loss: 1.1766\n",
            "Epoch 20/50\n",
            "235/235 [==============================] - 6s 24ms/step - loss: 0.4981 - val_loss: 1.1708\n",
            "Epoch 21/50\n",
            "235/235 [==============================] - 6s 24ms/step - loss: 0.4814 - val_loss: 1.1791\n",
            "Epoch 22/50\n",
            "235/235 [==============================] - 6s 24ms/step - loss: 0.4665 - val_loss: 1.1826\n",
            "Epoch 23/50\n",
            "235/235 [==============================] - 6s 24ms/step - loss: 0.4528 - val_loss: 1.1903\n",
            "Epoch 24/50\n",
            "235/235 [==============================] - 6s 24ms/step - loss: 0.4389 - val_loss: 1.1917\n",
            "Epoch 25/50\n",
            "235/235 [==============================] - 6s 24ms/step - loss: 0.4271 - val_loss: 1.1966\n",
            "Epoch 26/50\n",
            "235/235 [==============================] - 6s 24ms/step - loss: 0.4152 - val_loss: 1.1956\n",
            "Epoch 27/50\n",
            "235/235 [==============================] - 6s 25ms/step - loss: 0.4043 - val_loss: 1.1974\n",
            "Epoch 28/50\n",
            "235/235 [==============================] - 6s 24ms/step - loss: 0.3933 - val_loss: 1.2057\n",
            "Epoch 29/50\n",
            "235/235 [==============================] - 6s 24ms/step - loss: 0.3842 - val_loss: 1.2119\n",
            "Epoch 30/50\n",
            "235/235 [==============================] - 6s 24ms/step - loss: 0.3761 - val_loss: 1.2090\n",
            "Epoch 30: early stopping\n"
          ]
        }
      ],
      "source": [
        "from keras.callbacks import EarlyStopping\n",
        "\n",
        "es = EarlyStopping(monitor='val_loss', verbose=1, patience=10)\n",
        "\n",
        "history = model.fit(x=[encoder_input_train, decoder_input_train], y=decoder_target_train, \\\n",
        "          validation_data = ([encoder_input_test, decoder_input_test], decoder_target_test),\n",
        "          batch_size=128, epochs=50, shuffle=True, callbacks=[es])"
      ]
    },
    {
      "cell_type": "code",
      "source": [
        "import matplotlib.pyplot as plt\n",
        "%matplotlib inline\n",
        "\n",
        "loss = history.history['loss']\n",
        "val_loss = history.history['val_loss']\n",
        "\n",
        "plt.plot(loss, 'ko', label='Training loss')\n",
        "plt.plot(val_loss, 'c', label='Validation loss')\n",
        "plt.title('Training & Validation Loss')\n",
        "plt.xlabel('Epochs')\n",
        "plt.ylabel('Loss')\n",
        "plt.legend()\n",
        "\n",
        "plt.show()"
      ],
      "metadata": {
        "colab": {
          "base_uri": "https://localhost:8080/",
          "height": 295
        },
        "id": "D1-YDnulMyNR",
        "outputId": "bdec22e5-e083-4264-b841-5329191e5c41"
      },
      "id": "D1-YDnulMyNR",
      "execution_count": 21,
      "outputs": [
        {
          "output_type": "display_data",
          "data": {
            "text/plain": [
              "<Figure size 432x288 with 1 Axes>"
            ],
            "image/png": "[encoded data removed]"
          },
          "metadata": {
            "needs_background": "light"
          }
        }
      ]
    },
    {
      "cell_type": "markdown",
      "source": [
        "민트초코와 오레오 그래프를 재탕해봤습니다.\n",
        "\n",
        "loss 커브는 적당한 것 같습니다."
      ],
      "metadata": {
        "id": "OJmjO0YVUYwk"
      },
      "id": "OJmjO0YVUYwk"
    },
    {
      "cell_type": "markdown",
      "source": [
        "- - -\n",
        "### 번역기 성능 확인하기"
      ],
      "metadata": {
        "id": "iDRtaoZ0YInT"
      },
      "id": "iDRtaoZ0YInT"
    },
    {
      "cell_type": "code",
      "execution_count": 22,
      "id": "2eee017c",
      "metadata": {
        "colab": {
          "base_uri": "https://localhost:8080/",
          "height": 777
        },
        "id": "2eee017c",
        "outputId": "f8928ac5-aa3f-4e7c-8303-6ec94d2173d3"
      },
      "outputs": [
        {
          "output_type": "stream",
          "name": "stdout",
          "text": [
            "Model: \"model_1\"\n",
            "_________________________________________________________________\n",
            " Layer (type)                Output Shape              Param #   \n",
            "=================================================================\n",
            " input_1 (InputLayer)        [(None, None)]            0         \n",
            "                                                                 \n",
            " embedding (Embedding)       (None, None, 256)         1232128   \n",
            "                                                                 \n",
            " masking (Masking)           (None, None, 256)         0         \n",
            "                                                                 \n",
            " lstm (LSTM)                 [(None, 256),             525312    \n",
            "                              (None, 256),                       \n",
            "                              (None, 256)]                       \n",
            "                                                                 \n",
            "=================================================================\n",
            "Total params: 1,757,440\n",
            "Trainable params: 1,757,440\n",
            "Non-trainable params: 0\n",
            "_________________________________________________________________\n"
          ]
        },
        {
          "output_type": "execute_result",
          "data": {
            "image/png": "[encoded data removed]",
            "text/plain": [
              "<IPython.core.display.Image object>"
            ]
          },
          "metadata": {},
          "execution_count": 22
        }
      ],
      "source": [
        "encoder_model = Model(inputs = encoder_inputs, outputs = encoder_states)\n",
        "encoder_model.summary()\n",
        "\n",
        "plot_model(encoder_model, show_shapes=True)"
      ]
    },
    {
      "cell_type": "markdown",
      "source": [
        "번역기 성능을 확인하기 위한 인코더 모델입니다."
      ],
      "metadata": {
        "id": "iPouqw8TBiIq"
      },
      "id": "iPouqw8TBiIq"
    },
    {
      "cell_type": "code",
      "execution_count": 23,
      "id": "961cc378",
      "metadata": {
        "id": "961cc378"
      },
      "outputs": [],
      "source": [
        "# 이전 time step의 hidden state를 저장하는 텐서\n",
        "decoder_state_input_h = Input(shape=(hidden_size,))\n",
        "# 이전 time step의 cell state를 저장하는 텐서\n",
        "decoder_state_input_c = Input(shape=(hidden_size,))\n",
        "# 이전 time step의 hidden state와 cell state를 하나의 변수에 저장\n",
        "decoder_states_inputs = [decoder_state_input_h, decoder_state_input_c]\n",
        "\n",
        "# decoder_states_inputs를 현재 time step의 초기 상태로 사용.\n",
        "# 구체적인 동작 자체는 def decode_sequence()에 구현.\n",
        "decoder_outputs, state_h, state_c = decoder_lstm(dec_emb, initial_state = decoder_states_inputs)\n",
        "# 현재 time step의 hidden state와 cell state를 하나의 변수에 저장.\n",
        "decoder_states = [state_h, state_c]"
      ]
    },
    {
      "cell_type": "markdown",
      "source": [
        "성능 확인용 디코더 아웃풋 모델을 만들면서 디코더 임베딩 레이어를 재사용해줬습니다."
      ],
      "metadata": {
        "id": "be-xxFnLBr3p"
      },
      "id": "be-xxFnLBr3p"
    },
    {
      "cell_type": "code",
      "execution_count": 24,
      "id": "84c2dbc2",
      "metadata": {
        "colab": {
          "base_uri": "https://localhost:8080/",
          "height": 852
        },
        "id": "84c2dbc2",
        "outputId": "93783d20-e461-4529-e823-534b996ae6bb"
      },
      "outputs": [
        {
          "output_type": "stream",
          "name": "stdout",
          "text": [
            "Model: \"model_2\"\n",
            "__________________________________________________________________________________________________\n",
            " Layer (type)                   Output Shape         Param #     Connected to                     \n",
            "==================================================================================================\n",
            " input_2 (InputLayer)           [(None, None)]       0           []                               \n",
            "                                                                                                  \n",
            " embedding_1 (Embedding)        (None, None, 256)    2555648     ['input_2[0][0]']                \n",
            "                                                                                                  \n",
            " input_3 (InputLayer)           [(None, 256)]        0           []                               \n",
            "                                                                                                  \n",
            " input_4 (InputLayer)           [(None, 256)]        0           []                               \n",
            "                                                                                                  \n",
            " lstm_1 (LSTM)                  [(None, None, 256),  525312      ['embedding_1[0][0]',            \n",
            "                                 (None, 256),                     'input_3[0][0]',                \n",
            "                                 (None, 256)]                     'input_4[0][0]']                \n",
            "                                                                                                  \n",
            " dense (Dense)                  (None, None, 9983)   2565631     ['lstm_1[1][0]']                 \n",
            "                                                                                                  \n",
            "==================================================================================================\n",
            "Total params: 5,646,591\n",
            "Trainable params: 5,646,591\n",
            "Non-trainable params: 0\n",
            "__________________________________________________________________________________________________\n"
          ]
        },
        {
          "output_type": "execute_result",
          "data": {
            "image/png": "[encoded data removed]",
            "text/plain": [
              "<IPython.core.display.Image object>"
            ]
          },
          "metadata": {},
          "execution_count": 24
        }
      ],
      "source": [
        "decoder_outputs = decoder_softmax_layer(decoder_outputs)\n",
        "decoder_model = Model(inputs=[decoder_inputs] + decoder_states_inputs, outputs=[decoder_outputs] + decoder_states)\n",
        "decoder_model.summary()\n",
        "\n",
        "plot_model(decoder_model, show_shapes=True)"
      ]
    },
    {
      "cell_type": "markdown",
      "source": [
        "번역기 성능을 확인하기 위한 디코더 모델입니다."
      ],
      "metadata": {
        "id": "mG-n-rl_CL5n"
      },
      "id": "mG-n-rl_CL5n"
    },
    {
      "cell_type": "code",
      "execution_count": 25,
      "id": "94d54344",
      "metadata": {
        "id": "94d54344"
      },
      "outputs": [],
      "source": [
        "eng2idx = eng_tokenizer.word_index\n",
        "fra2idx = fra_tokenizer.word_index\n",
        "idx2eng = eng_tokenizer.index_word\n",
        "idx2fra = fra_tokenizer.index_word"
      ]
    },
    {
      "cell_type": "code",
      "execution_count": 26,
      "id": "2e2d49fd",
      "metadata": {
        "id": "2e2d49fd"
      },
      "outputs": [],
      "source": [
        "def decode_sequence(input_seq):\n",
        "    # 입력으로부터 인코더의 상태를 얻음\n",
        "    states_value = encoder_model.predict(input_seq)\n",
        "\n",
        "    # 에 해당하는 원-핫 벡터 생성\n",
        "    target_seq = np.zeros((1,1)) \n",
        "    target_seq[0, 0] = fra2idx['\\t']\n",
        "    \n",
        "    stop_condition = False\n",
        "    decoded_sentence = \"\"\n",
        "\n",
        "    # stop_condition이 True가 될 때까지 루프 반복\n",
        "    while not stop_condition:\n",
        "        # 이점 시점의 상태 states_value를 현 시점의 초기 상태로 사용\n",
        "        output_tokens, h, c = decoder_model.predict([target_seq] + states_value)\n",
        "\n",
        "        # 예측 결과를 문자로 변환\n",
        "        sampled_token_index = np.argmax(output_tokens[0, -1, :])\n",
        "        sampled_char = idx2fra[sampled_token_index]\n",
        "\n",
        "        # 현재 시점의 예측 문자를 예측 문장에 추가\n",
        "        decoded_sentence += ' '+sampled_char\n",
        "\n",
        "        # 에 도달하거나 최대 길이를 넘으면 중단.\n",
        "        if (sampled_char == '\\n' or\n",
        "           len(decoded_sentence) > max_fra_seq_len):\n",
        "            stop_condition = True\n",
        "\n",
        "        # 현재 시점의 예측 결과를 다음 시점의 입력으로 사용하기 위해 저장     \n",
        "        target_seq = np.zeros((1, 1))\n",
        "        target_seq[0, 0] = sampled_token_index\n",
        "\n",
        "        # 현재 시점의 상태를 다음 시점의 상태로 사용하기 위해 저장\n",
        "        states_value = [h, c]\n",
        "\n",
        "    return decoded_sentence"
      ]
    },
    {
      "cell_type": "markdown",
      "source": [
        "영어 문장을 입력받으면 만들었던 번역기 모델로 같은 의미의 프랑스어로 예측하는 메인 함수입니다.\n",
        "\n",
        "학습한 문장 중에서 랜덤하게 뽑아 5개의 문장을 번역해보겠습니다."
      ],
      "metadata": {
        "id": "1D9qgze0Cad3"
      },
      "id": "1D9qgze0Cad3"
    },
    {
      "cell_type": "code",
      "source": [
        "import random\n",
        "\n",
        "for i in range(5):\n",
        "    seq_index = random.randint(0, len(encoder_input))\n",
        "\n",
        "    input_seq = encoder_input[seq_index: seq_index + 1]\n",
        "    decoded_sentence = decode_sequence(input_seq)\n",
        "    print(35 * \"-\")\n",
        "    print('입력 문장:', lines.eng[seq_index])\n",
        "    print('정답 문장:', lines.fra[seq_index])\n",
        "    print('번역기가 번역한 문장:', decoded_sentence)"
      ],
      "metadata": {
        "colab": {
          "base_uri": "https://localhost:8080/"
        },
        "id": "p0soa8JUpXCy",
        "outputId": "dde7ef99-8ed4-4689-9110-aa08d2796bce"
      },
      "id": "p0soa8JUpXCy",
      "execution_count": 27,
      "outputs": [
        {
          "output_type": "stream",
          "name": "stdout",
          "text": [
            "1/1 [==============================] - 1s 1s/step\n",
            "1/1 [==============================] - 0s 359ms/step\n",
            "1/1 [==============================] - 0s 16ms/step\n",
            "1/1 [==============================] - 0s 16ms/step\n",
            "1/1 [==============================] - 0s 16ms/step\n",
            "-----------------------------------\n",
            "입력 문장: Here is your bag.\n",
            "정답 문장: Voici ton sac.\n",
            "번역기가 번역한 문장:  voici ton sac .\n",
            "1/1 [==============================] - 0s 15ms/step\n",
            "1/1 [==============================] - 0s 16ms/step\n",
            "1/1 [==============================] - 0s 16ms/step\n",
            "1/1 [==============================] - 0s 15ms/step\n",
            "1/1 [==============================] - 0s 15ms/step\n",
            "-----------------------------------\n",
            "입력 문장: Tom isn't a child.\n",
            "정답 문장: Tom n'est pas un enfant.\n",
            "번역기가 번역한 문장:  tom n'est pas un\n",
            "1/1 [==============================] - 0s 14ms/step\n",
            "1/1 [==============================] - 0s 16ms/step\n",
            "1/1 [==============================] - 0s 16ms/step\n",
            "1/1 [==============================] - 0s 18ms/step\n",
            "1/1 [==============================] - 0s 18ms/step\n",
            "-----------------------------------\n",
            "입력 문장: It's one of mine.\n",
            "정답 문장: C'est l'une des miennes.\n",
            "번역기가 번역한 문장:  c'est l'un des miens\n",
            "1/1 [==============================] - 0s 16ms/step\n",
            "1/1 [==============================] - 0s 17ms/step\n",
            "1/1 [==============================] - 0s 16ms/step\n",
            "1/1 [==============================] - 0s 16ms/step\n",
            "1/1 [==============================] - 0s 16ms/step\n",
            "-----------------------------------\n",
            "입력 문장: I locked the door.\n",
            "정답 문장: Je verrouillai la porte.\n",
            "번역기가 번역한 문장:  je vais la porte\n",
            "1/1 [==============================] - 0s 15ms/step\n",
            "1/1 [==============================] - 0s 15ms/step\n",
            "1/1 [==============================] - 0s 16ms/step\n",
            "1/1 [==============================] - 0s 16ms/step\n",
            "1/1 [==============================] - 0s 18ms/step\n",
            "-----------------------------------\n",
            "입력 문장: I just want to cry.\n",
            "정답 문장: J'ai envie de pleurer.\n",
            "번역기가 번역한 문장:  je veux juste pleurer\n"
          ]
        }
      ]
    },
    {
      "cell_type": "markdown",
      "source": [
        "써먹지는 못하겠지만 그래도 직접 만든 번역기 치고는 정확도가 괜찮은 것 같습니다.\n",
        "\n",
        "이대로 끝내긴 아쉬우니 5개만 더 번역해봅시다."
      ],
      "metadata": {
        "id": "RdqdgxZoC-xd"
      },
      "id": "RdqdgxZoC-xd"
    },
    {
      "cell_type": "code",
      "source": [
        "import random\n",
        "\n",
        "for i in range(5):\n",
        "    seq_index = random.randint(0, len(encoder_input))\n",
        "\n",
        "    input_seq = encoder_input[seq_index: seq_index + 1]\n",
        "    decoded_sentence = decode_sequence(input_seq)\n",
        "    print(35 * \"-\")\n",
        "    print('입력 문장:', lines.eng[seq_index])\n",
        "    print('정답 문장:', lines.fra[seq_index])\n",
        "    print('번역기가 번역한 문장:', decoded_sentence)"
      ],
      "metadata": {
        "colab": {
          "base_uri": "https://localhost:8080/"
        },
        "id": "FqOjOtJ22Mxk",
        "outputId": "30005692-2a30-4294-cd3b-ec5587f2404e"
      },
      "id": "FqOjOtJ22Mxk",
      "execution_count": 28,
      "outputs": [
        {
          "output_type": "stream",
          "name": "stdout",
          "text": [
            "1/1 [==============================] - 0s 15ms/step\n",
            "1/1 [==============================] - 0s 17ms/step\n",
            "1/1 [==============================] - 0s 15ms/step\n",
            "1/1 [==============================] - 0s 16ms/step\n",
            "1/1 [==============================] - 0s 15ms/step\n",
            "-----------------------------------\n",
            "입력 문장: I am from Russia.\n",
            "정답 문장: Je viens de Russie.\n",
            "번역기가 번역한 문장:  je viens de viens\n",
            "1/1 [==============================] - 0s 15ms/step\n",
            "1/1 [==============================] - 0s 18ms/step\n",
            "1/1 [==============================] - 0s 21ms/step\n",
            "1/1 [==============================] - 0s 16ms/step\n",
            "1/1 [==============================] - 0s 16ms/step\n",
            "1/1 [==============================] - 0s 17ms/step\n",
            "-----------------------------------\n",
            "입력 문장: He's a bit tipsy.\n",
            "정답 문장: Il est un peu éméché.\n",
            "번역기가 번역한 문장:  il est un peu peu\n",
            "1/1 [==============================] - 0s 18ms/step\n",
            "1/1 [==============================] - 0s 16ms/step\n",
            "1/1 [==============================] - 0s 16ms/step\n",
            "1/1 [==============================] - 0s 15ms/step\n",
            "-----------------------------------\n",
            "입력 문장: I love this place.\n",
            "정답 문장: J'adore cet endroit.\n",
            "번역기가 번역한 문장:  j'adore cet endroit\n",
            "1/1 [==============================] - 0s 15ms/step\n",
            "1/1 [==============================] - 0s 15ms/step\n",
            "1/1 [==============================] - 0s 16ms/step\n",
            "-----------------------------------\n",
            "입력 문장: Do you feel guilty?\n",
            "정답 문장: Te sens-tu coupable ?\n",
            "번역기가 번역한 문장:  vous sentez-vous\n",
            "1/1 [==============================] - 0s 15ms/step\n",
            "1/1 [==============================] - 0s 17ms/step\n",
            "1/1 [==============================] - 0s 18ms/step\n",
            "1/1 [==============================] - 0s 17ms/step\n",
            "1/1 [==============================] - 0s 16ms/step\n",
            "-----------------------------------\n",
            "입력 문장: You're very funny.\n",
            "정답 문장: Vous êtes très marrants.\n",
            "번역기가 번역한 문장:  vous êtes très drôle\n"
          ]
        }
      ]
    },
    {
      "cell_type": "markdown",
      "source": [
        "제가 만든 모델을 평가해보자면 명사에 대해서는 예측 정확도가 떨어지는 것 같고\n",
        "\n",
        "프랑스어는 잘 모르지만 먹다, 먹는다, 먹어와 같이 의미는 비슷하지만 조금씩 다른 단어를 많이 헷갈려하는 것 같기도 하고\n",
        "\n",
        "완전 반대되는 밝다 어둡다 같은 개념의 단어도 서로 비슷하다고 예측하는 것 같습니다."
      ],
      "metadata": {
        "id": "ZPBsH71mGE12"
      },
      "id": "ZPBsH71mGE12"
    },
    {
      "cell_type": "markdown",
      "id": "06e2541b",
      "metadata": {
        "id": "06e2541b"
      },
      "source": [
        "## 마무리하며\n",
        "\n",
        "임베딩 레이어 하나 추가하는 게 이렇게 힘들 줄 몰랐습니다.\n",
        "\n",
        "사실 지금도 오류 없이 잘 작동 된다는 것만 알지 제가 쌓은 레이어가 제대로 돌아가고 있는 지도 모르겠습니다.\n",
        "\n",
        "마스킹도 예시 코드에는 없었지만 그래도 모듈을 불러오라고 되어있어서 추가해보긴 했지만\n",
        "\n",
        "레이어를 하나하나 뜯어볼 줄도 몰라서 마스킹이 들어간건지도 모르겠습니다.\n",
        "\n",
        "번역 결과를 직접 하나하나 보긴 봤는데 큰 차이는 없었던 걸 보면 마스킹이 사실 적용되지 않은 상태일 수도 있겠습니다.\n",
        "\n",
        "심지어 처음에는 단어 Level 번역기는 원핫인코딩이 필요하지 않다는 것도 긴가민가 했지만 따로 설명은 없었으니 원핫인코딩을 실행해봤습니다.\n",
        "\n",
        "결과는 메모리 과부화로 LMS도 커널이 죽고, 코랩 마저도 커널이 계속 죽어버렸습니다.\n",
        "\n",
        "데이터와 파라미터 수를 줄여 억지로 메모리를 살리면 역시 레이어 shape에서 문제가 튀어나왔습니다.\n",
        "\n",
        "그야말로 오류와의 기나긴 싸움이였던 것 같습니다.\n",
        "\n",
        "다행히도 keras API를 읽다가 메모해둔 plot_model을 활용해 제가 쌓은 레이어의 구조와 입출력 크기들을 확인할 수가 있어서\n",
        "\n",
        "원핫인코딩과 임베딩 레이어가 겹친다는 것을 파악하고 끝내 문제를 해결할 수 있었던 것 같습니다.\n",
        "\n",
        "따지고보면 원핫인코딩이 임베딩 레이어와 같은 역할이라는 간단한 원리도 간과하고 원핫인코딩 코드를 넣으면서 '이거 넣어야 하는 건가?' 싶긴 했는데 왜 진작에 오류의 원인을 파악하지 못했나 싶긴 합니다.\n",
        "\n",
        "번역기 성능은 솔직히 저게 맞나 싶긴 합니다. 물론 제가 만든 모델이 좋은 건지 나쁜 건지는 저와 같은 방법으로 만든 번역기와 비교를 해봐야 알겠죠.\n",
        "\n",
        "모델 학습이 잘 돌아갔어도 지금도 어딘가에 번역기로서 맞지 않는 문제가 있을 수도 있습니다.\n",
        "\n",
        "번역기 성능을 끌어올리기 위해 드랍아웃도 써봤는데요.. 밸로스는 줄어들긴 하는데 번역기에는 쓰면 안될 것 같습니다.\n",
        "\n",
        "데이터에 중복된 문장을 제거해서 유사도를 떨어뜨려도 봤는데요. 역시 간이 번역기에는 적합한 데이터가 아니게 됐습니다.\n",
        "\n",
        "코랩만 믿고 33000개가 아닌 전체 데이터를 사용해보기도 했는데, 학습만 길어지고 성능은 거기서 거기였습니다.\n",
        "\n",
        "앞으로도 점점 예제 복붙은 안통하겠죠..? 슬슬 먹이를 직접 사냥하는 방법을 배우라는 것 같습니다."
      ]
    }
  ],
  "metadata": {
    "kernelspec": {
      "display_name": "Python 3 (ipykernel)",
      "language": "python",
      "name": "python3"
    },
    "language_info": {
      "codemirror_mode": {
        "name": "ipython",
        "version": 3
      },
      "file_extension": ".py",
      "mimetype": "text/x-python",
      "name": "python",
      "nbconvert_exporter": "python",
      "pygments_lexer": "ipython3",
      "version": "3.9.7"
    },
    "colab": {
      "provenance": [],
      "machine_shape": "hm",
      "collapsed_sections": []
    },
    "accelerator": "GPU"
  },
  "nbformat": 4,
  "nbformat_minor": 5
}
