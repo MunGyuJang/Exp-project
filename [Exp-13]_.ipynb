{
 "cells": [
  {
   "cell_type": "markdown",
   "id": "4f647f70",
   "metadata": {},
   "source": [
    "# 프로젝트 : 아이유팬이 좋아할 만한 다른 아티스트 찾기\n",
    "**제가 참가하기로 한 경진대회의 문제 정의가 프로필별 맞춤형 콘텐츠 추천 AI모델 개발입니다.**\n",
    "\n",
    "## 1. 데이터 준비하기\n",
    "- **데이터 불러오기**\n",
    "- **데이터 분석하기**\n",
    "- **데이터 추가하기**\n",
    "\n",
    "## 2. 모델 설계하기\n",
    "- **CSR matrix 만들기**\n",
    "\n",
    "## 3. 모델 학습하기\n",
    "\n",
    "## 4. 모델 학습 결과\n",
    "- **나의 영화 선호도 확인하기**\n",
    "- **내가 좋아하는 영화와 비슷한 영화 추천받기**\n",
    "- **내가 좋아할 만한 영화 추천받기**\n",
    "\n",
    "## 5. 콘텐츠 기반 필터링"
   ]
  },
  {
   "cell_type": "code",
   "execution_count": 1,
   "id": "acc739e7",
   "metadata": {},
   "outputs": [
    {
     "name": "stdout",
     "output_type": "stream",
     "text": [
      "1.21.4\n",
      "1.7.1\n",
      "0.4.8\n"
     ]
    }
   ],
   "source": [
    "import numpy as np\n",
    "import scipy\n",
    "import implicit\n",
    "\n",
    "print(np.__version__)\n",
    "print(scipy.__version__)\n",
    "print(implicit.__version__)"
   ]
  },
  {
   "cell_type": "markdown",
   "id": "48a0965f",
   "metadata": {},
   "source": [
    "- - -\n",
    "### 데이터 준비하기\n",
    "- **데이터 불러오기**"
   ]
  },
  {
   "cell_type": "code",
   "execution_count": 2,
   "id": "5b7baa28",
   "metadata": {},
   "outputs": [
    {
     "data": {
      "text/html": [
       "<div>\n",
       "<style scoped>\n",
       "    .dataframe tbody tr th:only-of-type {\n",
       "        vertical-align: middle;\n",
       "    }\n",
       "\n",
       "    .dataframe tbody tr th {\n",
       "        vertical-align: top;\n",
       "    }\n",
       "\n",
       "    .dataframe thead th {\n",
       "        text-align: right;\n",
       "    }\n",
       "</style>\n",
       "<table border=\"1\" class=\"dataframe\">\n",
       "  <thead>\n",
       "    <tr style=\"text-align: right;\">\n",
       "      <th></th>\n",
       "      <th>user_id</th>\n",
       "      <th>movie_id</th>\n",
       "      <th>ratings</th>\n",
       "      <th>timestamp</th>\n",
       "    </tr>\n",
       "  </thead>\n",
       "  <tbody>\n",
       "    <tr>\n",
       "      <th>0</th>\n",
       "      <td>1</td>\n",
       "      <td>1193</td>\n",
       "      <td>5</td>\n",
       "      <td>978300760</td>\n",
       "    </tr>\n",
       "    <tr>\n",
       "      <th>1</th>\n",
       "      <td>1</td>\n",
       "      <td>661</td>\n",
       "      <td>3</td>\n",
       "      <td>978302109</td>\n",
       "    </tr>\n",
       "    <tr>\n",
       "      <th>2</th>\n",
       "      <td>1</td>\n",
       "      <td>914</td>\n",
       "      <td>3</td>\n",
       "      <td>978301968</td>\n",
       "    </tr>\n",
       "    <tr>\n",
       "      <th>3</th>\n",
       "      <td>1</td>\n",
       "      <td>3408</td>\n",
       "      <td>4</td>\n",
       "      <td>978300275</td>\n",
       "    </tr>\n",
       "    <tr>\n",
       "      <th>4</th>\n",
       "      <td>1</td>\n",
       "      <td>2355</td>\n",
       "      <td>5</td>\n",
       "      <td>978824291</td>\n",
       "    </tr>\n",
       "    <tr>\n",
       "      <th>...</th>\n",
       "      <td>...</td>\n",
       "      <td>...</td>\n",
       "      <td>...</td>\n",
       "      <td>...</td>\n",
       "    </tr>\n",
       "    <tr>\n",
       "      <th>1000204</th>\n",
       "      <td>6040</td>\n",
       "      <td>1091</td>\n",
       "      <td>1</td>\n",
       "      <td>956716541</td>\n",
       "    </tr>\n",
       "    <tr>\n",
       "      <th>1000205</th>\n",
       "      <td>6040</td>\n",
       "      <td>1094</td>\n",
       "      <td>5</td>\n",
       "      <td>956704887</td>\n",
       "    </tr>\n",
       "    <tr>\n",
       "      <th>1000206</th>\n",
       "      <td>6040</td>\n",
       "      <td>562</td>\n",
       "      <td>5</td>\n",
       "      <td>956704746</td>\n",
       "    </tr>\n",
       "    <tr>\n",
       "      <th>1000207</th>\n",
       "      <td>6040</td>\n",
       "      <td>1096</td>\n",
       "      <td>4</td>\n",
       "      <td>956715648</td>\n",
       "    </tr>\n",
       "    <tr>\n",
       "      <th>1000208</th>\n",
       "      <td>6040</td>\n",
       "      <td>1097</td>\n",
       "      <td>4</td>\n",
       "      <td>956715569</td>\n",
       "    </tr>\n",
       "  </tbody>\n",
       "</table>\n",
       "<p>1000209 rows × 4 columns</p>\n",
       "</div>"
      ],
      "text/plain": [
       "         user_id  movie_id  ratings  timestamp\n",
       "0              1      1193        5  978300760\n",
       "1              1       661        3  978302109\n",
       "2              1       914        3  978301968\n",
       "3              1      3408        4  978300275\n",
       "4              1      2355        5  978824291\n",
       "...          ...       ...      ...        ...\n",
       "1000204     6040      1091        1  956716541\n",
       "1000205     6040      1094        5  956704887\n",
       "1000206     6040       562        5  956704746\n",
       "1000207     6040      1096        4  956715648\n",
       "1000208     6040      1097        4  956715569\n",
       "\n",
       "[1000209 rows x 4 columns]"
      ]
     },
     "execution_count": 2,
     "metadata": {},
     "output_type": "execute_result"
    }
   ],
   "source": [
    "import os\n",
    "import pandas as pd\n",
    "\n",
    "rating_file_path=os.getenv('HOME') + '/aiffel/recommendata_iu/data/ml-1m/ratings.dat'\n",
    "ratings_cols = ['user_id', 'movie_id', 'ratings', 'timestamp']\n",
    "ratings = pd.read_csv(rating_file_path, sep='::', names=ratings_cols, engine='python', encoding = \"ISO-8859-1\")\n",
    "\n",
    "ratings"
   ]
  },
  {
   "cell_type": "code",
   "execution_count": 3,
   "id": "00220178",
   "metadata": {},
   "outputs": [
    {
     "name": "stdout",
     "output_type": "stream",
     "text": [
      "<class 'pandas.core.frame.DataFrame'>\n",
      "RangeIndex: 1000209 entries, 0 to 1000208\n",
      "Data columns (total 4 columns):\n",
      " #   Column     Non-Null Count    Dtype\n",
      "---  ------     --------------    -----\n",
      " 0   user_id    1000209 non-null  int64\n",
      " 1   movie_id   1000209 non-null  int64\n",
      " 2   ratings    1000209 non-null  int64\n",
      " 3   timestamp  1000209 non-null  int64\n",
      "dtypes: int64(4)\n",
      "memory usage: 30.5 MB\n"
     ]
    }
   ],
   "source": [
    "ratings.info()"
   ]
  },
  {
   "cell_type": "markdown",
   "id": "37af85d9",
   "metadata": {},
   "source": [
    "사용자가 영화를 보고 남긴 평점 데이터셋입니다.\n",
    "\n",
    "평점으로 인한 그 영화에 대한 선호도 뿐만 아니라 어떤 영화들을 시청했는지도 알 수 있습니다."
   ]
  },
  {
   "cell_type": "code",
   "execution_count": 4,
   "id": "ae9a332c",
   "metadata": {},
   "outputs": [
    {
     "name": "stdout",
     "output_type": "stream",
     "text": [
      "orginal_data_size: 1000209, filtered_data_size: 836478\n",
      "Ratio of Remaining Data is 83.63%\n"
     ]
    }
   ],
   "source": [
    "# 3점 이상만 남깁니다.\n",
    "orginal_data_size = len(ratings)\n",
    "ratings = ratings[ratings['ratings'] >= 3]\n",
    "filtered_data_size = len(ratings)\n",
    "\n",
    "print(f'orginal_data_size: {orginal_data_size}, filtered_data_size: {filtered_data_size}')\n",
    "print(f'Ratio of Remaining Data is {filtered_data_size / orginal_data_size:.2%}')"
   ]
  },
  {
   "cell_type": "markdown",
   "id": "9dfb1c54",
   "metadata": {},
   "source": [
    "평점을 3점 미만으로 준 데이터는 그 영화를 선호하지 않는다는 것으로 판단하고 학습에서 제외시키겠습니다."
   ]
  },
  {
   "cell_type": "code",
   "execution_count": 5,
   "id": "6a7bfbdc",
   "metadata": {},
   "outputs": [
    {
     "name": "stderr",
     "output_type": "stream",
     "text": [
      "/opt/conda/lib/python3.9/site-packages/pandas/core/frame.py:5039: SettingWithCopyWarning: \n",
      "A value is trying to be set on a copy of a slice from a DataFrame\n",
      "\n",
      "See the caveats in the documentation: https://pandas.pydata.org/pandas-docs/stable/user_guide/indexing.html#returning-a-view-versus-a-copy\n",
      "  return super().rename(\n"
     ]
    }
   ],
   "source": [
    "# ratings 컬럼의 이름을 counts로 바꿉니다?? pandas의 rename 함수를 보여주려고 하셨던 것 같습니다.\n",
    "ratings.rename(columns={'ratings':'counts'}, inplace=True)"
   ]
  },
  {
   "cell_type": "code",
   "execution_count": 6,
   "id": "d1e8af1b",
   "metadata": {},
   "outputs": [
    {
     "data": {
      "text/html": [
       "<div>\n",
       "<style scoped>\n",
       "    .dataframe tbody tr th:only-of-type {\n",
       "        vertical-align: middle;\n",
       "    }\n",
       "\n",
       "    .dataframe tbody tr th {\n",
       "        vertical-align: top;\n",
       "    }\n",
       "\n",
       "    .dataframe thead th {\n",
       "        text-align: right;\n",
       "    }\n",
       "</style>\n",
       "<table border=\"1\" class=\"dataframe\">\n",
       "  <thead>\n",
       "    <tr style=\"text-align: right;\">\n",
       "      <th></th>\n",
       "      <th>user_id</th>\n",
       "      <th>movie_id</th>\n",
       "      <th>counts</th>\n",
       "    </tr>\n",
       "  </thead>\n",
       "  <tbody>\n",
       "    <tr>\n",
       "      <th>0</th>\n",
       "      <td>1</td>\n",
       "      <td>1193</td>\n",
       "      <td>5</td>\n",
       "    </tr>\n",
       "    <tr>\n",
       "      <th>1</th>\n",
       "      <td>1</td>\n",
       "      <td>661</td>\n",
       "      <td>3</td>\n",
       "    </tr>\n",
       "    <tr>\n",
       "      <th>2</th>\n",
       "      <td>1</td>\n",
       "      <td>914</td>\n",
       "      <td>3</td>\n",
       "    </tr>\n",
       "    <tr>\n",
       "      <th>3</th>\n",
       "      <td>1</td>\n",
       "      <td>3408</td>\n",
       "      <td>4</td>\n",
       "    </tr>\n",
       "    <tr>\n",
       "      <th>4</th>\n",
       "      <td>1</td>\n",
       "      <td>2355</td>\n",
       "      <td>5</td>\n",
       "    </tr>\n",
       "    <tr>\n",
       "      <th>...</th>\n",
       "      <td>...</td>\n",
       "      <td>...</td>\n",
       "      <td>...</td>\n",
       "    </tr>\n",
       "    <tr>\n",
       "      <th>1000203</th>\n",
       "      <td>6040</td>\n",
       "      <td>1090</td>\n",
       "      <td>3</td>\n",
       "    </tr>\n",
       "    <tr>\n",
       "      <th>1000205</th>\n",
       "      <td>6040</td>\n",
       "      <td>1094</td>\n",
       "      <td>5</td>\n",
       "    </tr>\n",
       "    <tr>\n",
       "      <th>1000206</th>\n",
       "      <td>6040</td>\n",
       "      <td>562</td>\n",
       "      <td>5</td>\n",
       "    </tr>\n",
       "    <tr>\n",
       "      <th>1000207</th>\n",
       "      <td>6040</td>\n",
       "      <td>1096</td>\n",
       "      <td>4</td>\n",
       "    </tr>\n",
       "    <tr>\n",
       "      <th>1000208</th>\n",
       "      <td>6040</td>\n",
       "      <td>1097</td>\n",
       "      <td>4</td>\n",
       "    </tr>\n",
       "  </tbody>\n",
       "</table>\n",
       "<p>836478 rows × 3 columns</p>\n",
       "</div>"
      ],
      "text/plain": [
       "         user_id  movie_id  counts\n",
       "0              1      1193       5\n",
       "1              1       661       3\n",
       "2              1       914       3\n",
       "3              1      3408       4\n",
       "4              1      2355       5\n",
       "...          ...       ...     ...\n",
       "1000203     6040      1090       3\n",
       "1000205     6040      1094       5\n",
       "1000206     6040       562       5\n",
       "1000207     6040      1096       4\n",
       "1000208     6040      1097       4\n",
       "\n",
       "[836478 rows x 3 columns]"
      ]
     },
     "execution_count": 6,
     "metadata": {},
     "output_type": "execute_result"
    }
   ],
   "source": [
    "del ratings['timestamp']\n",
    "\n",
    "ratings"
   ]
  },
  {
   "cell_type": "markdown",
   "id": "730ca3bb",
   "metadata": {},
   "source": [
    "데이터를 한 눈에 보기 위한 전처리를 진행했습니다."
   ]
  },
  {
   "cell_type": "code",
   "execution_count": 7,
   "id": "f02189f2",
   "metadata": {},
   "outputs": [
    {
     "data": {
      "text/plain": [
       "user_id     0\n",
       "movie_id    0\n",
       "counts      0\n",
       "dtype: int64"
      ]
     },
     "execution_count": 7,
     "metadata": {},
     "output_type": "execute_result"
    }
   ],
   "source": [
    "ratings.isna().sum()"
   ]
  },
  {
   "cell_type": "code",
   "execution_count": 8,
   "id": "03817cb9",
   "metadata": {},
   "outputs": [
    {
     "data": {
      "text/html": [
       "<div>\n",
       "<style scoped>\n",
       "    .dataframe tbody tr th:only-of-type {\n",
       "        vertical-align: middle;\n",
       "    }\n",
       "\n",
       "    .dataframe tbody tr th {\n",
       "        vertical-align: top;\n",
       "    }\n",
       "\n",
       "    .dataframe thead th {\n",
       "        text-align: right;\n",
       "    }\n",
       "</style>\n",
       "<table border=\"1\" class=\"dataframe\">\n",
       "  <thead>\n",
       "    <tr style=\"text-align: right;\">\n",
       "      <th></th>\n",
       "      <th>user_id</th>\n",
       "      <th>movie_id</th>\n",
       "      <th>counts</th>\n",
       "    </tr>\n",
       "  </thead>\n",
       "  <tbody>\n",
       "  </tbody>\n",
       "</table>\n",
       "</div>"
      ],
      "text/plain": [
       "Empty DataFrame\n",
       "Columns: [user_id, movie_id, counts]\n",
       "Index: []"
      ]
     },
     "execution_count": 8,
     "metadata": {},
     "output_type": "execute_result"
    }
   ],
   "source": [
    "ratings[ratings.duplicated(subset=['user_id', 'movie_id'])]"
   ]
  },
  {
   "cell_type": "markdown",
   "id": "068941e3",
   "metadata": {},
   "source": [
    "데이터가 중복되거나 같은 영화를 다시 본 데이터는 없군요.\n",
    "\n",
    "결측치 또한 없습니다."
   ]
  },
  {
   "cell_type": "code",
   "execution_count": 9,
   "id": "89dac4a4",
   "metadata": {},
   "outputs": [
    {
     "data": {
      "text/html": [
       "<div>\n",
       "<style scoped>\n",
       "    .dataframe tbody tr th:only-of-type {\n",
       "        vertical-align: middle;\n",
       "    }\n",
       "\n",
       "    .dataframe tbody tr th {\n",
       "        vertical-align: top;\n",
       "    }\n",
       "\n",
       "    .dataframe thead th {\n",
       "        text-align: right;\n",
       "    }\n",
       "</style>\n",
       "<table border=\"1\" class=\"dataframe\">\n",
       "  <thead>\n",
       "    <tr style=\"text-align: right;\">\n",
       "      <th></th>\n",
       "      <th>movie_id</th>\n",
       "      <th>title</th>\n",
       "      <th>genre</th>\n",
       "    </tr>\n",
       "  </thead>\n",
       "  <tbody>\n",
       "    <tr>\n",
       "      <th>0</th>\n",
       "      <td>1</td>\n",
       "      <td>Toy Story (1995)</td>\n",
       "      <td>Animation|Children's|Comedy</td>\n",
       "    </tr>\n",
       "    <tr>\n",
       "      <th>1</th>\n",
       "      <td>2</td>\n",
       "      <td>Jumanji (1995)</td>\n",
       "      <td>Adventure|Children's|Fantasy</td>\n",
       "    </tr>\n",
       "    <tr>\n",
       "      <th>2</th>\n",
       "      <td>3</td>\n",
       "      <td>Grumpier Old Men (1995)</td>\n",
       "      <td>Comedy|Romance</td>\n",
       "    </tr>\n",
       "    <tr>\n",
       "      <th>3</th>\n",
       "      <td>4</td>\n",
       "      <td>Waiting to Exhale (1995)</td>\n",
       "      <td>Comedy|Drama</td>\n",
       "    </tr>\n",
       "    <tr>\n",
       "      <th>4</th>\n",
       "      <td>5</td>\n",
       "      <td>Father of the Bride Part II (1995)</td>\n",
       "      <td>Comedy</td>\n",
       "    </tr>\n",
       "    <tr>\n",
       "      <th>...</th>\n",
       "      <td>...</td>\n",
       "      <td>...</td>\n",
       "      <td>...</td>\n",
       "    </tr>\n",
       "    <tr>\n",
       "      <th>3878</th>\n",
       "      <td>3948</td>\n",
       "      <td>Meet the Parents (2000)</td>\n",
       "      <td>Comedy</td>\n",
       "    </tr>\n",
       "    <tr>\n",
       "      <th>3879</th>\n",
       "      <td>3949</td>\n",
       "      <td>Requiem for a Dream (2000)</td>\n",
       "      <td>Drama</td>\n",
       "    </tr>\n",
       "    <tr>\n",
       "      <th>3880</th>\n",
       "      <td>3950</td>\n",
       "      <td>Tigerland (2000)</td>\n",
       "      <td>Drama</td>\n",
       "    </tr>\n",
       "    <tr>\n",
       "      <th>3881</th>\n",
       "      <td>3951</td>\n",
       "      <td>Two Family House (2000)</td>\n",
       "      <td>Drama</td>\n",
       "    </tr>\n",
       "    <tr>\n",
       "      <th>3882</th>\n",
       "      <td>3952</td>\n",
       "      <td>Contender, The (2000)</td>\n",
       "      <td>Drama|Thriller</td>\n",
       "    </tr>\n",
       "  </tbody>\n",
       "</table>\n",
       "<p>3883 rows × 3 columns</p>\n",
       "</div>"
      ],
      "text/plain": [
       "      movie_id                               title  \\\n",
       "0            1                    Toy Story (1995)   \n",
       "1            2                      Jumanji (1995)   \n",
       "2            3             Grumpier Old Men (1995)   \n",
       "3            4            Waiting to Exhale (1995)   \n",
       "4            5  Father of the Bride Part II (1995)   \n",
       "...        ...                                 ...   \n",
       "3878      3948             Meet the Parents (2000)   \n",
       "3879      3949          Requiem for a Dream (2000)   \n",
       "3880      3950                    Tigerland (2000)   \n",
       "3881      3951             Two Family House (2000)   \n",
       "3882      3952               Contender, The (2000)   \n",
       "\n",
       "                             genre  \n",
       "0      Animation|Children's|Comedy  \n",
       "1     Adventure|Children's|Fantasy  \n",
       "2                   Comedy|Romance  \n",
       "3                     Comedy|Drama  \n",
       "4                           Comedy  \n",
       "...                            ...  \n",
       "3878                        Comedy  \n",
       "3879                         Drama  \n",
       "3880                         Drama  \n",
       "3881                         Drama  \n",
       "3882                Drama|Thriller  \n",
       "\n",
       "[3883 rows x 3 columns]"
      ]
     },
     "execution_count": 9,
     "metadata": {},
     "output_type": "execute_result"
    }
   ],
   "source": [
    "# 영화 제목을 보기 위해 메타 데이터를 읽어옵니다.\n",
    "movie_file_path = os.getenv('HOME') + '/aiffel/recommendata_iu/data/ml-1m/movies.dat'\n",
    "cols = ['movie_id', 'title', 'genre'] \n",
    "movies = pd.read_csv(movie_file_path, sep='::', names=cols, engine='python', encoding='ISO-8859-1')\n",
    "\n",
    "movies"
   ]
  },
  {
   "cell_type": "markdown",
   "id": "0320609e",
   "metadata": {},
   "source": [
    "사용자 데이터셋과 호환되는 영화에 대한 정보 데이터셋입니다."
   ]
  },
  {
   "cell_type": "code",
   "execution_count": 10,
   "id": "768c462b",
   "metadata": {},
   "outputs": [
    {
     "data": {
      "text/plain": [
       "movie_id    0\n",
       "title       0\n",
       "genre       0\n",
       "dtype: int64"
      ]
     },
     "execution_count": 10,
     "metadata": {},
     "output_type": "execute_result"
    }
   ],
   "source": [
    "movies.isna().sum()"
   ]
  },
  {
   "cell_type": "code",
   "execution_count": 11,
   "id": "54a5e7b9",
   "metadata": {},
   "outputs": [
    {
     "data": {
      "text/html": [
       "<div>\n",
       "<style scoped>\n",
       "    .dataframe tbody tr th:only-of-type {\n",
       "        vertical-align: middle;\n",
       "    }\n",
       "\n",
       "    .dataframe tbody tr th {\n",
       "        vertical-align: top;\n",
       "    }\n",
       "\n",
       "    .dataframe thead th {\n",
       "        text-align: right;\n",
       "    }\n",
       "</style>\n",
       "<table border=\"1\" class=\"dataframe\">\n",
       "  <thead>\n",
       "    <tr style=\"text-align: right;\">\n",
       "      <th></th>\n",
       "      <th>movie_id</th>\n",
       "      <th>title</th>\n",
       "      <th>genre</th>\n",
       "    </tr>\n",
       "  </thead>\n",
       "  <tbody>\n",
       "  </tbody>\n",
       "</table>\n",
       "</div>"
      ],
      "text/plain": [
       "Empty DataFrame\n",
       "Columns: [movie_id, title, genre]\n",
       "Index: []"
      ]
     },
     "execution_count": 11,
     "metadata": {},
     "output_type": "execute_result"
    }
   ],
   "source": [
    "movies[movies['movie_id'].duplicated()]"
   ]
  },
  {
   "cell_type": "markdown",
   "id": "35053281",
   "metadata": {},
   "source": [
    "- - -\n",
    "### 데이터 준비하기\n",
    "- **데이터 전처리**"
   ]
  },
  {
   "cell_type": "markdown",
   "id": "fa67f9fc",
   "metadata": {},
   "source": [
    "결측치나 중복은 없습니다."
   ]
  },
  {
   "cell_type": "code",
   "execution_count": 12,
   "id": "3d6735d4",
   "metadata": {},
   "outputs": [
    {
     "data": {
      "text/plain": [
       "0                         Toy Story (1995)\n",
       "1                           Jumanji (1995)\n",
       "2                  Grumpier Old Men (1995)\n",
       "3                 Waiting to Exhale (1995)\n",
       "4       Father of the Bride Part II (1995)\n",
       "                       ...                \n",
       "3878               Meet the Parents (2000)\n",
       "3879            Requiem for a Dream (2000)\n",
       "3880                      Tigerland (2000)\n",
       "3881               Two Family House (2000)\n",
       "3882                 Contender, The (2000)\n",
       "Name: title, Length: 3883, dtype: object"
      ]
     },
     "execution_count": 12,
     "metadata": {},
     "output_type": "execute_result"
    }
   ],
   "source": [
    "movies['title']"
   ]
  },
  {
   "cell_type": "markdown",
   "id": "00f966c8",
   "metadata": {},
   "source": [
    "모델이 학습을 하려면 숫자로 인코딩된 데이터여야 하고\n",
    "\n",
    "숫자로 되어있는 데이터를 저희가 어떤 영화인지 알려면 영화의 제목과 잘 저장해야겠죠.\n",
    "\n",
    "영화 제목을 보기 편하게 `title`에 있는 개봉연도를 지우려고 하는데,\n",
    "\n",
    "개봉연도를 지워도 영화 제목의 유니크함이 남아있을 수 있는지 확인해보겠습니다."
   ]
  },
  {
   "cell_type": "code",
   "execution_count": 13,
   "id": "c921d822",
   "metadata": {},
   "outputs": [
    {
     "data": {
      "text/html": [
       "<div>\n",
       "<style scoped>\n",
       "    .dataframe tbody tr th:only-of-type {\n",
       "        vertical-align: middle;\n",
       "    }\n",
       "\n",
       "    .dataframe tbody tr th {\n",
       "        vertical-align: top;\n",
       "    }\n",
       "\n",
       "    .dataframe thead th {\n",
       "        text-align: right;\n",
       "    }\n",
       "</style>\n",
       "<table border=\"1\" class=\"dataframe\">\n",
       "  <thead>\n",
       "    <tr style=\"text-align: right;\">\n",
       "      <th></th>\n",
       "      <th>movie_id</th>\n",
       "      <th>title</th>\n",
       "      <th>genre</th>\n",
       "    </tr>\n",
       "  </thead>\n",
       "  <tbody>\n",
       "    <tr>\n",
       "      <th>1672</th>\n",
       "      <td>1721</td>\n",
       "      <td>Titanic (1997)</td>\n",
       "      <td>Drama|Romance</td>\n",
       "    </tr>\n",
       "    <tr>\n",
       "      <th>2088</th>\n",
       "      <td>2157</td>\n",
       "      <td>Chambermaid on the Titanic, The (1998)</td>\n",
       "      <td>Romance</td>\n",
       "    </tr>\n",
       "    <tr>\n",
       "      <th>3334</th>\n",
       "      <td>3403</td>\n",
       "      <td>Raise the Titanic (1980)</td>\n",
       "      <td>Drama|Thriller</td>\n",
       "    </tr>\n",
       "    <tr>\n",
       "      <th>3335</th>\n",
       "      <td>3404</td>\n",
       "      <td>Titanic (1953)</td>\n",
       "      <td>Action|Drama</td>\n",
       "    </tr>\n",
       "  </tbody>\n",
       "</table>\n",
       "</div>"
      ],
      "text/plain": [
       "      movie_id                                   title           genre\n",
       "1672      1721                          Titanic (1997)   Drama|Romance\n",
       "2088      2157  Chambermaid on the Titanic, The (1998)         Romance\n",
       "3334      3403                Raise the Titanic (1980)  Drama|Thriller\n",
       "3335      3404                          Titanic (1953)    Action|Drama"
      ]
     },
     "execution_count": 13,
     "metadata": {},
     "output_type": "execute_result"
    }
   ],
   "source": [
    "movies[movies['title'].apply(lambda x: 'Titanic' in x)]"
   ]
  },
  {
   "cell_type": "markdown",
   "id": "909ecd1d",
   "metadata": {},
   "source": [
    "생각나는 영화 `Titanic`을 검색해보면 보다시피 같은 영화 제목이 두 개가 나옵니다.\n",
    "\n",
    "정수로 인코딩을 했는데 영화 제목이 같아버리면  \n",
    "제가 원하는 타이타닉 영화가 1997년의 타이타닉일지 1953년의 타이타닉일지 알 수 없는 곤란한 상황이 벌어지겠군요.\n",
    "\n",
    "영화의 제목만으로 영화의 인덱스를 확인하려면 개봉연도를 따로 저장한다고 해서 해결될 일이 아닐 듯 합니다."
   ]
  },
  {
   "cell_type": "code",
   "execution_count": 14,
   "id": "35828593",
   "metadata": {},
   "outputs": [
    {
     "data": {
      "text/html": [
       "<div>\n",
       "<style scoped>\n",
       "    .dataframe tbody tr th:only-of-type {\n",
       "        vertical-align: middle;\n",
       "    }\n",
       "\n",
       "    .dataframe tbody tr th {\n",
       "        vertical-align: top;\n",
       "    }\n",
       "\n",
       "    .dataframe thead th {\n",
       "        text-align: right;\n",
       "    }\n",
       "</style>\n",
       "<table border=\"1\" class=\"dataframe\">\n",
       "  <thead>\n",
       "    <tr style=\"text-align: right;\">\n",
       "      <th></th>\n",
       "      <th>user_id</th>\n",
       "      <th>movie_id</th>\n",
       "      <th>counts</th>\n",
       "    </tr>\n",
       "  </thead>\n",
       "  <tbody>\n",
       "    <tr>\n",
       "      <th>27</th>\n",
       "      <td>1</td>\n",
       "      <td>1721</td>\n",
       "      <td>4</td>\n",
       "    </tr>\n",
       "    <tr>\n",
       "      <th>638</th>\n",
       "      <td>8</td>\n",
       "      <td>1721</td>\n",
       "      <td>5</td>\n",
       "    </tr>\n",
       "    <tr>\n",
       "      <th>763</th>\n",
       "      <td>9</td>\n",
       "      <td>1721</td>\n",
       "      <td>5</td>\n",
       "    </tr>\n",
       "    <tr>\n",
       "      <th>1131</th>\n",
       "      <td>10</td>\n",
       "      <td>1721</td>\n",
       "      <td>3</td>\n",
       "    </tr>\n",
       "    <tr>\n",
       "      <th>2192</th>\n",
       "      <td>18</td>\n",
       "      <td>1721</td>\n",
       "      <td>4</td>\n",
       "    </tr>\n",
       "    <tr>\n",
       "      <th>...</th>\n",
       "      <td>...</td>\n",
       "      <td>...</td>\n",
       "      <td>...</td>\n",
       "    </tr>\n",
       "    <tr>\n",
       "      <th>996628</th>\n",
       "      <td>6016</td>\n",
       "      <td>1721</td>\n",
       "      <td>3</td>\n",
       "    </tr>\n",
       "    <tr>\n",
       "      <th>997416</th>\n",
       "      <td>6023</td>\n",
       "      <td>1721</td>\n",
       "      <td>5</td>\n",
       "    </tr>\n",
       "    <tr>\n",
       "      <th>997761</th>\n",
       "      <td>6025</td>\n",
       "      <td>1721</td>\n",
       "      <td>4</td>\n",
       "    </tr>\n",
       "    <tr>\n",
       "      <th>997923</th>\n",
       "      <td>6027</td>\n",
       "      <td>1721</td>\n",
       "      <td>4</td>\n",
       "    </tr>\n",
       "    <tr>\n",
       "      <th>999375</th>\n",
       "      <td>6036</td>\n",
       "      <td>1721</td>\n",
       "      <td>4</td>\n",
       "    </tr>\n",
       "  </tbody>\n",
       "</table>\n",
       "<p>1270 rows × 3 columns</p>\n",
       "</div>"
      ],
      "text/plain": [
       "        user_id  movie_id  counts\n",
       "27            1      1721       4\n",
       "638           8      1721       5\n",
       "763           9      1721       5\n",
       "1131         10      1721       3\n",
       "2192         18      1721       4\n",
       "...         ...       ...     ...\n",
       "996628     6016      1721       3\n",
       "997416     6023      1721       5\n",
       "997761     6025      1721       4\n",
       "997923     6027      1721       4\n",
       "999375     6036      1721       4\n",
       "\n",
       "[1270 rows x 3 columns]"
      ]
     },
     "execution_count": 14,
     "metadata": {},
     "output_type": "execute_result"
    }
   ],
   "source": [
    "ratings.loc[ratings['movie_id']==1721]"
   ]
  },
  {
   "cell_type": "markdown",
   "id": "fdec83ed",
   "metadata": {},
   "source": [
    "혹시 제목이 같은 두 영화 중 하나를 지워도 괜찮을지\n",
    "\n",
    "사용자 데이터셋에서 두 영화의 등장 빈도를 검색해봤습니다."
   ]
  },
  {
   "cell_type": "code",
   "execution_count": 15,
   "id": "6352206c",
   "metadata": {},
   "outputs": [
    {
     "data": {
      "text/html": [
       "<div>\n",
       "<style scoped>\n",
       "    .dataframe tbody tr th:only-of-type {\n",
       "        vertical-align: middle;\n",
       "    }\n",
       "\n",
       "    .dataframe tbody tr th {\n",
       "        vertical-align: top;\n",
       "    }\n",
       "\n",
       "    .dataframe thead th {\n",
       "        text-align: right;\n",
       "    }\n",
       "</style>\n",
       "<table border=\"1\" class=\"dataframe\">\n",
       "  <thead>\n",
       "    <tr style=\"text-align: right;\">\n",
       "      <th></th>\n",
       "      <th>user_id</th>\n",
       "      <th>movie_id</th>\n",
       "      <th>counts</th>\n",
       "    </tr>\n",
       "  </thead>\n",
       "  <tbody>\n",
       "    <tr>\n",
       "      <th>6761</th>\n",
       "      <td>48</td>\n",
       "      <td>3404</td>\n",
       "      <td>5</td>\n",
       "    </tr>\n",
       "    <tr>\n",
       "      <th>8443</th>\n",
       "      <td>58</td>\n",
       "      <td>3404</td>\n",
       "      <td>4</td>\n",
       "    </tr>\n",
       "    <tr>\n",
       "      <th>10911</th>\n",
       "      <td>80</td>\n",
       "      <td>3404</td>\n",
       "      <td>5</td>\n",
       "    </tr>\n",
       "    <tr>\n",
       "      <th>15539</th>\n",
       "      <td>123</td>\n",
       "      <td>3404</td>\n",
       "      <td>3</td>\n",
       "    </tr>\n",
       "    <tr>\n",
       "      <th>16284</th>\n",
       "      <td>129</td>\n",
       "      <td>3404</td>\n",
       "      <td>3</td>\n",
       "    </tr>\n",
       "    <tr>\n",
       "      <th>...</th>\n",
       "      <td>...</td>\n",
       "      <td>...</td>\n",
       "      <td>...</td>\n",
       "    </tr>\n",
       "    <tr>\n",
       "      <th>987310</th>\n",
       "      <td>5960</td>\n",
       "      <td>3404</td>\n",
       "      <td>4</td>\n",
       "    </tr>\n",
       "    <tr>\n",
       "      <th>994671</th>\n",
       "      <td>6007</td>\n",
       "      <td>3404</td>\n",
       "      <td>3</td>\n",
       "    </tr>\n",
       "    <tr>\n",
       "      <th>995738</th>\n",
       "      <td>6014</td>\n",
       "      <td>3404</td>\n",
       "      <td>4</td>\n",
       "    </tr>\n",
       "    <tr>\n",
       "      <th>997078</th>\n",
       "      <td>6020</td>\n",
       "      <td>3404</td>\n",
       "      <td>4</td>\n",
       "    </tr>\n",
       "    <tr>\n",
       "      <th>998279</th>\n",
       "      <td>6033</td>\n",
       "      <td>3404</td>\n",
       "      <td>5</td>\n",
       "    </tr>\n",
       "  </tbody>\n",
       "</table>\n",
       "<p>179 rows × 3 columns</p>\n",
       "</div>"
      ],
      "text/plain": [
       "        user_id  movie_id  counts\n",
       "6761         48      3404       5\n",
       "8443         58      3404       4\n",
       "10911        80      3404       5\n",
       "15539       123      3404       3\n",
       "16284       129      3404       3\n",
       "...         ...       ...     ...\n",
       "987310     5960      3404       4\n",
       "994671     6007      3404       3\n",
       "995738     6014      3404       4\n",
       "997078     6020      3404       4\n",
       "998279     6033      3404       5\n",
       "\n",
       "[179 rows x 3 columns]"
      ]
     },
     "execution_count": 15,
     "metadata": {},
     "output_type": "execute_result"
    }
   ],
   "source": [
    "ratings.loc[ratings['movie_id']==3404]"
   ]
  },
  {
   "cell_type": "markdown",
   "id": "e3dc203b",
   "metadata": {},
   "source": [
    "179개나 되는 데이터를 지우기도 애매할 뿐더러 제목이 같은 영화가 타이타닉 뿐일 것이란 보장이 없기 때문에\n",
    "\n",
    "그냥 영화 제목에 개봉연도를 남겨두는 것이 더 좋을 것 같습니다.\n",
    "\n",
    "따라서 타이틀 정규화는 포기합니다."
   ]
  },
  {
   "cell_type": "markdown",
   "id": "9b5c41c6",
   "metadata": {},
   "source": [
    "- - -\n",
    "### 데이터 준비하기\n",
    "- **데이터 분석하기**"
   ]
  },
  {
   "cell_type": "code",
   "execution_count": 16,
   "id": "76b997b0",
   "metadata": {},
   "outputs": [
    {
     "data": {
      "text/plain": [
       "6039"
      ]
     },
     "execution_count": 16,
     "metadata": {},
     "output_type": "execute_result"
    }
   ],
   "source": [
    "# 유저 수\n",
    "ratings['user_id'].nunique()"
   ]
  },
  {
   "cell_type": "markdown",
   "id": "9a599f3e",
   "metadata": {},
   "source": [
    "83만 개의 데이터 중에 사용자는 총 *6039*명입니다.\n",
    "\n",
    "사용자 한 명당 평균 약 100개가 넘는 영화를 봤다고 볼 수 있군요."
   ]
  },
  {
   "cell_type": "code",
   "execution_count": 17,
   "id": "6fdff1c1",
   "metadata": {},
   "outputs": [
    {
     "data": {
      "text/plain": [
       "3628"
      ]
     },
     "execution_count": 17,
     "metadata": {},
     "output_type": "execute_result"
    }
   ],
   "source": [
    "# 영화 수\n",
    "ratings['movie_id'].nunique()"
   ]
  },
  {
   "cell_type": "markdown",
   "id": "aeb01a67",
   "metadata": {},
   "source": [
    "사용자 데이터셋에 등장하는 영화의 수입니다.\n",
    "\n",
    "영화 데이터셋의 마지막 인덱스는 *3882*이였는데 확인이 필요해보이는군요."
   ]
  },
  {
   "cell_type": "code",
   "execution_count": 18,
   "id": "537d62c3",
   "metadata": {},
   "outputs": [
    {
     "name": "stdout",
     "output_type": "stream",
     "text": [
      "255\n"
     ]
    }
   ],
   "source": [
    "print(len(movies) - ratings['movie_id'].nunique())"
   ]
  },
  {
   "cell_type": "markdown",
   "id": "f75af809",
   "metadata": {},
   "source": [
    "사용자 데이터셋에 등장하지 않은 영화의 수가 255개입니다.\n",
    "\n",
    "그 말은 즉, 영화 데이터셋에 필요가 없는 데이터가 존재한다는 뜻입니다.\n",
    "\n",
    "아무래도 사용자 데이터셋에서 평점 3점 미만을 준 데이터는 제거해서 발생한 현상인 것 같습니다."
   ]
  },
  {
   "cell_type": "code",
   "execution_count": 19,
   "id": "3a0e7065",
   "metadata": {},
   "outputs": [
    {
     "data": {
      "text/html": [
       "<div>\n",
       "<style scoped>\n",
       "    .dataframe tbody tr th:only-of-type {\n",
       "        vertical-align: middle;\n",
       "    }\n",
       "\n",
       "    .dataframe tbody tr th {\n",
       "        vertical-align: top;\n",
       "    }\n",
       "\n",
       "    .dataframe thead th {\n",
       "        text-align: right;\n",
       "    }\n",
       "</style>\n",
       "<table border=\"1\" class=\"dataframe\">\n",
       "  <thead>\n",
       "    <tr style=\"text-align: right;\">\n",
       "      <th></th>\n",
       "      <th>movie_id</th>\n",
       "      <th>title</th>\n",
       "      <th>genre</th>\n",
       "    </tr>\n",
       "  </thead>\n",
       "  <tbody>\n",
       "    <tr>\n",
       "      <th>0</th>\n",
       "      <td>1</td>\n",
       "      <td>Toy Story (1995)</td>\n",
       "      <td>Animation|Children's|Comedy</td>\n",
       "    </tr>\n",
       "    <tr>\n",
       "      <th>1</th>\n",
       "      <td>2</td>\n",
       "      <td>Jumanji (1995)</td>\n",
       "      <td>Adventure|Children's|Fantasy</td>\n",
       "    </tr>\n",
       "    <tr>\n",
       "      <th>2</th>\n",
       "      <td>3</td>\n",
       "      <td>Grumpier Old Men (1995)</td>\n",
       "      <td>Comedy|Romance</td>\n",
       "    </tr>\n",
       "    <tr>\n",
       "      <th>3</th>\n",
       "      <td>4</td>\n",
       "      <td>Waiting to Exhale (1995)</td>\n",
       "      <td>Comedy|Drama</td>\n",
       "    </tr>\n",
       "    <tr>\n",
       "      <th>4</th>\n",
       "      <td>5</td>\n",
       "      <td>Father of the Bride Part II (1995)</td>\n",
       "      <td>Comedy</td>\n",
       "    </tr>\n",
       "    <tr>\n",
       "      <th>...</th>\n",
       "      <td>...</td>\n",
       "      <td>...</td>\n",
       "      <td>...</td>\n",
       "    </tr>\n",
       "    <tr>\n",
       "      <th>3623</th>\n",
       "      <td>3948</td>\n",
       "      <td>Meet the Parents (2000)</td>\n",
       "      <td>Comedy</td>\n",
       "    </tr>\n",
       "    <tr>\n",
       "      <th>3624</th>\n",
       "      <td>3949</td>\n",
       "      <td>Requiem for a Dream (2000)</td>\n",
       "      <td>Drama</td>\n",
       "    </tr>\n",
       "    <tr>\n",
       "      <th>3625</th>\n",
       "      <td>3950</td>\n",
       "      <td>Tigerland (2000)</td>\n",
       "      <td>Drama</td>\n",
       "    </tr>\n",
       "    <tr>\n",
       "      <th>3626</th>\n",
       "      <td>3951</td>\n",
       "      <td>Two Family House (2000)</td>\n",
       "      <td>Drama</td>\n",
       "    </tr>\n",
       "    <tr>\n",
       "      <th>3627</th>\n",
       "      <td>3952</td>\n",
       "      <td>Contender, The (2000)</td>\n",
       "      <td>Drama|Thriller</td>\n",
       "    </tr>\n",
       "  </tbody>\n",
       "</table>\n",
       "<p>3628 rows × 3 columns</p>\n",
       "</div>"
      ],
      "text/plain": [
       "      movie_id                               title  \\\n",
       "0            1                    Toy Story (1995)   \n",
       "1            2                      Jumanji (1995)   \n",
       "2            3             Grumpier Old Men (1995)   \n",
       "3            4            Waiting to Exhale (1995)   \n",
       "4            5  Father of the Bride Part II (1995)   \n",
       "...        ...                                 ...   \n",
       "3623      3948             Meet the Parents (2000)   \n",
       "3624      3949          Requiem for a Dream (2000)   \n",
       "3625      3950                    Tigerland (2000)   \n",
       "3626      3951             Two Family House (2000)   \n",
       "3627      3952               Contender, The (2000)   \n",
       "\n",
       "                             genre  \n",
       "0      Animation|Children's|Comedy  \n",
       "1     Adventure|Children's|Fantasy  \n",
       "2                   Comedy|Romance  \n",
       "3                     Comedy|Drama  \n",
       "4                           Comedy  \n",
       "...                            ...  \n",
       "3623                        Comedy  \n",
       "3624                         Drama  \n",
       "3625                         Drama  \n",
       "3626                         Drama  \n",
       "3627                Drama|Thriller  \n",
       "\n",
       "[3628 rows x 3 columns]"
      ]
     },
     "execution_count": 19,
     "metadata": {},
     "output_type": "execute_result"
    }
   ],
   "source": [
    "movie_unique = ratings['movie_id'].unique()\n",
    "movies = movies[movies['movie_id'].apply(lambda x: x in movie_unique)].reset_index(drop=True)\n",
    "\n",
    "movies"
   ]
  },
  {
   "cell_type": "markdown",
   "id": "530574e3",
   "metadata": {},
   "source": [
    "추천 모델에 넣으면 행렬 인수분해가 진행되는데 중간에 비는 인덱스가 생기면 안되니 다시 정렬해줍니다."
   ]
  },
  {
   "cell_type": "code",
   "execution_count": 20,
   "id": "aa444a3c",
   "metadata": {},
   "outputs": [
    {
     "name": "stderr",
     "output_type": "stream",
     "text": [
      "/tmp/ipykernel_188/2725216997.py:2: SettingWithCopyWarning: \n",
      "A value is trying to be set on a copy of a slice from a DataFrame.\n",
      "Try using .loc[row_indexer,col_indexer] = value instead\n",
      "\n",
      "See the caveats in the documentation: https://pandas.pydata.org/pandas-docs/stable/user_guide/indexing.html#returning-a-view-versus-a-copy\n",
      "  ratings['movie_id'] = ratings['movie_id'].map(movie_idx.get)\n"
     ]
    },
    {
     "data": {
      "text/html": [
       "<div>\n",
       "<style scoped>\n",
       "    .dataframe tbody tr th:only-of-type {\n",
       "        vertical-align: middle;\n",
       "    }\n",
       "\n",
       "    .dataframe tbody tr th {\n",
       "        vertical-align: top;\n",
       "    }\n",
       "\n",
       "    .dataframe thead th {\n",
       "        text-align: right;\n",
       "    }\n",
       "</style>\n",
       "<table border=\"1\" class=\"dataframe\">\n",
       "  <thead>\n",
       "    <tr style=\"text-align: right;\">\n",
       "      <th></th>\n",
       "      <th>user_id</th>\n",
       "      <th>movie_id</th>\n",
       "      <th>counts</th>\n",
       "    </tr>\n",
       "  </thead>\n",
       "  <tbody>\n",
       "    <tr>\n",
       "      <th>0</th>\n",
       "      <td>1</td>\n",
       "      <td>1078</td>\n",
       "      <td>5</td>\n",
       "    </tr>\n",
       "    <tr>\n",
       "      <th>1</th>\n",
       "      <td>1</td>\n",
       "      <td>627</td>\n",
       "      <td>3</td>\n",
       "    </tr>\n",
       "    <tr>\n",
       "      <th>2</th>\n",
       "      <td>1</td>\n",
       "      <td>833</td>\n",
       "      <td>3</td>\n",
       "    </tr>\n",
       "    <tr>\n",
       "      <th>3</th>\n",
       "      <td>1</td>\n",
       "      <td>3110</td>\n",
       "      <td>4</td>\n",
       "    </tr>\n",
       "    <tr>\n",
       "      <th>4</th>\n",
       "      <td>1</td>\n",
       "      <td>2114</td>\n",
       "      <td>5</td>\n",
       "    </tr>\n",
       "    <tr>\n",
       "      <th>...</th>\n",
       "      <td>...</td>\n",
       "      <td>...</td>\n",
       "      <td>...</td>\n",
       "    </tr>\n",
       "    <tr>\n",
       "      <th>1000203</th>\n",
       "      <td>6040</td>\n",
       "      <td>996</td>\n",
       "      <td>3</td>\n",
       "    </tr>\n",
       "    <tr>\n",
       "      <th>1000205</th>\n",
       "      <td>6040</td>\n",
       "      <td>1000</td>\n",
       "      <td>5</td>\n",
       "    </tr>\n",
       "    <tr>\n",
       "      <th>1000206</th>\n",
       "      <td>6040</td>\n",
       "      <td>543</td>\n",
       "      <td>5</td>\n",
       "    </tr>\n",
       "    <tr>\n",
       "      <th>1000207</th>\n",
       "      <td>6040</td>\n",
       "      <td>1002</td>\n",
       "      <td>4</td>\n",
       "    </tr>\n",
       "    <tr>\n",
       "      <th>1000208</th>\n",
       "      <td>6040</td>\n",
       "      <td>1003</td>\n",
       "      <td>4</td>\n",
       "    </tr>\n",
       "  </tbody>\n",
       "</table>\n",
       "<p>836478 rows × 3 columns</p>\n",
       "</div>"
      ],
      "text/plain": [
       "         user_id  movie_id  counts\n",
       "0              1      1078       5\n",
       "1              1       627       3\n",
       "2              1       833       3\n",
       "3              1      3110       4\n",
       "4              1      2114       5\n",
       "...          ...       ...     ...\n",
       "1000203     6040       996       3\n",
       "1000205     6040      1000       5\n",
       "1000206     6040       543       5\n",
       "1000207     6040      1002       4\n",
       "1000208     6040      1003       4\n",
       "\n",
       "[836478 rows x 3 columns]"
      ]
     },
     "execution_count": 20,
     "metadata": {},
     "output_type": "execute_result"
    }
   ],
   "source": [
    "movie_idx = {id : i for i, id in enumerate(movies['movie_id'])}\n",
    "ratings['movie_id'] = ratings['movie_id'].map(movie_idx.get)\n",
    "\n",
    "ratings"
   ]
  },
  {
   "cell_type": "markdown",
   "id": "f764af0f",
   "metadata": {},
   "source": [
    "**영화 데이터셋**의 `movie_id`를 새로 할당하기 전에 **사용자 데이터셋**의 `movie_id`를 먼저 새로 할당해줍니다."
   ]
  },
  {
   "cell_type": "code",
   "execution_count": 21,
   "id": "53e36b20",
   "metadata": {},
   "outputs": [
    {
     "data": {
      "text/html": [
       "<div>\n",
       "<style scoped>\n",
       "    .dataframe tbody tr th:only-of-type {\n",
       "        vertical-align: middle;\n",
       "    }\n",
       "\n",
       "    .dataframe tbody tr th {\n",
       "        vertical-align: top;\n",
       "    }\n",
       "\n",
       "    .dataframe thead th {\n",
       "        text-align: right;\n",
       "    }\n",
       "</style>\n",
       "<table border=\"1\" class=\"dataframe\">\n",
       "  <thead>\n",
       "    <tr style=\"text-align: right;\">\n",
       "      <th></th>\n",
       "      <th>movie_id</th>\n",
       "      <th>title</th>\n",
       "      <th>genre</th>\n",
       "    </tr>\n",
       "  </thead>\n",
       "  <tbody>\n",
       "    <tr>\n",
       "      <th>0</th>\n",
       "      <td>0</td>\n",
       "      <td>Toy Story (1995)</td>\n",
       "      <td>Animation|Children's|Comedy</td>\n",
       "    </tr>\n",
       "    <tr>\n",
       "      <th>1</th>\n",
       "      <td>1</td>\n",
       "      <td>Jumanji (1995)</td>\n",
       "      <td>Adventure|Children's|Fantasy</td>\n",
       "    </tr>\n",
       "    <tr>\n",
       "      <th>2</th>\n",
       "      <td>2</td>\n",
       "      <td>Grumpier Old Men (1995)</td>\n",
       "      <td>Comedy|Romance</td>\n",
       "    </tr>\n",
       "    <tr>\n",
       "      <th>3</th>\n",
       "      <td>3</td>\n",
       "      <td>Waiting to Exhale (1995)</td>\n",
       "      <td>Comedy|Drama</td>\n",
       "    </tr>\n",
       "    <tr>\n",
       "      <th>4</th>\n",
       "      <td>4</td>\n",
       "      <td>Father of the Bride Part II (1995)</td>\n",
       "      <td>Comedy</td>\n",
       "    </tr>\n",
       "    <tr>\n",
       "      <th>...</th>\n",
       "      <td>...</td>\n",
       "      <td>...</td>\n",
       "      <td>...</td>\n",
       "    </tr>\n",
       "    <tr>\n",
       "      <th>3623</th>\n",
       "      <td>3623</td>\n",
       "      <td>Meet the Parents (2000)</td>\n",
       "      <td>Comedy</td>\n",
       "    </tr>\n",
       "    <tr>\n",
       "      <th>3624</th>\n",
       "      <td>3624</td>\n",
       "      <td>Requiem for a Dream (2000)</td>\n",
       "      <td>Drama</td>\n",
       "    </tr>\n",
       "    <tr>\n",
       "      <th>3625</th>\n",
       "      <td>3625</td>\n",
       "      <td>Tigerland (2000)</td>\n",
       "      <td>Drama</td>\n",
       "    </tr>\n",
       "    <tr>\n",
       "      <th>3626</th>\n",
       "      <td>3626</td>\n",
       "      <td>Two Family House (2000)</td>\n",
       "      <td>Drama</td>\n",
       "    </tr>\n",
       "    <tr>\n",
       "      <th>3627</th>\n",
       "      <td>3627</td>\n",
       "      <td>Contender, The (2000)</td>\n",
       "      <td>Drama|Thriller</td>\n",
       "    </tr>\n",
       "  </tbody>\n",
       "</table>\n",
       "<p>3628 rows × 3 columns</p>\n",
       "</div>"
      ],
      "text/plain": [
       "      movie_id                               title  \\\n",
       "0            0                    Toy Story (1995)   \n",
       "1            1                      Jumanji (1995)   \n",
       "2            2             Grumpier Old Men (1995)   \n",
       "3            3            Waiting to Exhale (1995)   \n",
       "4            4  Father of the Bride Part II (1995)   \n",
       "...        ...                                 ...   \n",
       "3623      3623             Meet the Parents (2000)   \n",
       "3624      3624          Requiem for a Dream (2000)   \n",
       "3625      3625                    Tigerland (2000)   \n",
       "3626      3626             Two Family House (2000)   \n",
       "3627      3627               Contender, The (2000)   \n",
       "\n",
       "                             genre  \n",
       "0      Animation|Children's|Comedy  \n",
       "1     Adventure|Children's|Fantasy  \n",
       "2                   Comedy|Romance  \n",
       "3                     Comedy|Drama  \n",
       "4                           Comedy  \n",
       "...                            ...  \n",
       "3623                        Comedy  \n",
       "3624                         Drama  \n",
       "3625                         Drama  \n",
       "3626                         Drama  \n",
       "3627                Drama|Thriller  \n",
       "\n",
       "[3628 rows x 3 columns]"
      ]
     },
     "execution_count": 21,
     "metadata": {},
     "output_type": "execute_result"
    }
   ],
   "source": [
    "movies['movie_id'] = movies.index\n",
    "\n",
    "movies"
   ]
  },
  {
   "cell_type": "markdown",
   "id": "1d43f420",
   "metadata": {},
   "source": [
    "그 후에 영화 데이터셋도 id를 새로 할당해줍니다."
   ]
  },
  {
   "cell_type": "code",
   "execution_count": 22,
   "id": "4a9734c2",
   "metadata": {},
   "outputs": [],
   "source": [
    "movie_to_idx = {title : id for id, title in zip(movies['movie_id'], movies['title'])}\n",
    "\n",
    "# movie_to_idx 주석을 풀면 판도라의 상자가 열림"
   ]
  },
  {
   "cell_type": "markdown",
   "id": "6e0c4020",
   "metadata": {},
   "source": [
    "    {'Toy Story (1995)': 1,\n",
    "     'Jumanji (1995)': 2,\n",
    "     'Grumpier Old Men (1995)': 3,\n",
    "     'Waiting to Exhale (1995)': 4,\n",
    "     'Father of the Bride Part II (1995)': 5,\n",
    "     'Heat (1995)': 6,\n",
    "     'Sabrina (1995)': 7,\n",
    "     'Tom and Huck (1995)': 8,\n",
    "     'Sudden Death (1995)': 9,\n",
    "     'GoldenEye (1995)': 10,\n",
    "     'American President, The (1995)': 11,\n",
    "     'Dracula: Dead and Loving It (1995)': 12,\n",
    "     'Balto (1995)': 13,\n",
    "     'Nixon (1995)': 14,\n",
    "     'Cutthroat Island (1995)': 15,"
   ]
  },
  {
   "cell_type": "code",
   "execution_count": 23,
   "id": "2579665e",
   "metadata": {},
   "outputs": [],
   "source": [
    "idx_to_movie = {v: k for k, v in movie_to_idx.items()}\n",
    "\n",
    "# idx_to_movie 딕셔너리는 슬라이싱이 안되는 것이 아쉽네요."
   ]
  },
  {
   "cell_type": "markdown",
   "id": "b9ecc4fa",
   "metadata": {},
   "source": [
    "    {1: 'Toy Story (1995)',\n",
    "     2: 'Jumanji (1995)',\n",
    "     3: 'Grumpier Old Men (1995)',\n",
    "     4: 'Waiting to Exhale (1995)',\n",
    "     5: 'Father of the Bride Part II (1995)',\n",
    "     6: 'Heat (1995)',\n",
    "     7: 'Sabrina (1995)',\n",
    "     8: 'Tom and Huck (1995)',\n",
    "     9: 'Sudden Death (1995)',\n",
    "     10: 'GoldenEye (1995)',\n",
    "     11: 'American President, The (1995)',\n",
    "     12: 'Dracula: Dead and Loving It (1995)',\n",
    "     13: 'Balto (1995)',\n",
    "     14: 'Nixon (1995)',\n",
    "     15: 'Cutthroat Island (1995)',"
   ]
  },
  {
   "cell_type": "markdown",
   "id": "cf795894",
   "metadata": {},
   "source": [
    "영화 인덱스 인코딩을 다루기 위한 딕셔너리를 준비해봤습니다."
   ]
  },
  {
   "cell_type": "code",
   "execution_count": 24,
   "id": "a7177511",
   "metadata": {},
   "outputs": [
    {
     "data": {
      "text/plain": [
       "movie_id\n",
       "2600    3211\n",
       "249     2910\n",
       "1080    2885\n",
       "1094    2716\n",
       "1810    2561\n",
       "569     2509\n",
       "573     2498\n",
       "1082    2473\n",
       "1152    2460\n",
       "2325    2434\n",
       "462     2413\n",
       "2507    2385\n",
       "587     2371\n",
       "106     2314\n",
       "1419    2297\n",
       "509     2257\n",
       "1081    2252\n",
       "2155    2213\n",
       "1455    2210\n",
       "305     2194\n",
       "785     2167\n",
       "1147    2121\n",
       "1003    2102\n",
       "2734    2066\n",
       "2462    2051\n",
       "283     2030\n",
       "342     2022\n",
       "1122    2019\n",
       "0       2000\n",
       "439     1941\n",
       "Name: user_id, dtype: int64"
      ]
     },
     "execution_count": 24,
     "metadata": {},
     "output_type": "execute_result"
    }
   ],
   "source": [
    "# 사용자들이 많이 본 영화\n",
    "movies_count = ratings.groupby('movie_id')['user_id'].count()\n",
    "movies_count = movies_count.sort_values(ascending=False).head(30)\n",
    "\n",
    "movies_count"
   ]
  },
  {
   "cell_type": "markdown",
   "id": "61fb7dee",
   "metadata": {},
   "source": [
    "인기가 많은 영화를 검색해봤습니다.\n",
    "\n",
    "영화 라벨링이 영어로 되어있어 무슨 영화인지 알 수가 없네요."
   ]
  },
  {
   "cell_type": "code",
   "execution_count": 25,
   "id": "8f5c73c6",
   "metadata": {},
   "outputs": [
    {
     "name": "stdout",
     "output_type": "stream",
     "text": [
      "American Beauty (1999)                             : 3211\n",
      "Star Wars: Episode IV - A New Hope (1977)          : 2910\n",
      "Star Wars: Episode V - The Empire Strikes Back (1980) : 2885\n",
      "Star Wars: Episode VI - Return of the Jedi (1983)  : 2716\n",
      "Saving Private Ryan (1998)                         : 2561\n",
      "Terminator 2: Judgment Day (1991)                  : 2509\n",
      "Silence of the Lambs, The (1991)                   : 2498\n",
      "Raiders of the Lost Ark (1981)                     : 2473\n",
      "Back to the Future (1985)                          : 2460\n",
      "Matrix, The (1999)                                 : 2434\n",
      "Jurassic Park (1993)                               : 2413\n",
      "Sixth Sense, The (1999)                            : 2385\n",
      "Fargo (1996)                                       : 2371\n",
      "Braveheart (1995)                                  : 2314\n",
      "Men in Black (1997)                                : 2297\n",
      "Schindler's List (1993)                            : 2257\n",
      "Princess Bride, The (1987)                         : 2252\n",
      "Shakespeare in Love (1998)                         : 2213\n",
      "L.A. Confidential (1997)                           : 2210\n",
      "Shawshank Redemption, The (1994)                   : 2194\n",
      "Godfather, The (1972)                              : 2167\n",
      "Groundhog Day (1993)                               : 2121\n",
      "E.T. the Extra-Terrestrial (1982)                  : 2102\n",
      "Being John Malkovich (1999)                        : 2066\n",
      "Ghostbusters (1984)                                : 2051\n",
      "Pulp Fiction (1994)                                : 2030\n",
      "Forrest Gump (1994)                                : 2022\n",
      "Terminator, The (1984)                             : 2019\n",
      "Toy Story (1995)                                   : 2000\n",
      "Fugitive, The (1993)                               : 1941\n"
     ]
    }
   ],
   "source": [
    "for i, count in movies_count[:30].items():\n",
    "    print(idx_to_movie[i].ljust(50), ':', count)"
   ]
  },
  {
   "cell_type": "markdown",
   "id": "0d4bd152",
   "metadata": {},
   "source": [
    "아까 만든 딕셔너리를 이용한다면 해결됩니다.\n",
    "\n",
    "인기가 많은 영화라서 많이 익숙한 영화 제목이 많이 보입니다."
   ]
  },
  {
   "cell_type": "code",
   "execution_count": 26,
   "id": "92312498",
   "metadata": {},
   "outputs": [
    {
     "data": {
      "text/plain": [
       "count    6039.000000\n",
       "mean      138.512668\n",
       "std       156.241599\n",
       "min         1.000000\n",
       "25%        38.000000\n",
       "50%        81.000000\n",
       "75%       177.000000\n",
       "max      1968.000000\n",
       "Name: movie_id, dtype: float64"
      ]
     },
     "execution_count": 26,
     "metadata": {},
     "output_type": "execute_result"
    }
   ],
   "source": [
    "# 사용자별 얼마나 많은 영화에 평점을 남겼는지에 대한 통계\n",
    "user_count = ratings.groupby('user_id')['movie_id'].count()\n",
    "user_count.describe()"
   ]
  },
  {
   "cell_type": "markdown",
   "id": "825cf393",
   "metadata": {},
   "source": [
    "사용자별로 평균 *138*편의 영화를 봤고,\n",
    "\n",
    "최대로 많이 본 사용자의 경우 적어도 *1968*편의 영화를 보고 평점을 남겼다고 합니다. **WOW**"
   ]
  },
  {
   "cell_type": "code",
   "execution_count": 27,
   "id": "22ed9d22",
   "metadata": {},
   "outputs": [
    {
     "data": {
      "image/png": "[encoded data removed]",
      "text/plain": [
       "<Figure size 864x432 with 1 Axes>"
      ]
     },
     "metadata": {},
     "output_type": "display_data"
    }
   ],
   "source": [
    "import matplotlib.pyplot as plt\n",
    "import seaborn as sns\n",
    "plt.style.use('seaborn-darkgrid') # 그래프 스타일을 꾸며줍니다.\n",
    "\n",
    "plt.figure(figsize=(12, 6))\n",
    "sns.histplot(data=user_count)\n",
    "plt.show()"
   ]
  },
  {
   "cell_type": "markdown",
   "id": "becf1925",
   "metadata": {},
   "source": [
    "그래프로 표현하면 이렇습니다."
   ]
  },
  {
   "cell_type": "markdown",
   "id": "50c41431",
   "metadata": {},
   "source": [
    "- - -\n",
    "### 데이터 준비하기\n",
    "- **데이터 추가하기**"
   ]
  },
  {
   "cell_type": "markdown",
   "id": "75ee029f",
   "metadata": {},
   "source": [
    "제가 영화를 많이 안봤을 뿐더러 1995년에서 2000년 사이의 영화는 자주 접해보지 않아가지고\n",
    "\n",
    "최대한 생각나는 대로 영화 5개를 추려서 사용자 데이터셋에 저에 대한 데이터를 추가해보겠습니다."
   ]
  },
  {
   "cell_type": "code",
   "execution_count": 28,
   "id": "e5670bee",
   "metadata": {},
   "outputs": [
    {
     "data": {
      "text/plain": [
       "['Home Alone (1990)',\n",
       " 'Home Alone 3 (1997)',\n",
       " 'Home Alone 2: Lost in New York (1992)']"
      ]
     },
     "execution_count": 28,
     "metadata": {},
     "output_type": "execute_result"
    }
   ],
   "source": [
    "[i for i in idx_to_movie.values() if 'Home Alone' in i]"
   ]
  },
  {
   "cell_type": "markdown",
   "id": "6abad939",
   "metadata": {},
   "source": [
    "영화 제목 정규화에 실패해서 원하는 영화를 검색하려면 위와 같은 방법으로 찾는 게 좋습니다.\n",
    "\n",
    "영화의 전체 제목이 기억이 나지 않을 때도 유용한 방법입니다."
   ]
  },
  {
   "cell_type": "code",
   "execution_count": 29,
   "id": "1b73fe3f",
   "metadata": {},
   "outputs": [
    {
     "data": {
      "text/plain": [
       "['Star Wars: Episode IV - A New Hope (1977)',\n",
       " 'Star Wars: Episode V - The Empire Strikes Back (1980)',\n",
       " 'Star Wars: Episode VI - Return of the Jedi (1983)',\n",
       " 'Star Wars: Episode I - The Phantom Menace (1999)']"
      ]
     },
     "execution_count": 29,
     "metadata": {},
     "output_type": "execute_result"
    }
   ],
   "source": [
    "def search_movie(movie):\n",
    "    return [i for i in idx_to_movie.values() if movie in i] if type(movie) == str else idx_to_movie[movie]\n",
    "\n",
    "search_movie('Star Wars')"
   ]
  },
  {
   "cell_type": "markdown",
   "id": "a010f6ee",
   "metadata": {},
   "source": [
    "그리고 그걸 함수로 만들어봤습니다.\n",
    "\n",
    "인자의 타입이 문자열이면 해당 문자가 포함되는 영화 제목들을, 인자의 타입이 숫자면 해당 숫자를 id로 가진 영화의 제목을 반환합니다."
   ]
  },
  {
   "cell_type": "code",
   "execution_count": 30,
   "id": "62b1a13d",
   "metadata": {},
   "outputs": [
    {
     "name": "stdout",
     "output_type": "stream",
     "text": [
      "Home Alone (1990) : True\n",
      "Titanic (1997) : True\n",
      "Die Hard (1988) : True\n",
      "Truman Show, The (1998) : True\n",
      "Star Wars: Episode VI - Return of the Jedi (1983) : True\n"
     ]
    }
   ],
   "source": [
    "my_favorite = [\n",
    "    'Home Alone (1990)',\n",
    "    'Titanic (1997)',\n",
    "    'Die Hard (1988)',\n",
    "    'Truman Show, The (1998)',\n",
    "    'Star Wars: Episode VI - Return of the Jedi (1983)'\n",
    "]\n",
    "\n",
    "for title in my_favorite:\n",
    "    print(f'{title} : {title in movie_to_idx.keys()}')"
   ]
  },
  {
   "cell_type": "markdown",
   "id": "0f119e5e",
   "metadata": {},
   "source": [
    "제가 검색한 5개의 영화들입니다.\n",
    "\n",
    "그리고 제가 추가한 영화 제목에 문제가 없고 잘 검색이 되는지 확인하게끔 출력해봤습니다."
   ]
  },
  {
   "cell_type": "code",
   "execution_count": 31,
   "id": "925252d9",
   "metadata": {},
   "outputs": [
    {
     "data": {
      "text/plain": [
       "[566, 1540, 949, 1514, 1094]"
      ]
     },
     "execution_count": 31,
     "metadata": {},
     "output_type": "execute_result"
    }
   ],
   "source": [
    "my_favorite = [movie_to_idx[i] for i in my_favorite]\n",
    "\n",
    "my_favorite"
   ]
  },
  {
   "cell_type": "markdown",
   "id": "c279c945",
   "metadata": {},
   "source": [
    "제가 추가한 영화들의 id입니다."
   ]
  },
  {
   "cell_type": "code",
   "execution_count": 32,
   "id": "93294d74",
   "metadata": {},
   "outputs": [
    {
     "data": {
      "text/html": [
       "<div>\n",
       "<style scoped>\n",
       "    .dataframe tbody tr th:only-of-type {\n",
       "        vertical-align: middle;\n",
       "    }\n",
       "\n",
       "    .dataframe tbody tr th {\n",
       "        vertical-align: top;\n",
       "    }\n",
       "\n",
       "    .dataframe thead th {\n",
       "        text-align: right;\n",
       "    }\n",
       "</style>\n",
       "<table border=\"1\" class=\"dataframe\">\n",
       "  <thead>\n",
       "    <tr style=\"text-align: right;\">\n",
       "      <th></th>\n",
       "      <th>user_id</th>\n",
       "      <th>movie_id</th>\n",
       "      <th>counts</th>\n",
       "    </tr>\n",
       "  </thead>\n",
       "  <tbody>\n",
       "    <tr>\n",
       "      <th>1000203</th>\n",
       "      <td>6040</td>\n",
       "      <td>996</td>\n",
       "      <td>3</td>\n",
       "    </tr>\n",
       "    <tr>\n",
       "      <th>1000205</th>\n",
       "      <td>6040</td>\n",
       "      <td>1000</td>\n",
       "      <td>5</td>\n",
       "    </tr>\n",
       "    <tr>\n",
       "      <th>1000206</th>\n",
       "      <td>6040</td>\n",
       "      <td>543</td>\n",
       "      <td>5</td>\n",
       "    </tr>\n",
       "    <tr>\n",
       "      <th>1000207</th>\n",
       "      <td>6040</td>\n",
       "      <td>1002</td>\n",
       "      <td>4</td>\n",
       "    </tr>\n",
       "    <tr>\n",
       "      <th>1000208</th>\n",
       "      <td>6040</td>\n",
       "      <td>1003</td>\n",
       "      <td>4</td>\n",
       "    </tr>\n",
       "    <tr>\n",
       "      <th>0</th>\n",
       "      <td>Mun</td>\n",
       "      <td>566</td>\n",
       "      <td>5</td>\n",
       "    </tr>\n",
       "    <tr>\n",
       "      <th>1</th>\n",
       "      <td>Mun</td>\n",
       "      <td>1540</td>\n",
       "      <td>5</td>\n",
       "    </tr>\n",
       "    <tr>\n",
       "      <th>2</th>\n",
       "      <td>Mun</td>\n",
       "      <td>949</td>\n",
       "      <td>5</td>\n",
       "    </tr>\n",
       "    <tr>\n",
       "      <th>3</th>\n",
       "      <td>Mun</td>\n",
       "      <td>1514</td>\n",
       "      <td>5</td>\n",
       "    </tr>\n",
       "    <tr>\n",
       "      <th>4</th>\n",
       "      <td>Mun</td>\n",
       "      <td>1094</td>\n",
       "      <td>5</td>\n",
       "    </tr>\n",
       "  </tbody>\n",
       "</table>\n",
       "</div>"
      ],
      "text/plain": [
       "        user_id  movie_id  counts\n",
       "1000203    6040       996       3\n",
       "1000205    6040      1000       5\n",
       "1000206    6040       543       5\n",
       "1000207    6040      1002       4\n",
       "1000208    6040      1003       4\n",
       "0           Mun       566       5\n",
       "1           Mun      1540       5\n",
       "2           Mun       949       5\n",
       "3           Mun      1514       5\n",
       "4           Mun      1094       5"
      ]
     },
     "execution_count": 32,
     "metadata": {},
     "output_type": "execute_result"
    }
   ],
   "source": [
    "my_playlist = pd.DataFrame({'user_id': ['Mun']*5, 'movie_id': my_favorite, 'counts':[5]*5})\n",
    "\n",
    "if not ratings.isin({'user_id':['Mun']})['user_id'].any():\n",
    "    ratings = ratings.append(my_playlist)\n",
    "\n",
    "ratings.tail(10)"
   ]
  },
  {
   "cell_type": "markdown",
   "id": "2d3807a8",
   "metadata": {},
   "source": [
    "`Mun`이라는 유저가 제가 검색한 영화들을 각각 5점씩 줬다는 데이터를 임의로 추가해줬습니다.\n",
    "\n",
    "제 데이터를 토대로 모델이 과연 비슷한 영화를 추천해줄 수 있을지 기대가 됩니다."
   ]
  },
  {
   "cell_type": "markdown",
   "id": "065a8e29",
   "metadata": {},
   "source": [
    "- - -\n",
    "### 모델 설계하기\n",
    "- **CSR matrix 만들기**"
   ]
  },
  {
   "cell_type": "code",
   "execution_count": 33,
   "id": "995a3bb0",
   "metadata": {},
   "outputs": [],
   "source": [
    "user_unique = ratings['user_id'].unique()\n",
    "\n",
    "user_to_idx = {v: k for k, v in enumerate(user_unique)}"
   ]
  },
  {
   "cell_type": "markdown",
   "id": "88e98941",
   "metadata": {},
   "source": [
    "배열의 인덱스는 0부터 시작하는데 `user_id`는 1부터 시작하는 것을 정리하는 겸 중간에 비는 인덱스가 없도록\n",
    "\n",
    "영화 데이터셋의 `movie_id`와 마찬가지로 유저id를 인덱스화 하면서 재정렬하기 위한 딕셔너리입니다."
   ]
  },
  {
   "cell_type": "code",
   "execution_count": 34,
   "id": "f98f14ac",
   "metadata": {},
   "outputs": [
    {
     "name": "stdout",
     "output_type": "stream",
     "text": [
      "6039\n"
     ]
    }
   ],
   "source": [
    "print(user_to_idx['Mun'])"
   ]
  },
  {
   "cell_type": "markdown",
   "id": "e32daa96",
   "metadata": {},
   "source": [
    "제 데이터는 *6039*의 인덱스를 가지고 잘 있습니다.\n",
    "\n",
    "*0*부터 시작했으니 제 데이터를 추가한 후의 총 사용자가 *6040*명이면 마지막은 *6039*의 인덱스를 가져야 정상입니다."
   ]
  },
  {
   "cell_type": "code",
   "execution_count": 35,
   "id": "8c89d13a",
   "metadata": {},
   "outputs": [
    {
     "name": "stdout",
     "output_type": "stream",
     "text": [
      "user_id column indexing OK!!\n"
     ]
    }
   ],
   "source": [
    "# indexing을 통해 데이터 컬럼 내 값을 바꾸는 코드\n",
    "# dictionary 자료형의 get 함수는 https://wikidocs.net/16 을 참고하세요.\n",
    "\n",
    "# user_to_idx.get을 통해 user_id 컬럼의 모든 값을 인덱싱한 Series를 구해 봅시다. \n",
    "# 혹시 정상적으로 인덱싱되지 않은 row가 있다면 인덱스가 NaN이 될 테니 dropna()로 제거합니다. \n",
    "temp_user_data = ratings['user_id'].map(user_to_idx.get).dropna()\n",
    "if len(temp_user_data) == len(ratings):   # 모든 row가 정상적으로 인덱싱되었다면\n",
    "    print('user_id column indexing OK!!')\n",
    "    ratings['user_id'] = temp_user_data   # data['user_id']을 인덱싱된 Series로 교체해 줍니다. \n",
    "else:\n",
    "    print('user_id column indexing Fail!!')"
   ]
  },
  {
   "cell_type": "markdown",
   "id": "1048e978",
   "metadata": {},
   "source": [
    "`movie_id`는 위에서 했으니 여기선 생략해줍시다."
   ]
  },
  {
   "cell_type": "code",
   "execution_count": 36,
   "id": "21da9f7a",
   "metadata": {},
   "outputs": [
    {
     "data": {
      "text/plain": [
       "<6040x3628 sparse matrix of type '<class 'numpy.int64'>'\n",
       "\twith 836483 stored elements in Compressed Sparse Row format>"
      ]
     },
     "execution_count": 36,
     "metadata": {},
     "output_type": "execute_result"
    }
   ],
   "source": [
    "# 실습 위에 설명보고 이해해서 만들어보기\n",
    "from scipy.sparse import csr_matrix\n",
    "\n",
    "num_user = ratings['user_id'].nunique()\n",
    "num_movie = ratings['movie_id'].nunique()\n",
    "\n",
    "csr_data = csr_matrix((ratings.counts, (ratings.user_id, ratings.movie_id)), shape=(num_user, num_movie))\n",
    "\n",
    "csr_data"
   ]
  },
  {
   "cell_type": "markdown",
   "id": "e6257f1c",
   "metadata": {},
   "source": [
    "사용자×영화(*6040×3628*)의 행렬로 각 사용자마다 각 영화에 대한 선호도 벡터가 만들어졌습니다."
   ]
  },
  {
   "cell_type": "markdown",
   "id": "b0d3fb87",
   "metadata": {},
   "source": [
    "- - -\n",
    "### 모델 학습하기"
   ]
  },
  {
   "cell_type": "code",
   "execution_count": 37,
   "id": "41d02cd4",
   "metadata": {},
   "outputs": [],
   "source": [
    "from implicit.als import AlternatingLeastSquares\n",
    "import os\n",
    "import numpy as np\n",
    "\n",
    "# implicit 라이브러리에서 권장하고 있는 부분입니다. 학습 내용과는 무관합니다.\n",
    "os.environ['OPENBLAS_NUM_THREADS']='1'\n",
    "os.environ['KMP_DUPLICATE_LIB_OK']='True'\n",
    "os.environ['MKL_NUM_THREADS']='1'"
   ]
  },
  {
   "cell_type": "code",
   "execution_count": 38,
   "id": "deeddf66",
   "metadata": {},
   "outputs": [],
   "source": [
    "# Implicit AlternatingLeastSquares 모델의 선언\n",
    "als_model = AlternatingLeastSquares(factors=100, regularization=0.01, use_gpu=False, iterations=15, dtype=np.float32)"
   ]
  },
  {
   "cell_type": "code",
   "execution_count": 39,
   "id": "05dbe0db",
   "metadata": {},
   "outputs": [
    {
     "data": {
      "text/plain": [
       "<3628x6040 sparse matrix of type '<class 'numpy.int64'>'\n",
       "\twith 836483 stored elements in Compressed Sparse Column format>"
      ]
     },
     "execution_count": 39,
     "metadata": {},
     "output_type": "execute_result"
    }
   ],
   "source": [
    "# als 모델은 input으로 (item X user 꼴의 matrix를 받기 때문에 Transpose해줍니다.) 아니 이럴거면 처음부터 item X user로 만들지????\n",
    "csr_data_transpose = csr_data.T\n",
    "csr_data_transpose"
   ]
  },
  {
   "cell_type": "code",
   "execution_count": 40,
   "id": "73ea86d0",
   "metadata": {},
   "outputs": [
    {
     "data": {
      "application/vnd.jupyter.widget-view+json": {
       "model_id": "1d51ce4af3d140f980b06319e2df8681",
       "version_major": 2,
       "version_minor": 0
      },
      "text/plain": [
       "  0%|          | 0/15 [00:00<?, ?it/s]"
      ]
     },
     "metadata": {},
     "output_type": "display_data"
    }
   ],
   "source": [
    "# 모델 훈련\n",
    "als_model.fit(csr_data_transpose)"
   ]
  },
  {
   "cell_type": "markdown",
   "id": "f601c0c7",
   "metadata": {},
   "source": [
    "모델 학습이 15초 만에 종료됐습니다."
   ]
  },
  {
   "cell_type": "markdown",
   "id": "8137a462",
   "metadata": {},
   "source": [
    "- - -\n",
    "### 모델 학습 결과\n",
    "- **나의 영화 선호도 확인하기**"
   ]
  },
  {
   "cell_type": "code",
   "execution_count": 41,
   "id": "6e297e98",
   "metadata": {},
   "outputs": [],
   "source": [
    "Mun, Titanic = user_to_idx['Mun'], movie_to_idx['Titanic (1997)']\n",
    "Mun_vector, Titanic_vector = als_model.user_factors[Mun], als_model.item_factors[Titanic]"
   ]
  },
  {
   "cell_type": "markdown",
   "id": "2e1b3183",
   "metadata": {},
   "source": [
    "대표적으로 저에 대한 사용자 벡터와 타이타닉 영화의 벡터를 확인해보도록 하죠."
   ]
  },
  {
   "cell_type": "code",
   "execution_count": 42,
   "id": "8ea9a4c6",
   "metadata": {},
   "outputs": [
    {
     "data": {
      "text/plain": [
       "array([ 0.26130772,  0.12153314, -0.31572342, -0.3551459 ,  0.20819712,\n",
       "       -1.044304  , -0.34516123, -0.31854156, -0.9104711 ,  0.0677297 ,\n",
       "       -0.5040953 ,  0.4797179 , -0.95998657, -0.15371493, -0.19018471,\n",
       "        0.7120383 ,  0.22707263, -0.24242876, -0.09567729, -0.37529948,\n",
       "        0.34314632,  0.46200114, -0.01982164,  0.54478604,  0.33430055,\n",
       "       -0.23865044,  1.4161224 ,  0.05576517,  0.25922623,  0.16963257,\n",
       "        0.7322441 ,  1.0151587 ,  0.02927366, -0.31828308,  0.4289882 ,\n",
       "       -0.07597496, -0.40381142, -0.7778203 ,  0.3907601 ,  0.15658133,\n",
       "        0.22805077,  0.4444043 ,  0.4360316 ,  0.0158377 , -0.44906184,\n",
       "        0.86803657, -0.2893605 ,  0.42372367,  0.01824101, -0.20830534,\n",
       "       -0.01103728, -0.3182503 ,  1.2329347 , -0.39315966, -0.14898318,\n",
       "       -1.0411654 ,  0.3630126 , -0.12089308,  0.47748464,  0.25600782,\n",
       "       -0.19314614,  0.06699292,  0.11017838, -0.24331485, -0.8358684 ,\n",
       "        1.5689662 ,  0.00470726,  0.49968076,  0.33483997, -0.25092468,\n",
       "        0.15552841,  0.37095675,  0.6679588 , -0.7480164 ,  0.22175252,\n",
       "       -1.0819625 , -0.12499496,  0.39110127,  0.2658446 , -0.65822077,\n",
       "       -0.55992746, -0.02028299, -0.6899518 , -0.03755654,  0.18745404,\n",
       "        0.3085584 ,  0.14667729,  0.36941203, -0.75300306,  0.7785667 ,\n",
       "        0.5494786 ,  0.42683396, -0.0483411 ,  0.02257895, -0.06268798,\n",
       "       -0.22723015, -0.8069584 ,  0.4687935 , -0.42708263, -0.64532524],\n",
       "      dtype=float32)"
      ]
     },
     "execution_count": 42,
     "metadata": {},
     "output_type": "execute_result"
    }
   ],
   "source": [
    "Mun_vector"
   ]
  },
  {
   "cell_type": "code",
   "execution_count": 43,
   "id": "23f26990",
   "metadata": {},
   "outputs": [
    {
     "data": {
      "text/plain": [
       "array([-0.00372485,  0.00619354, -0.01244962, -0.00639248,  0.0207867 ,\n",
       "       -0.00858065,  0.0023635 , -0.00465974, -0.02815535,  0.03243747,\n",
       "        0.00085194, -0.02387981,  0.00602401, -0.00952865, -0.0230722 ,\n",
       "        0.03206567,  0.0424095 ,  0.01875404, -0.00919897,  0.01395185,\n",
       "        0.03045377, -0.00645427,  0.02416062,  0.00094711,  0.01492134,\n",
       "       -0.00653851,  0.02136445,  0.02701483,  0.04850592, -0.00742366,\n",
       "        0.02386043,  0.03035517,  0.00355213, -0.01736896,  0.02273885,\n",
       "       -0.00060166,  0.0046362 , -0.01900667, -0.00376536,  0.01599026,\n",
       "        0.02421061,  0.05761165, -0.01922029,  0.00130022, -0.02755581,\n",
       "        0.04136099, -0.00284315,  0.01080547, -0.01026229, -0.03102223,\n",
       "        0.02349281,  0.00173942,  0.06128301, -0.02905148,  0.02562502,\n",
       "        0.01883144,  0.01792842,  0.01966453,  0.01619505,  0.02336213,\n",
       "        0.00067467, -0.00345232, -0.02401496, -0.02588924, -0.00763957,\n",
       "        0.03635759,  0.0081636 ,  0.00521721,  0.00346633, -0.02767401,\n",
       "        0.01779326, -0.00912016,  0.02377648, -0.0130608 ,  0.01579111,\n",
       "       -0.01686573, -0.01908055,  0.00918572,  0.03208934,  0.00011837,\n",
       "        0.00836493,  0.00743586, -0.02817746,  0.01823367, -0.03256859,\n",
       "        0.00233628,  0.0182848 ,  0.01465926, -0.03171809,  0.03744516,\n",
       "        0.0270491 , -0.00498986,  0.0247556 , -0.01029032, -0.00609205,\n",
       "       -0.01768431, -0.01278892,  0.00913904, -0.04082176, -0.02118146],\n",
       "      dtype=float32)"
      ]
     },
     "execution_count": 43,
     "metadata": {},
     "output_type": "execute_result"
    }
   ],
   "source": [
    "Titanic_vector"
   ]
  },
  {
   "cell_type": "code",
   "execution_count": 44,
   "id": "40db8e5d",
   "metadata": {},
   "outputs": [
    {
     "data": {
      "text/plain": [
       "0.62738246"
      ]
     },
     "execution_count": 44,
     "metadata": {},
     "output_type": "execute_result"
    }
   ],
   "source": [
    "np.dot(Mun_vector, Titanic_vector)"
   ]
  },
  {
   "cell_type": "markdown",
   "id": "baf82777",
   "metadata": {},
   "source": [
    "저와 타이타닉 영화의 코사인 유사도를 보면 0.6이라고 합니다.\n",
    "\n",
    "제가 타이타닉이란 영화에 5점을 줬기 때문에 기본적으로 높은 유사도는 맞지만\n",
    "\n",
    "제가 추가한 5개의 영화는 사실 제가 좋아한다기 보단, 생각나는 대로 추가한 무작위 영화였다보니\n",
    "\n",
    "취향을 검색하지 못해서 1에는 가깝지 않게 나온 것 같습니다.\n",
    "\n",
    "아마 타이타닉과 비슷한 영화들로 5개를 추가했다면 더 높은 유사도가 나왔을 지 모르는 일입니다."
   ]
  },
  {
   "cell_type": "code",
   "execution_count": 45,
   "id": "b60035d2",
   "metadata": {},
   "outputs": [
    {
     "data": {
      "text/plain": [
       "'Jumanji (1995)'"
      ]
     },
     "execution_count": 45,
     "metadata": {},
     "output_type": "execute_result"
    }
   ],
   "source": [
    "search_movie(1)"
   ]
  },
  {
   "cell_type": "markdown",
   "id": "d271e8e3",
   "metadata": {},
   "source": [
    "아까는 제가 선호하는 영화와의 유사도를 검색해본 것이였습니다.\n",
    "\n",
    "그렇다면 아무 관련이 없는 영화는 유사도가 어떻게 나올까요?"
   ]
  },
  {
   "cell_type": "code",
   "execution_count": 46,
   "id": "ab40f82a",
   "metadata": {},
   "outputs": [
    {
     "data": {
      "text/plain": [
       "0.015755802"
      ]
     },
     "execution_count": 46,
     "metadata": {},
     "output_type": "execute_result"
    }
   ],
   "source": [
    "Jumanji = movie_to_idx['Jumanji (1995)']\n",
    "Jumanji_vector = als_model.item_factors[Jumanji]\n",
    "np.dot(Mun_vector, Jumanji_vector)"
   ]
  },
  {
   "cell_type": "markdown",
   "id": "7f08bbac",
   "metadata": {},
   "source": [
    "코사인 유사도가 0.04로 거의 관련이 없다고 나오고 있습니다.\n",
    "\n",
    "사실 전 주만지가 무슨 영화인지도 모르겠으니 일치한다고 봐야겠죠?"
   ]
  },
  {
   "cell_type": "markdown",
   "id": "8038d929",
   "metadata": {},
   "source": [
    "- - -\n",
    "### 모델 학습 결과\n",
    "- **내가 좋아하는 영화와 비슷한 영화 추천받기**"
   ]
  },
  {
   "cell_type": "markdown",
   "id": "4e265ca0",
   "metadata": {},
   "source": [
    "제가 스타워즈 영화를 선호한다고 가정하고 스타워즈와 비슷한 영화를 추천받아보겠습니다."
   ]
  },
  {
   "cell_type": "code",
   "execution_count": 47,
   "id": "7d66faa0",
   "metadata": {},
   "outputs": [
    {
     "data": {
      "text/plain": [
       "[(1094, 1.0),\n",
       " (1080, 0.8801171),\n",
       " (249, 0.7671528),\n",
       " (1082, 0.5418527),\n",
       " (2377, 0.44739243),\n",
       " (342, 0.40817484),\n",
       " (1152, 0.39856103),\n",
       " (1173, 0.3797919),\n",
       " (1122, 0.37759942),\n",
       " (2325, 0.3460706),\n",
       " (1084, 0.3424192),\n",
       " (601, 0.32154718),\n",
       " (569, 0.32001898),\n",
       " (1081, 0.3140734),\n",
       " (385, 0.31354594)]"
      ]
     },
     "execution_count": 47,
     "metadata": {},
     "output_type": "execute_result"
    }
   ],
   "source": [
    "favorite_movie = 'Star Wars: Episode VI - Return of the Jedi (1983)'\n",
    "movie_id = movie_to_idx[favorite_movie]\n",
    "similar_movie = als_model.similar_items(movie_id, N=15)\n",
    "similar_movie"
   ]
  },
  {
   "cell_type": "markdown",
   "id": "53d7bffb",
   "metadata": {},
   "source": [
    "첫 번째 열은 **영화의 인덱스이자 id**, 두 번째 열은 제가 넣은 영화와의 **코사인 유사도**를 보여줍니다."
   ]
  },
  {
   "cell_type": "code",
   "execution_count": 48,
   "id": "73711012",
   "metadata": {},
   "outputs": [
    {
     "data": {
      "text/plain": [
       "['Star Wars: Episode VI - Return of the Jedi (1983)',\n",
       " 'Star Wars: Episode V - The Empire Strikes Back (1980)',\n",
       " 'Star Wars: Episode IV - A New Hope (1977)',\n",
       " 'Raiders of the Lost Ark (1981)',\n",
       " 'Star Wars: Episode I - The Phantom Menace (1999)',\n",
       " 'Forrest Gump (1994)',\n",
       " 'Back to the Future (1985)',\n",
       " 'Indiana Jones and the Last Crusade (1989)',\n",
       " 'Terminator, The (1984)',\n",
       " 'Matrix, The (1999)',\n",
       " 'Aliens (1986)',\n",
       " 'Condition Red (1995)',\n",
       " 'Terminator 2: Judgment Day (1991)',\n",
       " 'Princess Bride, The (1987)',\n",
       " 'Open Season (1996)']"
      ]
     },
     "execution_count": 48,
     "metadata": {},
     "output_type": "execute_result"
    }
   ],
   "source": [
    "[idx_to_movie[i[0]] for i in similar_movie]"
   ]
  },
  {
   "cell_type": "markdown",
   "id": "c54c5ef5",
   "metadata": {},
   "source": [
    "영화의 id를 타이틀로 바꿔주면 다음과 같은 내용입니다.\n",
    "\n",
    "첫 번째 영화는 제가 고른 영화라서 벡터가 완전히 동일한 코사인 유사도 1이 나왔었는데요.\n",
    "\n",
    "이는 사실 오류라고 볼 수도 있겠습니다. 기준으로 잡은 영화를 새로운 것 마냥 추천해버리면 봤던 것만 계속 또 보게 되겠죠.\n",
    "\n",
    "마치 천 원짜리 지폐를 주며 \"동전으로 바꿔줘\" 했는데 다시 천 원짜리 지폐를 받은 셈입니다."
   ]
  },
  {
   "cell_type": "code",
   "execution_count": 49,
   "id": "c339aab7",
   "metadata": {},
   "outputs": [],
   "source": [
    "def get_similar_movie(movie_name: str):\n",
    "    movie_id = movie_to_idx[movie_name]\n",
    "    similar_movie = als_model.similar_items(movie_id)\n",
    "    similar_movie = [idx_to_movie[i[0]] for i in similar_movie]\n",
    "    return similar_movie"
   ]
  },
  {
   "cell_type": "markdown",
   "id": "dbcd24e6",
   "metadata": {},
   "source": [
    "영화를 기준으로 비슷한 영화들을 추천해주는 함수입니다."
   ]
  },
  {
   "cell_type": "code",
   "execution_count": 50,
   "id": "563f923a",
   "metadata": {},
   "outputs": [
    {
     "data": {
      "text/plain": [
       "'Toy Story (1995)'"
      ]
     },
     "execution_count": 50,
     "metadata": {},
     "output_type": "execute_result"
    }
   ],
   "source": [
    "search_movie(0)"
   ]
  },
  {
   "cell_type": "markdown",
   "id": "dc653105",
   "metadata": {},
   "source": [
    "이번엔 무작위로 고른 영화와 비슷한 영화들을 추천받아보겠습니다.\n",
    "\n",
    "다행히 아는 내용의 영화입니다."
   ]
  },
  {
   "cell_type": "code",
   "execution_count": 51,
   "id": "342fee47",
   "metadata": {},
   "outputs": [
    {
     "data": {
      "text/plain": [
       "['Toy Story (1995)',\n",
       " 'Toy Story 2 (1999)',\n",
       " \"Bug's Life, A (1998)\",\n",
       " 'Babe (1995)',\n",
       " 'Aladdin (1992)',\n",
       " 'Groundhog Day (1993)',\n",
       " 'Lion King, The (1994)',\n",
       " \"There's Something About Mary (1998)\",\n",
       " 'Pleasantville (1998)',\n",
       " 'Beauty and the Beast (1991)']"
      ]
     },
     "execution_count": 51,
     "metadata": {},
     "output_type": "execute_result"
    }
   ],
   "source": [
    "get_similar_movie('Toy Story (1995)')"
   ]
  },
  {
   "cell_type": "markdown",
   "id": "6eecaea6",
   "metadata": {},
   "source": [
    "토이 스토리와 비슷한 애니메이션 영화들을 추천해줬습니다.\n",
    "\n",
    "어째 이게 CV나 NLP보다 성과가 좋은 것 같네요."
   ]
  },
  {
   "cell_type": "code",
   "execution_count": 52,
   "id": "fc718d9d",
   "metadata": {},
   "outputs": [
    {
     "data": {
      "text/plain": [
       "'Babe (1995)'"
      ]
     },
     "execution_count": 52,
     "metadata": {},
     "output_type": "execute_result"
    }
   ],
   "source": [
    "search_movie(33)"
   ]
  },
  {
   "cell_type": "code",
   "execution_count": 53,
   "id": "7c344839",
   "metadata": {},
   "outputs": [
    {
     "data": {
      "text/plain": [
       "['Babe (1995)',\n",
       " 'Toy Story (1995)',\n",
       " 'Babe: Pig in the City (1998)',\n",
       " 'Toy Story 2 (1999)',\n",
       " 'Ed Wood (1994)',\n",
       " 'Little Princess, A (1995)',\n",
       " 'Angels in the Outfield (1994)',\n",
       " 'Player, The (1992)',\n",
       " 'Matilda (1996)',\n",
       " 'Secret Garden, The (1993)']"
      ]
     },
     "execution_count": 53,
     "metadata": {},
     "output_type": "execute_result"
    }
   ],
   "source": [
    "get_similar_movie('Babe (1995)')"
   ]
  },
  {
   "cell_type": "markdown",
   "id": "ebd610df",
   "metadata": {},
   "source": [
    "아니 진짜 성능이 좋은데?\n",
    "\n",
    "번역기도 코사인 유사도 쓰면 안되나요???"
   ]
  },
  {
   "cell_type": "markdown",
   "id": "c9242d6d",
   "metadata": {},
   "source": [
    "- - -\n",
    "### 모델 학습 결과\n",
    "- **내가 좋아할 만한 영화 추천받기**"
   ]
  },
  {
   "cell_type": "code",
   "execution_count": 54,
   "id": "9d0bbce0",
   "metadata": {},
   "outputs": [
    {
     "data": {
      "text/plain": [
       "[(1082, 0.5442473),\n",
       " (1080, 0.49847215),\n",
       " (249, 0.4182616),\n",
       " (1173, 0.37778217),\n",
       " (1122, 0.3070779),\n",
       " (2507, 0.26744163),\n",
       " (1266, 0.22950181),\n",
       " (342, 0.22828901),\n",
       " (141, 0.22637463),\n",
       " (1124, 0.22267261),\n",
       " (1003, 0.21940914),\n",
       " (2377, 0.21938454),\n",
       " (1895, 0.20926921),\n",
       " (2325, 0.20344222),\n",
       " (1084, 0.19689241),\n",
       " (2183, 0.18462244),\n",
       " (1532, 0.18360955),\n",
       " (60, 0.18221085),\n",
       " (1152, 0.17820725),\n",
       " (1974, 0.17495131)]"
      ]
     },
     "execution_count": 54,
     "metadata": {},
     "output_type": "execute_result"
    }
   ],
   "source": [
    "user = user_to_idx['Mun']\n",
    "# recommend에서는 user*item CSR Matrix를 받습니다.\n",
    "movie_recommended = als_model.recommend(user, csr_data, N=20, filter_already_liked_items=True)\n",
    "movie_recommended"
   ]
  },
  {
   "cell_type": "markdown",
   "id": "1451eec8",
   "metadata": {},
   "source": [
    "영화가 아닌 사용자를 기준으로 추천받을 수도 있습니다.\n",
    "\n",
    "`N` 인자로 추천받을 데이터의 수를 지정할 수 있습니다.\n",
    "\n",
    "`filter_already_liked_items` 인자는 제가 봤던 영화를 추천하지 않는다는 항목인데 implicit 버전 0.4.2에 버그가 있다고 합니다."
   ]
  },
  {
   "cell_type": "code",
   "execution_count": 55,
   "id": "b6a70f15",
   "metadata": {},
   "outputs": [
    {
     "data": {
      "text/plain": [
       "['Raiders of the Lost Ark (1981)',\n",
       " 'Star Wars: Episode V - The Empire Strikes Back (1980)',\n",
       " 'Star Wars: Episode IV - A New Hope (1977)',\n",
       " 'Indiana Jones and the Last Crusade (1989)',\n",
       " 'Terminator, The (1984)',\n",
       " 'Sixth Sense, The (1999)',\n",
       " 'Jerry Maguire (1996)',\n",
       " 'Forrest Gump (1994)',\n",
       " 'Apollo 13 (1995)',\n",
       " 'Glory (1989)',\n",
       " 'E.T. the Extra-Terrestrial (1982)',\n",
       " 'Star Wars: Episode I - The Phantom Menace (1999)',\n",
       " 'Indiana Jones and the Temple of Doom (1984)',\n",
       " 'Matrix, The (1999)',\n",
       " 'Aliens (1986)',\n",
       " \"You've Got Mail (1998)\",\n",
       " 'Good Will Hunting (1997)',\n",
       " \"Mr. Holland's Opus (1995)\",\n",
       " 'Back to the Future (1985)',\n",
       " 'Untouchables, The (1987)']"
      ]
     },
     "execution_count": 55,
     "metadata": {},
     "output_type": "execute_result"
    }
   ],
   "source": [
    "[idx_to_movie[i[0]] for i in movie_recommended]"
   ]
  },
  {
   "cell_type": "markdown",
   "id": "42c4fbcf",
   "metadata": {},
   "source": [
    "제가 사용한 버전은 0.4.8이라 봤던 영화를 재추천 하지는 않았네요."
   ]
  },
  {
   "cell_type": "code",
   "execution_count": 56,
   "id": "4ecf21bf",
   "metadata": {},
   "outputs": [],
   "source": [
    "recommended = movie_to_idx['Raiders of the Lost Ark (1981)']\n",
    "explain = als_model.explain(user, csr_data, itemid=recommended)"
   ]
  },
  {
   "cell_type": "code",
   "execution_count": 57,
   "id": "ceea30ce",
   "metadata": {},
   "outputs": [
    {
     "data": {
      "text/plain": [
       "[('Star Wars: Episode VI - Return of the Jedi (1983)', 0.22820331118762022),\n",
       " ('Die Hard (1988)', 0.1539548581464605),\n",
       " ('Truman Show, The (1998)', 0.07219635772516961),\n",
       " ('Titanic (1997)', 0.059139181640812534),\n",
       " ('Home Alone (1990)', 0.023386095425874647)]"
      ]
     },
     "execution_count": 57,
     "metadata": {},
     "output_type": "execute_result"
    }
   ],
   "source": [
    "[(idx_to_movie[i[0]], i[1]) for i in explain[1]]"
   ]
  },
  {
   "cell_type": "markdown",
   "id": "6aef55de",
   "metadata": {},
   "source": [
    "왜 이 영화를 추천해줬는지, 이 영화를 추천하는 데에 제가 봤던 영화들이 각각 어느 정도의 영향을 끼쳤는지도 확인할 수 있습니다.\n",
    "\n",
    "스타워즈가 가장 영향을 크게 끼쳤고, 그 다음으로 다이하드도 꽤 높게 기여한 것을 알 수 있습니다.\n",
    "\n",
    "그런 고로 미루어보아 `Raiders of the Lost Ark (1981)`는 액션 영화라고 예상할 수 있겠군요."
   ]
  },
  {
   "cell_type": "code",
   "execution_count": 58,
   "id": "202fbfb5",
   "metadata": {},
   "outputs": [
    {
     "data": {
      "text/html": [
       "<div>\n",
       "<style scoped>\n",
       "    .dataframe tbody tr th:only-of-type {\n",
       "        vertical-align: middle;\n",
       "    }\n",
       "\n",
       "    .dataframe tbody tr th {\n",
       "        vertical-align: top;\n",
       "    }\n",
       "\n",
       "    .dataframe thead th {\n",
       "        text-align: right;\n",
       "    }\n",
       "</style>\n",
       "<table border=\"1\" class=\"dataframe\">\n",
       "  <thead>\n",
       "    <tr style=\"text-align: right;\">\n",
       "      <th></th>\n",
       "      <th>movie_id</th>\n",
       "      <th>title</th>\n",
       "      <th>genre</th>\n",
       "    </tr>\n",
       "  </thead>\n",
       "  <tbody>\n",
       "    <tr>\n",
       "      <th>1082</th>\n",
       "      <td>1082</td>\n",
       "      <td>Raiders of the Lost Ark (1981)</td>\n",
       "      <td>Action|Adventure</td>\n",
       "    </tr>\n",
       "  </tbody>\n",
       "</table>\n",
       "</div>"
      ],
      "text/plain": [
       "      movie_id                           title             genre\n",
       "1082      1082  Raiders of the Lost Ark (1981)  Action|Adventure"
      ]
     },
     "execution_count": 58,
     "metadata": {},
     "output_type": "execute_result"
    }
   ],
   "source": [
    "movies[movies['title']=='Raiders of the Lost Ark (1981)']"
   ]
  },
  {
   "cell_type": "markdown",
   "id": "d9456fef",
   "metadata": {},
   "source": [
    "`Raiders of the Lost Ark (1981)`의 장르는 액션 어드벤쳐입니다."
   ]
  },
  {
   "cell_type": "markdown",
   "id": "33bbb096",
   "metadata": {},
   "source": [
    "- - -\n",
    "### 콘텐츠 기반 필터링"
   ]
  },
  {
   "cell_type": "code",
   "execution_count": 59,
   "id": "bd9bd7e5",
   "metadata": {
    "scrolled": true
   },
   "outputs": [
    {
     "data": {
      "text/html": [
       "<div>\n",
       "<style scoped>\n",
       "    .dataframe tbody tr th:only-of-type {\n",
       "        vertical-align: middle;\n",
       "    }\n",
       "\n",
       "    .dataframe tbody tr th {\n",
       "        vertical-align: top;\n",
       "    }\n",
       "\n",
       "    .dataframe thead th {\n",
       "        text-align: right;\n",
       "    }\n",
       "</style>\n",
       "<table border=\"1\" class=\"dataframe\">\n",
       "  <thead>\n",
       "    <tr style=\"text-align: right;\">\n",
       "      <th></th>\n",
       "      <th>movie_id</th>\n",
       "      <th>title</th>\n",
       "      <th>genre</th>\n",
       "    </tr>\n",
       "  </thead>\n",
       "  <tbody>\n",
       "    <tr>\n",
       "      <th>0</th>\n",
       "      <td>0</td>\n",
       "      <td>Toy Story (1995)</td>\n",
       "      <td>Animation|Children's|Comedy</td>\n",
       "    </tr>\n",
       "    <tr>\n",
       "      <th>1</th>\n",
       "      <td>1</td>\n",
       "      <td>Jumanji (1995)</td>\n",
       "      <td>Adventure|Children's|Fantasy</td>\n",
       "    </tr>\n",
       "    <tr>\n",
       "      <th>2</th>\n",
       "      <td>2</td>\n",
       "      <td>Grumpier Old Men (1995)</td>\n",
       "      <td>Comedy|Romance</td>\n",
       "    </tr>\n",
       "    <tr>\n",
       "      <th>3</th>\n",
       "      <td>3</td>\n",
       "      <td>Waiting to Exhale (1995)</td>\n",
       "      <td>Comedy|Drama</td>\n",
       "    </tr>\n",
       "    <tr>\n",
       "      <th>4</th>\n",
       "      <td>4</td>\n",
       "      <td>Father of the Bride Part II (1995)</td>\n",
       "      <td>Comedy</td>\n",
       "    </tr>\n",
       "  </tbody>\n",
       "</table>\n",
       "</div>"
      ],
      "text/plain": [
       "   movie_id                               title                         genre\n",
       "0         0                    Toy Story (1995)   Animation|Children's|Comedy\n",
       "1         1                      Jumanji (1995)  Adventure|Children's|Fantasy\n",
       "2         2             Grumpier Old Men (1995)                Comedy|Romance\n",
       "3         3            Waiting to Exhale (1995)                  Comedy|Drama\n",
       "4         4  Father of the Bride Part II (1995)                        Comedy"
      ]
     },
     "execution_count": 59,
     "metadata": {},
     "output_type": "execute_result"
    }
   ],
   "source": [
    "movies.head()"
   ]
  },
  {
   "cell_type": "markdown",
   "id": "2a488126",
   "metadata": {},
   "source": [
    "혹시 저만 `genre` 컬럼을 보고 비슷한 장르를 찾아 추천하는 상상을 했나요?\n",
    "\n",
    "늘 그랬지만 이대로 끝내기 아쉬우니 장르를 이용해 콘텐츠 기반 추천도 시도해봅시다."
   ]
  },
  {
   "cell_type": "code",
   "execution_count": 60,
   "id": "0bda10e6",
   "metadata": {},
   "outputs": [
    {
     "data": {
      "text/plain": [
       "{'Action',\n",
       " 'Adventure',\n",
       " 'Animation',\n",
       " \"Children's\",\n",
       " 'Comedy',\n",
       " 'Crime',\n",
       " 'Documentary',\n",
       " 'Drama',\n",
       " 'Fantasy',\n",
       " 'Film-Noir',\n",
       " 'Horror',\n",
       " 'Musical',\n",
       " 'Mystery',\n",
       " 'Romance',\n",
       " 'Sci-Fi',\n",
       " 'Thriller',\n",
       " 'War',\n",
       " 'Western'}"
      ]
     },
     "execution_count": 60,
     "metadata": {},
     "output_type": "execute_result"
    }
   ],
   "source": [
    "genre = set(j for i in movies['genre'] for j in i.split('|'))\n",
    "\n",
    "genre"
   ]
  },
  {
   "cell_type": "markdown",
   "id": "d5ab5c62",
   "metadata": {},
   "source": [
    "영화 데이터셋에 준비된 장르들입니다.\n",
    "\n",
    "장르가 한 문자열에 겹쳐진 상태로는 제대로 된 코사인 유사도를 확인할 수 없으니\n",
    "\n",
    "각 장르별 컬럼으로 원핫인코딩을 해주겠습니다."
   ]
  },
  {
   "cell_type": "code",
   "execution_count": 61,
   "id": "c1b233d1",
   "metadata": {},
   "outputs": [
    {
     "data": {
      "text/html": [
       "<div>\n",
       "<style scoped>\n",
       "    .dataframe tbody tr th:only-of-type {\n",
       "        vertical-align: middle;\n",
       "    }\n",
       "\n",
       "    .dataframe tbody tr th {\n",
       "        vertical-align: top;\n",
       "    }\n",
       "\n",
       "    .dataframe thead th {\n",
       "        text-align: right;\n",
       "    }\n",
       "</style>\n",
       "<table border=\"1\" class=\"dataframe\">\n",
       "  <thead>\n",
       "    <tr style=\"text-align: right;\">\n",
       "      <th></th>\n",
       "      <th>movie_id</th>\n",
       "      <th>title</th>\n",
       "      <th>genre</th>\n",
       "      <th>Film-Noir</th>\n",
       "      <th>Sci-Fi</th>\n",
       "      <th>Western</th>\n",
       "      <th>Action</th>\n",
       "      <th>Horror</th>\n",
       "      <th>War</th>\n",
       "      <th>Musical</th>\n",
       "      <th>...</th>\n",
       "      <th>Animation</th>\n",
       "      <th>Thriller</th>\n",
       "      <th>Fantasy</th>\n",
       "      <th>Comedy</th>\n",
       "      <th>Drama</th>\n",
       "      <th>Romance</th>\n",
       "      <th>Mystery</th>\n",
       "      <th>Children's</th>\n",
       "      <th>Adventure</th>\n",
       "      <th>Crime</th>\n",
       "    </tr>\n",
       "  </thead>\n",
       "  <tbody>\n",
       "    <tr>\n",
       "      <th>0</th>\n",
       "      <td>0</td>\n",
       "      <td>Toy Story (1995)</td>\n",
       "      <td>Animation|Children's|Comedy</td>\n",
       "      <td>0</td>\n",
       "      <td>0</td>\n",
       "      <td>0</td>\n",
       "      <td>0</td>\n",
       "      <td>0</td>\n",
       "      <td>0</td>\n",
       "      <td>0</td>\n",
       "      <td>...</td>\n",
       "      <td>1</td>\n",
       "      <td>0</td>\n",
       "      <td>0</td>\n",
       "      <td>1</td>\n",
       "      <td>0</td>\n",
       "      <td>0</td>\n",
       "      <td>0</td>\n",
       "      <td>1</td>\n",
       "      <td>0</td>\n",
       "      <td>0</td>\n",
       "    </tr>\n",
       "    <tr>\n",
       "      <th>1</th>\n",
       "      <td>1</td>\n",
       "      <td>Jumanji (1995)</td>\n",
       "      <td>Adventure|Children's|Fantasy</td>\n",
       "      <td>0</td>\n",
       "      <td>0</td>\n",
       "      <td>0</td>\n",
       "      <td>0</td>\n",
       "      <td>0</td>\n",
       "      <td>0</td>\n",
       "      <td>0</td>\n",
       "      <td>...</td>\n",
       "      <td>0</td>\n",
       "      <td>0</td>\n",
       "      <td>1</td>\n",
       "      <td>0</td>\n",
       "      <td>0</td>\n",
       "      <td>0</td>\n",
       "      <td>0</td>\n",
       "      <td>1</td>\n",
       "      <td>1</td>\n",
       "      <td>0</td>\n",
       "    </tr>\n",
       "    <tr>\n",
       "      <th>2</th>\n",
       "      <td>2</td>\n",
       "      <td>Grumpier Old Men (1995)</td>\n",
       "      <td>Comedy|Romance</td>\n",
       "      <td>0</td>\n",
       "      <td>0</td>\n",
       "      <td>0</td>\n",
       "      <td>0</td>\n",
       "      <td>0</td>\n",
       "      <td>0</td>\n",
       "      <td>0</td>\n",
       "      <td>...</td>\n",
       "      <td>0</td>\n",
       "      <td>0</td>\n",
       "      <td>0</td>\n",
       "      <td>1</td>\n",
       "      <td>0</td>\n",
       "      <td>1</td>\n",
       "      <td>0</td>\n",
       "      <td>0</td>\n",
       "      <td>0</td>\n",
       "      <td>0</td>\n",
       "    </tr>\n",
       "    <tr>\n",
       "      <th>3</th>\n",
       "      <td>3</td>\n",
       "      <td>Waiting to Exhale (1995)</td>\n",
       "      <td>Comedy|Drama</td>\n",
       "      <td>0</td>\n",
       "      <td>0</td>\n",
       "      <td>0</td>\n",
       "      <td>0</td>\n",
       "      <td>0</td>\n",
       "      <td>0</td>\n",
       "      <td>0</td>\n",
       "      <td>...</td>\n",
       "      <td>0</td>\n",
       "      <td>0</td>\n",
       "      <td>0</td>\n",
       "      <td>1</td>\n",
       "      <td>1</td>\n",
       "      <td>0</td>\n",
       "      <td>0</td>\n",
       "      <td>0</td>\n",
       "      <td>0</td>\n",
       "      <td>0</td>\n",
       "    </tr>\n",
       "    <tr>\n",
       "      <th>4</th>\n",
       "      <td>4</td>\n",
       "      <td>Father of the Bride Part II (1995)</td>\n",
       "      <td>Comedy</td>\n",
       "      <td>0</td>\n",
       "      <td>0</td>\n",
       "      <td>0</td>\n",
       "      <td>0</td>\n",
       "      <td>0</td>\n",
       "      <td>0</td>\n",
       "      <td>0</td>\n",
       "      <td>...</td>\n",
       "      <td>0</td>\n",
       "      <td>0</td>\n",
       "      <td>0</td>\n",
       "      <td>1</td>\n",
       "      <td>0</td>\n",
       "      <td>0</td>\n",
       "      <td>0</td>\n",
       "      <td>0</td>\n",
       "      <td>0</td>\n",
       "      <td>0</td>\n",
       "    </tr>\n",
       "    <tr>\n",
       "      <th>...</th>\n",
       "      <td>...</td>\n",
       "      <td>...</td>\n",
       "      <td>...</td>\n",
       "      <td>...</td>\n",
       "      <td>...</td>\n",
       "      <td>...</td>\n",
       "      <td>...</td>\n",
       "      <td>...</td>\n",
       "      <td>...</td>\n",
       "      <td>...</td>\n",
       "      <td>...</td>\n",
       "      <td>...</td>\n",
       "      <td>...</td>\n",
       "      <td>...</td>\n",
       "      <td>...</td>\n",
       "      <td>...</td>\n",
       "      <td>...</td>\n",
       "      <td>...</td>\n",
       "      <td>...</td>\n",
       "      <td>...</td>\n",
       "      <td>...</td>\n",
       "    </tr>\n",
       "    <tr>\n",
       "      <th>3623</th>\n",
       "      <td>3623</td>\n",
       "      <td>Meet the Parents (2000)</td>\n",
       "      <td>Comedy</td>\n",
       "      <td>0</td>\n",
       "      <td>0</td>\n",
       "      <td>0</td>\n",
       "      <td>0</td>\n",
       "      <td>0</td>\n",
       "      <td>0</td>\n",
       "      <td>0</td>\n",
       "      <td>...</td>\n",
       "      <td>0</td>\n",
       "      <td>0</td>\n",
       "      <td>0</td>\n",
       "      <td>1</td>\n",
       "      <td>0</td>\n",
       "      <td>0</td>\n",
       "      <td>0</td>\n",
       "      <td>0</td>\n",
       "      <td>0</td>\n",
       "      <td>0</td>\n",
       "    </tr>\n",
       "    <tr>\n",
       "      <th>3624</th>\n",
       "      <td>3624</td>\n",
       "      <td>Requiem for a Dream (2000)</td>\n",
       "      <td>Drama</td>\n",
       "      <td>0</td>\n",
       "      <td>0</td>\n",
       "      <td>0</td>\n",
       "      <td>0</td>\n",
       "      <td>0</td>\n",
       "      <td>0</td>\n",
       "      <td>0</td>\n",
       "      <td>...</td>\n",
       "      <td>0</td>\n",
       "      <td>0</td>\n",
       "      <td>0</td>\n",
       "      <td>0</td>\n",
       "      <td>1</td>\n",
       "      <td>0</td>\n",
       "      <td>0</td>\n",
       "      <td>0</td>\n",
       "      <td>0</td>\n",
       "      <td>0</td>\n",
       "    </tr>\n",
       "    <tr>\n",
       "      <th>3625</th>\n",
       "      <td>3625</td>\n",
       "      <td>Tigerland (2000)</td>\n",
       "      <td>Drama</td>\n",
       "      <td>0</td>\n",
       "      <td>0</td>\n",
       "      <td>0</td>\n",
       "      <td>0</td>\n",
       "      <td>0</td>\n",
       "      <td>0</td>\n",
       "      <td>0</td>\n",
       "      <td>...</td>\n",
       "      <td>0</td>\n",
       "      <td>0</td>\n",
       "      <td>0</td>\n",
       "      <td>0</td>\n",
       "      <td>1</td>\n",
       "      <td>0</td>\n",
       "      <td>0</td>\n",
       "      <td>0</td>\n",
       "      <td>0</td>\n",
       "      <td>0</td>\n",
       "    </tr>\n",
       "    <tr>\n",
       "      <th>3626</th>\n",
       "      <td>3626</td>\n",
       "      <td>Two Family House (2000)</td>\n",
       "      <td>Drama</td>\n",
       "      <td>0</td>\n",
       "      <td>0</td>\n",
       "      <td>0</td>\n",
       "      <td>0</td>\n",
       "      <td>0</td>\n",
       "      <td>0</td>\n",
       "      <td>0</td>\n",
       "      <td>...</td>\n",
       "      <td>0</td>\n",
       "      <td>0</td>\n",
       "      <td>0</td>\n",
       "      <td>0</td>\n",
       "      <td>1</td>\n",
       "      <td>0</td>\n",
       "      <td>0</td>\n",
       "      <td>0</td>\n",
       "      <td>0</td>\n",
       "      <td>0</td>\n",
       "    </tr>\n",
       "    <tr>\n",
       "      <th>3627</th>\n",
       "      <td>3627</td>\n",
       "      <td>Contender, The (2000)</td>\n",
       "      <td>Drama|Thriller</td>\n",
       "      <td>0</td>\n",
       "      <td>0</td>\n",
       "      <td>0</td>\n",
       "      <td>0</td>\n",
       "      <td>0</td>\n",
       "      <td>0</td>\n",
       "      <td>0</td>\n",
       "      <td>...</td>\n",
       "      <td>0</td>\n",
       "      <td>1</td>\n",
       "      <td>0</td>\n",
       "      <td>0</td>\n",
       "      <td>1</td>\n",
       "      <td>0</td>\n",
       "      <td>0</td>\n",
       "      <td>0</td>\n",
       "      <td>0</td>\n",
       "      <td>0</td>\n",
       "    </tr>\n",
       "  </tbody>\n",
       "</table>\n",
       "<p>3628 rows × 21 columns</p>\n",
       "</div>"
      ],
      "text/plain": [
       "      movie_id                               title  \\\n",
       "0            0                    Toy Story (1995)   \n",
       "1            1                      Jumanji (1995)   \n",
       "2            2             Grumpier Old Men (1995)   \n",
       "3            3            Waiting to Exhale (1995)   \n",
       "4            4  Father of the Bride Part II (1995)   \n",
       "...        ...                                 ...   \n",
       "3623      3623             Meet the Parents (2000)   \n",
       "3624      3624          Requiem for a Dream (2000)   \n",
       "3625      3625                    Tigerland (2000)   \n",
       "3626      3626             Two Family House (2000)   \n",
       "3627      3627               Contender, The (2000)   \n",
       "\n",
       "                             genre  Film-Noir  Sci-Fi  Western  Action  \\\n",
       "0      Animation|Children's|Comedy          0       0        0       0   \n",
       "1     Adventure|Children's|Fantasy          0       0        0       0   \n",
       "2                   Comedy|Romance          0       0        0       0   \n",
       "3                     Comedy|Drama          0       0        0       0   \n",
       "4                           Comedy          0       0        0       0   \n",
       "...                            ...        ...     ...      ...     ...   \n",
       "3623                        Comedy          0       0        0       0   \n",
       "3624                         Drama          0       0        0       0   \n",
       "3625                         Drama          0       0        0       0   \n",
       "3626                         Drama          0       0        0       0   \n",
       "3627                Drama|Thriller          0       0        0       0   \n",
       "\n",
       "      Horror  War  Musical  ...  Animation  Thriller  Fantasy  Comedy  Drama  \\\n",
       "0          0    0        0  ...          1         0        0       1      0   \n",
       "1          0    0        0  ...          0         0        1       0      0   \n",
       "2          0    0        0  ...          0         0        0       1      0   \n",
       "3          0    0        0  ...          0         0        0       1      1   \n",
       "4          0    0        0  ...          0         0        0       1      0   \n",
       "...      ...  ...      ...  ...        ...       ...      ...     ...    ...   \n",
       "3623       0    0        0  ...          0         0        0       1      0   \n",
       "3624       0    0        0  ...          0         0        0       0      1   \n",
       "3625       0    0        0  ...          0         0        0       0      1   \n",
       "3626       0    0        0  ...          0         0        0       0      1   \n",
       "3627       0    0        0  ...          0         1        0       0      1   \n",
       "\n",
       "      Romance  Mystery  Children's  Adventure  Crime  \n",
       "0           0        0           1          0      0  \n",
       "1           0        0           1          1      0  \n",
       "2           1        0           0          0      0  \n",
       "3           0        0           0          0      0  \n",
       "4           0        0           0          0      0  \n",
       "...       ...      ...         ...        ...    ...  \n",
       "3623        0        0           0          0      0  \n",
       "3624        0        0           0          0      0  \n",
       "3625        0        0           0          0      0  \n",
       "3626        0        0           0          0      0  \n",
       "3627        0        0           0          0      0  \n",
       "\n",
       "[3628 rows x 21 columns]"
      ]
     },
     "execution_count": 61,
     "metadata": {},
     "output_type": "execute_result"
    }
   ],
   "source": [
    "for i in genre:\n",
    "    movies[i] = movies['genre'].apply(lambda x: i in x).astype(int)\n",
    "\n",
    "movies"
   ]
  },
  {
   "cell_type": "markdown",
   "id": "d27dc00f",
   "metadata": {},
   "source": [
    "처음 시도해보는 코드였지만 무사히 잘 적용됐습니다.\n",
    "\n",
    "그런데 영화의 종류가 *3628*개인 것에 비해 기껏해야 1 ~ 3개씩 가지는 장르가 18종류인 것은 겹치는 장르가 굉장히 많을 것 같은데요.\n",
    "\n",
    "그렇게 되면 대다수의 영화가 코사인 유사도 1에 수렴해서 제대로 된 추천이 되지 못할 것 같으니 인기 영화를 추출해주겠습니다."
   ]
  },
  {
   "cell_type": "code",
   "execution_count": 62,
   "id": "bb99d349",
   "metadata": {},
   "outputs": [
    {
     "data": {
      "text/html": [
       "<div>\n",
       "<style scoped>\n",
       "    .dataframe tbody tr th:only-of-type {\n",
       "        vertical-align: middle;\n",
       "    }\n",
       "\n",
       "    .dataframe tbody tr th {\n",
       "        vertical-align: top;\n",
       "    }\n",
       "\n",
       "    .dataframe thead th {\n",
       "        text-align: right;\n",
       "    }\n",
       "</style>\n",
       "<table border=\"1\" class=\"dataframe\">\n",
       "  <thead>\n",
       "    <tr style=\"text-align: right;\">\n",
       "      <th></th>\n",
       "      <th>user_id</th>\n",
       "      <th>movie_id</th>\n",
       "      <th>counts</th>\n",
       "    </tr>\n",
       "  </thead>\n",
       "  <tbody>\n",
       "    <tr>\n",
       "      <th>0</th>\n",
       "      <td>0</td>\n",
       "      <td>1078</td>\n",
       "      <td>5</td>\n",
       "    </tr>\n",
       "    <tr>\n",
       "      <th>1</th>\n",
       "      <td>0</td>\n",
       "      <td>627</td>\n",
       "      <td>3</td>\n",
       "    </tr>\n",
       "    <tr>\n",
       "      <th>2</th>\n",
       "      <td>0</td>\n",
       "      <td>833</td>\n",
       "      <td>3</td>\n",
       "    </tr>\n",
       "    <tr>\n",
       "      <th>3</th>\n",
       "      <td>0</td>\n",
       "      <td>3110</td>\n",
       "      <td>4</td>\n",
       "    </tr>\n",
       "    <tr>\n",
       "      <th>4</th>\n",
       "      <td>0</td>\n",
       "      <td>2114</td>\n",
       "      <td>5</td>\n",
       "    </tr>\n",
       "    <tr>\n",
       "      <th>...</th>\n",
       "      <td>...</td>\n",
       "      <td>...</td>\n",
       "      <td>...</td>\n",
       "    </tr>\n",
       "    <tr>\n",
       "      <th>0</th>\n",
       "      <td>6039</td>\n",
       "      <td>566</td>\n",
       "      <td>5</td>\n",
       "    </tr>\n",
       "    <tr>\n",
       "      <th>1</th>\n",
       "      <td>6039</td>\n",
       "      <td>1540</td>\n",
       "      <td>5</td>\n",
       "    </tr>\n",
       "    <tr>\n",
       "      <th>2</th>\n",
       "      <td>6039</td>\n",
       "      <td>949</td>\n",
       "      <td>5</td>\n",
       "    </tr>\n",
       "    <tr>\n",
       "      <th>3</th>\n",
       "      <td>6039</td>\n",
       "      <td>1514</td>\n",
       "      <td>5</td>\n",
       "    </tr>\n",
       "    <tr>\n",
       "      <th>4</th>\n",
       "      <td>6039</td>\n",
       "      <td>1094</td>\n",
       "      <td>5</td>\n",
       "    </tr>\n",
       "  </tbody>\n",
       "</table>\n",
       "<p>836483 rows × 3 columns</p>\n",
       "</div>"
      ],
      "text/plain": [
       "    user_id  movie_id  counts\n",
       "0         0      1078       5\n",
       "1         0       627       3\n",
       "2         0       833       3\n",
       "3         0      3110       4\n",
       "4         0      2114       5\n",
       "..      ...       ...     ...\n",
       "0      6039       566       5\n",
       "1      6039      1540       5\n",
       "2      6039       949       5\n",
       "3      6039      1514       5\n",
       "4      6039      1094       5\n",
       "\n",
       "[836483 rows x 3 columns]"
      ]
     },
     "execution_count": 62,
     "metadata": {},
     "output_type": "execute_result"
    }
   ],
   "source": [
    "ratings"
   ]
  },
  {
   "cell_type": "markdown",
   "id": "2d3d1114",
   "metadata": {},
   "source": [
    "사용자 데이터셋을 봅시다."
   ]
  },
  {
   "cell_type": "code",
   "execution_count": 63,
   "id": "011fd1ae",
   "metadata": {},
   "outputs": [
    {
     "data": {
      "text/plain": [
       "count    3628.000000\n",
       "mean      230.563120\n",
       "std       355.600954\n",
       "min         1.000000\n",
       "25%        23.000000\n",
       "50%        87.000000\n",
       "75%       285.000000\n",
       "max      3211.000000\n",
       "Name: user_id, dtype: float64"
      ]
     },
     "execution_count": 63,
     "metadata": {},
     "output_type": "execute_result"
    }
   ],
   "source": [
    "movies_count = ratings.groupby('movie_id')['user_id'].count()\n",
    "\n",
    "movies_count.describe()"
   ]
  },
  {
   "cell_type": "markdown",
   "id": "6ca20fb4",
   "metadata": {},
   "source": [
    "영화별 시청자 수입니다.\n",
    "\n",
    "평균이 230회, 최대 3211회입니다\n",
    "\n",
    "사분위표중 75%에 해당하는 285회를 인기 영화의 기준으로 잡겠습니다."
   ]
  },
  {
   "cell_type": "code",
   "execution_count": 64,
   "id": "2a6281a2",
   "metadata": {},
   "outputs": [
    {
     "data": {
      "text/plain": [
       "count    3628.000000\n",
       "mean        3.767693\n",
       "std         0.336912\n",
       "min         3.000000\n",
       "25%         3.522566\n",
       "50%         3.749776\n",
       "75%         4.000000\n",
       "max         5.000000\n",
       "Name: counts, dtype: float64"
      ]
     },
     "execution_count": 64,
     "metadata": {},
     "output_type": "execute_result"
    }
   ],
   "source": [
    "movies_ratings = ratings.groupby('movie_id')['counts'].mean()\n",
    "\n",
    "movies_ratings.describe()"
   ]
  },
  {
   "cell_type": "markdown",
   "id": "0c7b2dc8",
   "metadata": {},
   "source": [
    "평점도 빼먹을 수 없겠죠.\n",
    "\n",
    "영화별 평균 평점입니다.\n",
    "\n",
    "평균 평점이 4점이 넘는 영화를 반응 좋은 인기 영화라고 하겠습니다."
   ]
  },
  {
   "cell_type": "code",
   "execution_count": 65,
   "id": "70fbf02e",
   "metadata": {
    "scrolled": false
   },
   "outputs": [
    {
     "data": {
      "text/html": [
       "<div>\n",
       "<style scoped>\n",
       "    .dataframe tbody tr th:only-of-type {\n",
       "        vertical-align: middle;\n",
       "    }\n",
       "\n",
       "    .dataframe tbody tr th {\n",
       "        vertical-align: top;\n",
       "    }\n",
       "\n",
       "    .dataframe thead th {\n",
       "        text-align: right;\n",
       "    }\n",
       "</style>\n",
       "<table border=\"1\" class=\"dataframe\">\n",
       "  <thead>\n",
       "    <tr style=\"text-align: right;\">\n",
       "      <th></th>\n",
       "      <th>movie_id</th>\n",
       "      <th>title</th>\n",
       "      <th>genre</th>\n",
       "      <th>Film-Noir</th>\n",
       "      <th>Sci-Fi</th>\n",
       "      <th>Western</th>\n",
       "      <th>Action</th>\n",
       "      <th>Horror</th>\n",
       "      <th>War</th>\n",
       "      <th>Musical</th>\n",
       "      <th>...</th>\n",
       "      <th>Animation</th>\n",
       "      <th>Thriller</th>\n",
       "      <th>Fantasy</th>\n",
       "      <th>Comedy</th>\n",
       "      <th>Drama</th>\n",
       "      <th>Romance</th>\n",
       "      <th>Mystery</th>\n",
       "      <th>Children's</th>\n",
       "      <th>Adventure</th>\n",
       "      <th>Crime</th>\n",
       "    </tr>\n",
       "  </thead>\n",
       "  <tbody>\n",
       "    <tr>\n",
       "      <th>0</th>\n",
       "      <td>0</td>\n",
       "      <td>Toy Story (1995)</td>\n",
       "      <td>Animation|Children's|Comedy</td>\n",
       "      <td>0</td>\n",
       "      <td>0</td>\n",
       "      <td>0</td>\n",
       "      <td>0</td>\n",
       "      <td>0</td>\n",
       "      <td>0</td>\n",
       "      <td>0</td>\n",
       "      <td>...</td>\n",
       "      <td>1</td>\n",
       "      <td>0</td>\n",
       "      <td>0</td>\n",
       "      <td>1</td>\n",
       "      <td>0</td>\n",
       "      <td>0</td>\n",
       "      <td>0</td>\n",
       "      <td>1</td>\n",
       "      <td>0</td>\n",
       "      <td>0</td>\n",
       "    </tr>\n",
       "    <tr>\n",
       "      <th>5</th>\n",
       "      <td>5</td>\n",
       "      <td>Heat (1995)</td>\n",
       "      <td>Action|Crime|Thriller</td>\n",
       "      <td>0</td>\n",
       "      <td>0</td>\n",
       "      <td>0</td>\n",
       "      <td>1</td>\n",
       "      <td>0</td>\n",
       "      <td>0</td>\n",
       "      <td>0</td>\n",
       "      <td>...</td>\n",
       "      <td>0</td>\n",
       "      <td>1</td>\n",
       "      <td>0</td>\n",
       "      <td>0</td>\n",
       "      <td>0</td>\n",
       "      <td>0</td>\n",
       "      <td>0</td>\n",
       "      <td>0</td>\n",
       "      <td>0</td>\n",
       "      <td>1</td>\n",
       "    </tr>\n",
       "    <tr>\n",
       "      <th>16</th>\n",
       "      <td>16</td>\n",
       "      <td>Sense and Sensibility (1995)</td>\n",
       "      <td>Drama|Romance</td>\n",
       "      <td>0</td>\n",
       "      <td>0</td>\n",
       "      <td>0</td>\n",
       "      <td>0</td>\n",
       "      <td>0</td>\n",
       "      <td>0</td>\n",
       "      <td>0</td>\n",
       "      <td>...</td>\n",
       "      <td>0</td>\n",
       "      <td>0</td>\n",
       "      <td>0</td>\n",
       "      <td>0</td>\n",
       "      <td>1</td>\n",
       "      <td>1</td>\n",
       "      <td>0</td>\n",
       "      <td>0</td>\n",
       "      <td>0</td>\n",
       "      <td>0</td>\n",
       "    </tr>\n",
       "    <tr>\n",
       "      <th>28</th>\n",
       "      <td>28</td>\n",
       "      <td>City of Lost Children, The (1995)</td>\n",
       "      <td>Adventure|Sci-Fi</td>\n",
       "      <td>0</td>\n",
       "      <td>1</td>\n",
       "      <td>0</td>\n",
       "      <td>0</td>\n",
       "      <td>0</td>\n",
       "      <td>0</td>\n",
       "      <td>0</td>\n",
       "      <td>...</td>\n",
       "      <td>0</td>\n",
       "      <td>0</td>\n",
       "      <td>0</td>\n",
       "      <td>0</td>\n",
       "      <td>0</td>\n",
       "      <td>0</td>\n",
       "      <td>0</td>\n",
       "      <td>0</td>\n",
       "      <td>1</td>\n",
       "      <td>0</td>\n",
       "    </tr>\n",
       "    <tr>\n",
       "      <th>31</th>\n",
       "      <td>31</td>\n",
       "      <td>Twelve Monkeys (1995)</td>\n",
       "      <td>Drama|Sci-Fi</td>\n",
       "      <td>0</td>\n",
       "      <td>1</td>\n",
       "      <td>0</td>\n",
       "      <td>0</td>\n",
       "      <td>0</td>\n",
       "      <td>0</td>\n",
       "      <td>0</td>\n",
       "      <td>...</td>\n",
       "      <td>0</td>\n",
       "      <td>0</td>\n",
       "      <td>0</td>\n",
       "      <td>0</td>\n",
       "      <td>1</td>\n",
       "      <td>0</td>\n",
       "      <td>0</td>\n",
       "      <td>0</td>\n",
       "      <td>0</td>\n",
       "      <td>0</td>\n",
       "    </tr>\n",
       "    <tr>\n",
       "      <th>...</th>\n",
       "      <td>...</td>\n",
       "      <td>...</td>\n",
       "      <td>...</td>\n",
       "      <td>...</td>\n",
       "      <td>...</td>\n",
       "      <td>...</td>\n",
       "      <td>...</td>\n",
       "      <td>...</td>\n",
       "      <td>...</td>\n",
       "      <td>...</td>\n",
       "      <td>...</td>\n",
       "      <td>...</td>\n",
       "      <td>...</td>\n",
       "      <td>...</td>\n",
       "      <td>...</td>\n",
       "      <td>...</td>\n",
       "      <td>...</td>\n",
       "      <td>...</td>\n",
       "      <td>...</td>\n",
       "      <td>...</td>\n",
       "      <td>...</td>\n",
       "    </tr>\n",
       "    <tr>\n",
       "      <th>3515</th>\n",
       "      <td>3515</td>\n",
       "      <td>Kelly's Heroes (1970)</td>\n",
       "      <td>Action|Comedy|War</td>\n",
       "      <td>0</td>\n",
       "      <td>0</td>\n",
       "      <td>0</td>\n",
       "      <td>1</td>\n",
       "      <td>0</td>\n",
       "      <td>1</td>\n",
       "      <td>0</td>\n",
       "      <td>...</td>\n",
       "      <td>0</td>\n",
       "      <td>0</td>\n",
       "      <td>0</td>\n",
       "      <td>1</td>\n",
       "      <td>0</td>\n",
       "      <td>0</td>\n",
       "      <td>0</td>\n",
       "      <td>0</td>\n",
       "      <td>0</td>\n",
       "      <td>0</td>\n",
       "    </tr>\n",
       "    <tr>\n",
       "      <th>3546</th>\n",
       "      <td>3546</td>\n",
       "      <td>Naked Gun: From the Files of Police Squad!, Th...</td>\n",
       "      <td>Comedy</td>\n",
       "      <td>0</td>\n",
       "      <td>0</td>\n",
       "      <td>0</td>\n",
       "      <td>0</td>\n",
       "      <td>0</td>\n",
       "      <td>0</td>\n",
       "      <td>0</td>\n",
       "      <td>...</td>\n",
       "      <td>0</td>\n",
       "      <td>0</td>\n",
       "      <td>0</td>\n",
       "      <td>1</td>\n",
       "      <td>0</td>\n",
       "      <td>0</td>\n",
       "      <td>0</td>\n",
       "      <td>0</td>\n",
       "      <td>0</td>\n",
       "      <td>0</td>\n",
       "    </tr>\n",
       "    <tr>\n",
       "      <th>3574</th>\n",
       "      <td>3574</td>\n",
       "      <td>Almost Famous (2000)</td>\n",
       "      <td>Comedy|Drama</td>\n",
       "      <td>0</td>\n",
       "      <td>0</td>\n",
       "      <td>0</td>\n",
       "      <td>0</td>\n",
       "      <td>0</td>\n",
       "      <td>0</td>\n",
       "      <td>0</td>\n",
       "      <td>...</td>\n",
       "      <td>0</td>\n",
       "      <td>0</td>\n",
       "      <td>0</td>\n",
       "      <td>1</td>\n",
       "      <td>1</td>\n",
       "      <td>0</td>\n",
       "      <td>0</td>\n",
       "      <td>0</td>\n",
       "      <td>0</td>\n",
       "      <td>0</td>\n",
       "    </tr>\n",
       "    <tr>\n",
       "      <th>3586</th>\n",
       "      <td>3586</td>\n",
       "      <td>Best in Show (2000)</td>\n",
       "      <td>Comedy</td>\n",
       "      <td>0</td>\n",
       "      <td>0</td>\n",
       "      <td>0</td>\n",
       "      <td>0</td>\n",
       "      <td>0</td>\n",
       "      <td>0</td>\n",
       "      <td>0</td>\n",
       "      <td>...</td>\n",
       "      <td>0</td>\n",
       "      <td>0</td>\n",
       "      <td>0</td>\n",
       "      <td>1</td>\n",
       "      <td>0</td>\n",
       "      <td>0</td>\n",
       "      <td>0</td>\n",
       "      <td>0</td>\n",
       "      <td>0</td>\n",
       "      <td>0</td>\n",
       "    </tr>\n",
       "    <tr>\n",
       "      <th>3591</th>\n",
       "      <td>3591</td>\n",
       "      <td>Remember the Titans (2000)</td>\n",
       "      <td>Drama</td>\n",
       "      <td>0</td>\n",
       "      <td>0</td>\n",
       "      <td>0</td>\n",
       "      <td>0</td>\n",
       "      <td>0</td>\n",
       "      <td>0</td>\n",
       "      <td>0</td>\n",
       "      <td>...</td>\n",
       "      <td>0</td>\n",
       "      <td>0</td>\n",
       "      <td>0</td>\n",
       "      <td>0</td>\n",
       "      <td>1</td>\n",
       "      <td>0</td>\n",
       "      <td>0</td>\n",
       "      <td>0</td>\n",
       "      <td>0</td>\n",
       "      <td>0</td>\n",
       "    </tr>\n",
       "  </tbody>\n",
       "</table>\n",
       "<p>391 rows × 21 columns</p>\n",
       "</div>"
      ],
      "text/plain": [
       "      movie_id                                              title  \\\n",
       "0            0                                   Toy Story (1995)   \n",
       "5            5                                        Heat (1995)   \n",
       "16          16                       Sense and Sensibility (1995)   \n",
       "28          28                  City of Lost Children, The (1995)   \n",
       "31          31                              Twelve Monkeys (1995)   \n",
       "...        ...                                                ...   \n",
       "3515      3515                              Kelly's Heroes (1970)   \n",
       "3546      3546  Naked Gun: From the Files of Police Squad!, Th...   \n",
       "3574      3574                               Almost Famous (2000)   \n",
       "3586      3586                                Best in Show (2000)   \n",
       "3591      3591                         Remember the Titans (2000)   \n",
       "\n",
       "                            genre  Film-Noir  Sci-Fi  Western  Action  Horror  \\\n",
       "0     Animation|Children's|Comedy          0       0        0       0       0   \n",
       "5           Action|Crime|Thriller          0       0        0       1       0   \n",
       "16                  Drama|Romance          0       0        0       0       0   \n",
       "28               Adventure|Sci-Fi          0       1        0       0       0   \n",
       "31                   Drama|Sci-Fi          0       1        0       0       0   \n",
       "...                           ...        ...     ...      ...     ...     ...   \n",
       "3515            Action|Comedy|War          0       0        0       1       0   \n",
       "3546                       Comedy          0       0        0       0       0   \n",
       "3574                 Comedy|Drama          0       0        0       0       0   \n",
       "3586                       Comedy          0       0        0       0       0   \n",
       "3591                        Drama          0       0        0       0       0   \n",
       "\n",
       "      War  Musical  ...  Animation  Thriller  Fantasy  Comedy  Drama  Romance  \\\n",
       "0       0        0  ...          1         0        0       1      0        0   \n",
       "5       0        0  ...          0         1        0       0      0        0   \n",
       "16      0        0  ...          0         0        0       0      1        1   \n",
       "28      0        0  ...          0         0        0       0      0        0   \n",
       "31      0        0  ...          0         0        0       0      1        0   \n",
       "...   ...      ...  ...        ...       ...      ...     ...    ...      ...   \n",
       "3515    1        0  ...          0         0        0       1      0        0   \n",
       "3546    0        0  ...          0         0        0       1      0        0   \n",
       "3574    0        0  ...          0         0        0       1      1        0   \n",
       "3586    0        0  ...          0         0        0       1      0        0   \n",
       "3591    0        0  ...          0         0        0       0      1        0   \n",
       "\n",
       "      Mystery  Children's  Adventure  Crime  \n",
       "0           0           1          0      0  \n",
       "5           0           0          0      1  \n",
       "16          0           0          0      0  \n",
       "28          0           0          1      0  \n",
       "31          0           0          0      0  \n",
       "...       ...         ...        ...    ...  \n",
       "3515        0           0          0      0  \n",
       "3546        0           0          0      0  \n",
       "3574        0           0          0      0  \n",
       "3586        0           0          0      0  \n",
       "3591        0           0          0      0  \n",
       "\n",
       "[391 rows x 21 columns]"
      ]
     },
     "execution_count": 65,
     "metadata": {},
     "output_type": "execute_result"
    }
   ],
   "source": [
    "hit_movies = [i for i in range(len(movies)) if movies_count[i] >= 285 and movies_ratings[i] >= 4.0]\n",
    "\n",
    "hit_movies = movies.loc[hit_movies]\n",
    "\n",
    "hit_movies"
   ]
  },
  {
   "cell_type": "markdown",
   "id": "3e25f68d",
   "metadata": {},
   "source": [
    "영화의 취향이 결정되는 다른 정보가 있으면 좋겠지만 주어진 데이터셋은 장르만 확인할 수 있기 때문에\n",
    "\n",
    "장르만 가지고 각 영화끼리의 코사인 유사도만 구해보겠습니다."
   ]
  },
  {
   "cell_type": "code",
   "execution_count": 66,
   "id": "f9182865",
   "metadata": {},
   "outputs": [
    {
     "name": "stdout",
     "output_type": "stream",
     "text": [
      "[[1.         0.         0.         ... 0.40824829 0.57735027 0.        ]\n",
      " [0.         1.         0.         ... 0.         0.         0.        ]\n",
      " [0.         0.         1.         ... 0.5        0.         0.70710678]\n",
      " ...\n",
      " [0.40824829 0.         0.5        ... 1.         0.70710678 0.70710678]\n",
      " [0.57735027 0.         0.         ... 0.70710678 1.         0.        ]\n",
      " [0.         0.         0.70710678 ... 0.70710678 0.         1.        ]]\n",
      "(391, 391)\n"
     ]
    }
   ],
   "source": [
    "from sklearn.metrics.pairwise import cosine_similarity\n",
    "\n",
    "cosine_sim = cosine_similarity(hit_movies.drop(['movie_id', 'title', 'genre'], axis=1).reset_index(drop=True))\n",
    "\n",
    "print(cosine_sim)\n",
    "print(cosine_sim.shape)"
   ]
  },
  {
   "cell_type": "markdown",
   "id": "c89ff7f1",
   "metadata": {},
   "source": [
    "인덱스를 `movie_id`로 따로 지정할 수가 없으니 이번에도 행렬 벡터에 빈 인덱스가 없도록 정렬하면서\n",
    "\n",
    "행렬 벡터의 코사인 유사도를 구해주는 모듈에 집어넣습니다."
   ]
  },
  {
   "cell_type": "code",
   "execution_count": 67,
   "id": "96e000ce",
   "metadata": {},
   "outputs": [
    {
     "name": "stdout",
     "output_type": "stream",
     "text": [
      "Toy Story (1995) 와 비슷한 영화\n",
      "----------------------------------------\n",
      "Toy Story 2 (1999)            , 유사도: 1.0000000000000002, id: 337\n",
      "Chicken Run (2000)            , 유사도: 1.0000000000000002, id: 383\n",
      "Wrong Trousers, The (1993)    , 유사도: 0.816496580927726, id: 114\n",
      "Grand Day Out, A (1992)       , 유사도: 0.816496580927726, id: 142\n",
      "Secret of NIMH, The (1982)    , 유사도: 0.816496580927726, id: 261\n"
     ]
    }
   ],
   "source": [
    "similar_movies = list(enumerate(cosine_sim[0]))\n",
    "\n",
    "sorted_similar_movies = sorted(similar_movies, key=lambda x:x[1], reverse=True)[1:]\n",
    "\n",
    "print('Toy Story (1995) 와 비슷한 영화')\n",
    "print('-'*40)\n",
    "for item in sorted_similar_movies[:5]:\n",
    "    movie_id = hit_movies.iloc[item[0]].title\n",
    "    print(f'{movie_id.ljust(30)}, 유사도: {item[1]}, id: {item[0]}')"
   ]
  },
  {
   "cell_type": "markdown",
   "id": "dc4678e8",
   "metadata": {},
   "source": [
    "번외같은 느낌으로 진행하는 거라 그냥 `hit_movies`의 토이 스토리 인덱스를 따로 외워뒀습니다.\n",
    "\n",
    "토이 스토리와 비슷한 장르를 가진 영화들의 목록이 출력됐습니다.\n",
    "\n",
    "특히 유사도가 1이란 것은 장르가 완전히 일치했다는 뜻인데 인기 영화를 미리 추려냈기에 다행히 우려했던 상황은 방지했습니다."
   ]
  },
  {
   "cell_type": "code",
   "execution_count": 68,
   "id": "f760ba95",
   "metadata": {
    "scrolled": false
   },
   "outputs": [
    {
     "data": {
      "text/plain": [
       "movie_id                                 0\n",
       "title                     Toy Story (1995)\n",
       "genre          Animation|Children's|Comedy\n",
       "Film-Noir                                0\n",
       "Sci-Fi                                   0\n",
       "Western                                  0\n",
       "Action                                   0\n",
       "Horror                                   0\n",
       "War                                      0\n",
       "Musical                                  0\n",
       "Documentary                              0\n",
       "Animation                                1\n",
       "Thriller                                 0\n",
       "Fantasy                                  0\n",
       "Comedy                                   1\n",
       "Drama                                    0\n",
       "Romance                                  0\n",
       "Mystery                                  0\n",
       "Children's                               1\n",
       "Adventure                                0\n",
       "Crime                                    0\n",
       "Name: 0, dtype: object"
      ]
     },
     "execution_count": 68,
     "metadata": {},
     "output_type": "execute_result"
    }
   ],
   "source": [
    "hit_movies.iloc[0]"
   ]
  },
  {
   "cell_type": "markdown",
   "id": "56661ddf",
   "metadata": {},
   "source": [
    "토이 스토리의 장르는 Animation | Children's | Comedy 입니다."
   ]
  },
  {
   "cell_type": "code",
   "execution_count": 69,
   "id": "d1dda4e7",
   "metadata": {},
   "outputs": [
    {
     "data": {
      "text/plain": [
       "movie_id                              2845\n",
       "title                   Toy Story 2 (1999)\n",
       "genre          Animation|Children's|Comedy\n",
       "Film-Noir                                0\n",
       "Sci-Fi                                   0\n",
       "Western                                  0\n",
       "Action                                   0\n",
       "Horror                                   0\n",
       "War                                      0\n",
       "Musical                                  0\n",
       "Documentary                              0\n",
       "Animation                                1\n",
       "Thriller                                 0\n",
       "Fantasy                                  0\n",
       "Comedy                                   1\n",
       "Drama                                    0\n",
       "Romance                                  0\n",
       "Mystery                                  0\n",
       "Children's                               1\n",
       "Adventure                                0\n",
       "Crime                                    0\n",
       "Name: 2845, dtype: object"
      ]
     },
     "execution_count": 69,
     "metadata": {},
     "output_type": "execute_result"
    }
   ],
   "source": [
    "hit_movies.iloc[337]"
   ]
  },
  {
   "cell_type": "markdown",
   "id": "03c3a022",
   "metadata": {},
   "source": [
    "토이 스토리 2의 장르도 Animation | Children's | Comedy 이구요."
   ]
  },
  {
   "cell_type": "code",
   "execution_count": 70,
   "id": "4c98e487",
   "metadata": {},
   "outputs": [
    {
     "data": {
      "text/plain": [
       "movie_id                              3433\n",
       "title                   Chicken Run (2000)\n",
       "genre          Animation|Children's|Comedy\n",
       "Film-Noir                                0\n",
       "Sci-Fi                                   0\n",
       "Western                                  0\n",
       "Action                                   0\n",
       "Horror                                   0\n",
       "War                                      0\n",
       "Musical                                  0\n",
       "Documentary                              0\n",
       "Animation                                1\n",
       "Thriller                                 0\n",
       "Fantasy                                  0\n",
       "Comedy                                   1\n",
       "Drama                                    0\n",
       "Romance                                  0\n",
       "Mystery                                  0\n",
       "Children's                               1\n",
       "Adventure                                0\n",
       "Crime                                    0\n",
       "Name: 3433, dtype: object"
      ]
     },
     "execution_count": 70,
     "metadata": {},
     "output_type": "execute_result"
    }
   ],
   "source": [
    "hit_movies.iloc[383]"
   ]
  },
  {
   "cell_type": "markdown",
   "id": "38d79e84",
   "metadata": {},
   "source": [
    "같이 유사도가 1이 나왔던 `Chicken Run`의 장르 또한 Animation | Children's | Comedy 입니다."
   ]
  },
  {
   "cell_type": "code",
   "execution_count": 71,
   "id": "7542b2c1",
   "metadata": {},
   "outputs": [
    {
     "data": {
      "text/plain": [
       "movie_id                             1041\n",
       "title          Wrong Trousers, The (1993)\n",
       "genre                    Animation|Comedy\n",
       "Film-Noir                               0\n",
       "Sci-Fi                                  0\n",
       "Western                                 0\n",
       "Action                                  0\n",
       "Horror                                  0\n",
       "War                                     0\n",
       "Musical                                 0\n",
       "Documentary                             0\n",
       "Animation                               1\n",
       "Thriller                                0\n",
       "Fantasy                                 0\n",
       "Comedy                                  1\n",
       "Drama                                   0\n",
       "Romance                                 0\n",
       "Mystery                                 0\n",
       "Children's                              0\n",
       "Adventure                               0\n",
       "Crime                                   0\n",
       "Name: 1041, dtype: object"
      ]
     },
     "execution_count": 71,
     "metadata": {},
     "output_type": "execute_result"
    }
   ],
   "source": [
    "hit_movies.iloc[114]"
   ]
  },
  {
   "cell_type": "markdown",
   "id": "3944f96a",
   "metadata": {},
   "source": [
    "`Wrong Trousers`는 장르가 Animation | Comedy 로 하나가 빗나가면서 코사인 유사도가 0.8이 나왔군요."
   ]
  },
  {
   "cell_type": "markdown",
   "id": "63ca7a4d",
   "metadata": {},
   "source": [
    "## 마무리하며\n",
    "\n",
    "저희가 작성한 프로젝트는 아카이빙이 되지 못한다 라고 말씀을 들은 적이 있습니다.\n",
    "\n",
    "심지어 프로젝트 10은 제 실수로 깃허브 링크가 깨져서 미평가되는 일도 발생했습니다.\n",
    "\n",
    "하지만 저에게 있어서 프로젝트는 공부의 목적이 짙습니다.\n",
    "\n",
    "이해가 안가던 부분도 프로젝트를 완성하고 나면 말끔하게 해결됩니다.\n",
    "\n",
    "가끔 이해가 덜 되는 부분도 있긴 한데 가렵던 게 사라지는 정도는 해소가 됩니다.\n",
    "\n",
    "그래서 제가 작성한 프로젝트가 아무 곳에도 쓰이지 못한다 해도 생각보다 크게 상심이 가진 않을 것 같습니다.\n",
    "\n",
    "역시 저는 글로 백 번 보는 것보다 코드로 한 번 부딪혀보는 게 더 이해가 잘 되는 것 같습니다.\n",
    "\n",
    "그래도 링크가 또 깨질까봐 겁은 나는군요...\n",
    "\n",
    "추천 알고리즘은 의외로 성능이 좋아 꽤 재밌었습니다.\n",
    "\n",
    "분명 프로젝트를 시작하기 전까지만 해도 Fundamental.28 추천시스템 입문도 다 이해 못했었습니다.\n",
    "\n",
    "그런데 전처리를 하고 모델에 넣고 오류를 해결하고 성능을 확인하니 자연스럽게 불이 붙어 번외로 콘텐츠 기반 필터링도 시도해보게 됐습니다.\n",
    "\n",
    "다양한 전처리를 실험해볼 수 있었던 것도 좋은 것 같습니다. LG유플러스 경진대회 데이터셋도 이렇게 나와준다면 얼마나 좋을까요.\n",
    "\n",
    "\n",
    "~~오늘에일기 끗~~"
   ]
  }
 ],
 "metadata": {
  "kernelspec": {
   "display_name": "Python 3 (ipykernel)",
   "language": "python",
   "name": "python3"
  },
  "language_info": {
   "codemirror_mode": {
    "name": "ipython",
    "version": 3
   },
   "file_extension": ".py",
   "mimetype": "text/x-python",
   "name": "python",
   "nbconvert_exporter": "python",
   "pygments_lexer": "ipython3",
   "version": "3.9.7"
  }
 },
 "nbformat": 4,
 "nbformat_minor": 5
}
